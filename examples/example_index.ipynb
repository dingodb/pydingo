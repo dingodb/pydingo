{
 "cells": [
  {
   "cell_type": "code",
   "execution_count": 1,
   "metadata": {},
   "outputs": [],
   "source": [
    "import dingodb\n",
    "import numpy as np"
   ]
  },
  {
   "cell_type": "code",
   "execution_count": 2,
   "metadata": {},
   "outputs": [],
   "source": [
    "# x = dingodb.DingoDB(\"user\", \"password\", [\"172.20.61.107:13000\"])\n",
    "x = dingodb.DingoDB(\"user\", \"password\", [\"172.30.14.220:13000\"])"
   ]
  },
  {
   "cell_type": "code",
   "execution_count": 3,
   "metadata": {},
   "outputs": [],
   "source": [
    "index_name = \"test_index\""
   ]
  },
  {
   "cell_type": "code",
   "execution_count": 4,
   "metadata": {},
   "outputs": [
    {
     "data": {
      "text/plain": [
       "True"
      ]
     },
     "execution_count": 4,
     "metadata": {},
     "output_type": "execute_result"
    }
   ],
   "source": [
    "# create_index\n",
    "# help(x.create_index)\n",
    "x.create_index(index_name, 6, \"hnsw\", \"euclidean\", 3, {}, {}, {}, [5,10,15,20])\n",
    "\n",
    "# return \n",
    "    # b1 = True\n",
    "    # RuntimeError"
   ]
  },
  {
   "cell_type": "code",
   "execution_count": 5,
   "metadata": {},
   "outputs": [
    {
     "data": {
      "text/plain": [
       "{'name': 'test_index',\n",
       " 'version': 0,\n",
       " 'replica': 3,\n",
       " 'isAutoIncrement': True,\n",
       " 'autoIncrement': 1,\n",
       " 'indexParameter': {'indexType': 'INDEX_TYPE_VECTOR',\n",
       "  'vectorIndexParameter': {'vectorIndexType': 'VECTOR_INDEX_TYPE_HNSW',\n",
       "   'flatParam': None,\n",
       "   'ivfFlatParam': None,\n",
       "   'ivfPqParam': None,\n",
       "   'hnswParam': {'dimension': 6,\n",
       "    'metricType': 'METRIC_TYPE_L2',\n",
       "    'efConstruction': 200,\n",
       "    'maxElements': 50000,\n",
       "    'nlinks': 32},\n",
       "   'diskAnnParam': None},\n",
       "  'scalarIndexParameter': None},\n",
       " 'indexPartition': {'funcName': 'RANGE',\n",
       "  'cols': [],\n",
       "  'details': [{'partName': '', 'operator': '', 'operand': [5]},\n",
       "   {'partName': '', 'operator': '', 'operand': [10]},\n",
       "   {'partName': '', 'operator': '', 'operand': [15]},\n",
       "   {'partName': '', 'operator': '', 'operand': [20]}]}}"
      ]
     },
     "execution_count": 5,
     "metadata": {},
     "output_type": "execute_result"
    }
   ],
   "source": [
    "# describe_index_info\n",
    "x.describe_index_info(index_name)\n",
    "\n",
    "# Return \n",
    "    # error: RuntimeError"
   ]
  },
  {
   "cell_type": "code",
   "execution_count": 6,
   "metadata": {},
   "outputs": [],
   "source": [
    "# make dataset\n",
    "# 构建训练数据和查询数据\n",
    "d = 6                           # dimension\n",
    "nb = 4                      # database size\n",
    "np.random.seed(1234)             # make reproducible\n",
    "xb = np.random.random((nb, d)).astype('float32')\n",
    "xb[:, 0] += np.arange(nb) / 1000.\n",
    "\n",
    "ids = [1, 2, 3, 4]\n",
    "datas = [{\"a1\": \"b1\"}, {\"a2\": \"b2\"}, {\"a3\": \"b3\"}, {\"a4\": \"b4\"}]\n",
    "vectors = xb.tolist()"
   ]
  },
  {
   "cell_type": "code",
   "execution_count": 7,
   "metadata": {},
   "outputs": [
    {
     "data": {
      "text/plain": [
       "[{'id': 1,\n",
       "  'vector': {'dimension': 6,\n",
       "   'valueType': 'FLOAT',\n",
       "   'floatValues': [0.19151945,\n",
       "    0.62210876,\n",
       "    0.43772775,\n",
       "    0.7853586,\n",
       "    0.77997583,\n",
       "    0.2725926],\n",
       "   'binaryValues': []},\n",
       "  'scalarData': {'a1': {'fieldType': 'STRING', 'fields': [{'data': 'b1'}]}}},\n",
       " {'id': 2,\n",
       "  'vector': {'dimension': 6,\n",
       "   'valueType': 'FLOAT',\n",
       "   'floatValues': [0.27746424,\n",
       "    0.8018722,\n",
       "    0.95813936,\n",
       "    0.87593263,\n",
       "    0.35781726,\n",
       "    0.5009951],\n",
       "   'binaryValues': []},\n",
       "  'scalarData': {'a2': {'fieldType': 'STRING', 'fields': [{'data': 'b2'}]}}},\n",
       " {'id': 3,\n",
       "  'vector': {'dimension': 6,\n",
       "   'valueType': 'FLOAT',\n",
       "   'floatValues': [0.6854629,\n",
       "    0.71270204,\n",
       "    0.37025076,\n",
       "    0.5611962,\n",
       "    0.50308317,\n",
       "    0.013768449],\n",
       "   'binaryValues': []},\n",
       "  'scalarData': {'a3': {'fieldType': 'STRING', 'fields': [{'data': 'b3'}]}}},\n",
       " {'id': 4,\n",
       "  'vector': {'dimension': 6,\n",
       "   'valueType': 'FLOAT',\n",
       "   'floatValues': [0.77582663,\n",
       "    0.8826412,\n",
       "    0.364886,\n",
       "    0.6153962,\n",
       "    0.07538124,\n",
       "    0.368824],\n",
       "   'binaryValues': []},\n",
       "  'scalarData': {'a4': {'fieldType': 'STRING', 'fields': [{'data': 'b4'}]}}}]"
      ]
     },
     "execution_count": 7,
     "metadata": {},
     "output_type": "execute_result"
    }
   ],
   "source": [
    "# vector_add\n",
    "# ids = [id1, id2, id3]\n",
    "# datas = [{data1key:data1value}, {data2key:data2value}, {data3key:data3value}]\n",
    "# vectors = [[float1_1, float1_2, float1_3], [float2_1, float2_2, float2_3], [float3_1, float3_2, float3_3]]\n",
    "\n",
    "x.vector_add(index_name, datas, vectors, ids)\n",
    "# return \n",
    "    # error RuntimeError"
   ]
  },
  {
   "cell_type": "code",
   "execution_count": 8,
   "metadata": {},
   "outputs": [
    {
     "data": {
      "text/plain": [
       "[{'vectorWithDistances': [{'id': 1,\n",
       "    'vector': {'dimension': 6,\n",
       "     'valueType': 'FLOAT',\n",
       "     'floatValues': [0.19151945,\n",
       "      0.62210876,\n",
       "      0.43772775,\n",
       "      0.7853586,\n",
       "      0.77997583,\n",
       "      0.2725926],\n",
       "     'binaryValues': []},\n",
       "    'scalarData': {'a1': {'fieldType': 'STRING', 'fields': [{'data': 'b1'}]}},\n",
       "    'distance': 0.0,\n",
       "    'metricType': 'METRIC_TYPE_L2'},\n",
       "   {'id': 3,\n",
       "    'vector': {'dimension': 6,\n",
       "     'valueType': 'FLOAT',\n",
       "     'floatValues': [0.6854629,\n",
       "      0.71270204,\n",
       "      0.37025076,\n",
       "      0.5611962,\n",
       "      0.50308317,\n",
       "      0.013768449],\n",
       "     'binaryValues': []},\n",
       "    'scalarData': {'a3': {'fieldType': 'STRING', 'fields': [{'data': 'b3'}]}},\n",
       "    'distance': 0.4506487,\n",
       "    'metricType': 'METRIC_TYPE_L2'},\n",
       "   {'id': 2,\n",
       "    'vector': {'dimension': 6,\n",
       "     'valueType': 'FLOAT',\n",
       "     'floatValues': [0.27746424,\n",
       "      0.8018722,\n",
       "      0.95813936,\n",
       "      0.87593263,\n",
       "      0.35781726,\n",
       "      0.5009951],\n",
       "     'binaryValues': []},\n",
       "    'scalarData': {'a2': {'fieldType': 'STRING', 'fields': [{'data': 'b2'}]}},\n",
       "    'distance': 0.5491189,\n",
       "    'metricType': 'METRIC_TYPE_L2'},\n",
       "   {'id': 4,\n",
       "    'vector': {'dimension': 6,\n",
       "     'valueType': 'FLOAT',\n",
       "     'floatValues': [0.77582663,\n",
       "      0.8826412,\n",
       "      0.364886,\n",
       "      0.6153962,\n",
       "      0.07538124,\n",
       "      0.368824],\n",
       "     'binaryValues': []},\n",
       "    'scalarData': {'a4': {'fieldType': 'STRING', 'fields': [{'data': 'b4'}]}},\n",
       "    'distance': 0.9491992,\n",
       "    'metricType': 'METRIC_TYPE_L2'}]}]"
      ]
     },
     "execution_count": 8,
     "metadata": {},
     "output_type": "execute_result"
    }
   ],
   "source": [
    "# vector_search\n",
    "x.vector_search(index_name, vectors[0])\n",
    "# return \n",
    "    # error RuntimeError"
   ]
  },
  {
   "cell_type": "code",
   "execution_count": 9,
   "metadata": {},
   "outputs": [
    {
     "data": {
      "text/plain": [
       "[{'vectorWithDistances': [{'id': 1,\n",
       "    'vector': {'dimension': 6,\n",
       "     'valueType': 'FLOAT',\n",
       "     'floatValues': [0.19151945,\n",
       "      0.62210876,\n",
       "      0.43772775,\n",
       "      0.7853586,\n",
       "      0.77997583,\n",
       "      0.2725926],\n",
       "     'binaryValues': []},\n",
       "    'scalarData': {'a1': {'fieldType': 'STRING', 'fields': [{'data': 'b1'}]}},\n",
       "    'distance': 0.0,\n",
       "    'metricType': 'METRIC_TYPE_L2'}]}]"
      ]
     },
     "execution_count": 9,
     "metadata": {},
     "output_type": "execute_result"
    }
   ],
   "source": [
    "# vector_search with pre_filter or post_filter\n",
    "x.vector_search(index_name, vectors[0], 10, {\"meta_expr\": {\"a1\": \"b1\"}})"
   ]
  },
  {
   "cell_type": "code",
   "execution_count": 10,
   "metadata": {},
   "outputs": [
    {
     "data": {
      "text/plain": [
       "[{'vectorWithDistances': [{'id': 1,\n",
       "    'vector': {'dimension': 6,\n",
       "     'valueType': 'FLOAT',\n",
       "     'floatValues': [0.19151945,\n",
       "      0.62210876,\n",
       "      0.43772775,\n",
       "      0.7853586,\n",
       "      0.77997583,\n",
       "      0.2725926],\n",
       "     'binaryValues': []},\n",
       "    'scalarData': {'a1': {'fieldType': 'STRING', 'fields': [{'data': 'b1'}]}},\n",
       "    'distance': 0.0,\n",
       "    'metricType': 'METRIC_TYPE_L2'}]}]"
      ]
     },
     "execution_count": 10,
     "metadata": {},
     "output_type": "execute_result"
    }
   ],
   "source": [
    "x.vector_search(index_name, vectors[0], 10, {\"meta_expr\": {\"a1\": \"b1\"}}, pre_filter=False)"
   ]
  },
  {
   "cell_type": "code",
   "execution_count": 11,
   "metadata": {},
   "outputs": [
    {
     "data": {
      "text/plain": [
       "[{'id': 1,\n",
       "  'vector': {'dimension': 6,\n",
       "   'valueType': 'FLOAT',\n",
       "   'floatValues': [0.19151945,\n",
       "    0.62210876,\n",
       "    0.43772775,\n",
       "    0.7853586,\n",
       "    0.77997583,\n",
       "    0.2725926],\n",
       "   'binaryValues': []},\n",
       "  'scalarData': {'a1': {'fieldType': 'STRING', 'fields': [{'data': 'b1'}]}}},\n",
       " {'id': 2,\n",
       "  'vector': {'dimension': 6,\n",
       "   'valueType': 'FLOAT',\n",
       "   'floatValues': [0.27746424,\n",
       "    0.8018722,\n",
       "    0.95813936,\n",
       "    0.87593263,\n",
       "    0.35781726,\n",
       "    0.5009951],\n",
       "   'binaryValues': []},\n",
       "  'scalarData': {'a2': {'fieldType': 'STRING', 'fields': [{'data': 'b2'}]}}},\n",
       " {'id': 3,\n",
       "  'vector': {'dimension': 6,\n",
       "   'valueType': 'FLOAT',\n",
       "   'floatValues': [0.6854629,\n",
       "    0.71270204,\n",
       "    0.37025076,\n",
       "    0.5611962,\n",
       "    0.50308317,\n",
       "    0.013768449],\n",
       "   'binaryValues': []},\n",
       "  'scalarData': {'a3': {'fieldType': 'STRING', 'fields': [{'data': 'b3'}]}}}]"
      ]
     },
     "execution_count": 11,
     "metadata": {},
     "output_type": "execute_result"
    }
   ],
   "source": [
    "# get index with id\n",
    "x.vector_get(index_name, [1, 2, 3])\n",
    "# return \n",
    "    # error RuntimeError"
   ]
  },
  {
   "cell_type": "code",
   "execution_count": 12,
   "metadata": {},
   "outputs": [
    {
     "data": {
      "text/plain": [
       "[True, True, True]"
      ]
     },
     "execution_count": 12,
     "metadata": {},
     "output_type": "execute_result"
    }
   ],
   "source": [
    "# vector delete with id\n",
    "x.vector_delete(index_name, [1, 2, 3])\n",
    "# return \n",
    "    # error RuntimeError"
   ]
  },
  {
   "cell_type": "code",
   "execution_count": 13,
   "metadata": {},
   "outputs": [
    {
     "data": {
      "text/plain": [
       "True"
      ]
     },
     "execution_count": 13,
     "metadata": {},
     "output_type": "execute_result"
    }
   ],
   "source": [
    "# update_index_max_element\n",
    "\n",
    "x.update_index_max_element(index_name, 50001)\n",
    "# return \n",
    "    # error RuntimeError"
   ]
  },
  {
   "cell_type": "code",
   "execution_count": 14,
   "metadata": {},
   "outputs": [
    {
     "data": {
      "text/plain": [
       "[{'id': 4,\n",
       "  'vector': {'dimension': 6,\n",
       "   'valueType': 'FLOAT',\n",
       "   'floatValues': [0.77582663,\n",
       "    0.8826412,\n",
       "    0.364886,\n",
       "    0.6153962,\n",
       "    0.07538124,\n",
       "    0.368824],\n",
       "   'binaryValues': []},\n",
       "  'scalarData': {'a4': {'fieldType': 'STRING', 'fields': [{'data': 'b4'}]}}}]"
      ]
     },
     "execution_count": 14,
     "metadata": {},
     "output_type": "execute_result"
    }
   ],
   "source": [
    "# Add: scan\n",
    "x.vector_scan(index_name, 1, 2)\n",
    "# return \n",
    "    # error RuntimeError"
   ]
  },
  {
   "cell_type": "code",
   "execution_count": 15,
   "metadata": {},
   "outputs": [
    {
     "data": {
      "text/plain": [
       "[]"
      ]
     },
     "execution_count": 15,
     "metadata": {},
     "output_type": "execute_result"
    }
   ],
   "source": [
    "# scan with filter_scalar\n",
    "x.vector_scan(index_name, 1, 2, filter_scalar={\"a2\": \"b2\"})"
   ]
  },
  {
   "cell_type": "code",
   "execution_count": 16,
   "metadata": {},
   "outputs": [
    {
     "data": {
      "text/plain": [
       "1"
      ]
     },
     "execution_count": 16,
     "metadata": {},
     "output_type": "execute_result"
    }
   ],
   "source": [
    "# Add vector count \n",
    "x.vector_count(index_name)\n",
    "# return \n",
    "    # error RuntimeError"
   ]
  },
  {
   "cell_type": "code",
   "execution_count": 17,
   "metadata": {},
   "outputs": [
    {
     "data": {
      "text/plain": [
       "True"
      ]
     },
     "execution_count": 17,
     "metadata": {},
     "output_type": "execute_result"
    }
   ],
   "source": [
    "# delete_index\n",
    "x.delete_index(index_name)"
   ]
  }
 ],
 "metadata": {
  "kernelspec": {
   "display_name": "langchain",
   "language": "python",
   "name": "python3"
  },
  "language_info": {
   "codemirror_mode": {
    "name": "ipython",
    "version": 3
   },
   "file_extension": ".py",
   "mimetype": "text/x-python",
   "name": "python",
   "nbconvert_exporter": "python",
   "pygments_lexer": "ipython3",
   "version": "3.10.11"
  },
  "orig_nbformat": 4
 },
 "nbformat": 4,
 "nbformat_minor": 2
}
