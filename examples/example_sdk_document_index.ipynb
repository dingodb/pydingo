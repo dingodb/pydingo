{
 "cells": [
  {
   "metadata": {},
   "cell_type": "code",
   "outputs": [
    {
     "name": "stdout",
     "output_type": "stream",
     "text": [
      "<dingodb.sdk_document.sdk_document_db.SDKDocumentDingoDB object at 0x7f5f1c1d27c0>\n"
     ]
    }
   ],
   "execution_count": 1,
   "source": [
    "from dingodb import SDKDocumentDingoDB, SDKClient\n",
    "from dingodb.common.document_rep import DocumentType, DocumentColumn, DocumentSchema\n",
    "\n",
    "\n",
    "addrs = \"127.0.0.1:22001,127.0.0.1:22002,127.0.0.1:22003\"\n",
    "sdk_client = SDKClient(addrs)\n",
    "\n",
    "x = SDKDocumentDingoDB(sdk_client)\n",
    "print(x)\n",
    "\n",
    "index_name = \"document_test_index_grpc\""
   ]
  },
  {
   "metadata": {},
   "cell_type": "code",
   "outputs": [
    {
     "name": "stdout",
     "output_type": "stream",
     "text": [
      "True\n"
     ]
    }
   ],
   "execution_count": 2,
   "source": [
    "# delete_index\n",
    "delete_index_out = x.delete_index(index_name)\n",
    "print(delete_index_out)"
   ]
  },
  {
   "metadata": {},
   "cell_type": "code",
   "outputs": [
    {
     "name": "stdout",
     "output_type": "stream",
     "text": [
      "True\n"
     ]
    }
   ],
   "execution_count": 3,
   "source": [
    "import time\n",
    "\n",
    "# create_index\n",
    "scheme =  DocumentSchema()\n",
    "col = DocumentColumn(\"text\", DocumentType.STRING)\n",
    "scheme.add_document_column(col)\n",
    "col = DocumentColumn(\"i64\", DocumentType.INT64)\n",
    "scheme.add_document_column(col)\n",
    "col = DocumentColumn(\"f64\", DocumentType.DOUBLE)\n",
    "scheme.add_document_column(col)\n",
    "col = DocumentColumn(\"bytes\", DocumentType.BYTES)\n",
    "scheme.add_document_column(col)\n",
    "\n",
    "create_index_out = x.create_index(index_name, scheme, 3, operand=[5, 10, 20])\n",
    "# create_index_out = x.create_index(index_name, scheme, 3)\n",
    "print(create_index_out)\n",
    "time.sleep(5)"
   ]
  },
  {
   "metadata": {},
   "cell_type": "code",
   "outputs": [
    {
     "name": "stdout",
     "output_type": "stream",
     "text": [
      "document_add .......\n",
      "[{'id': 3, 'doc': {'bytes': {'type': 'BYTES', 'value': 'bytes_data_0'}, 'f64': {'type': 'DOUBLE', 'value': 1000.0}, 'i64': {'type': 'INT64', 'value': 1000}, 'text': {'type': 'STRING', 'value': \"Ancient empires rise and fall, shaping history's course.\"}}}, {'id': 5, 'doc': {'bytes': {'type': 'BYTES', 'value': 'bytes_data_1'}, 'f64': {'type': 'DOUBLE', 'value': 1001.0}, 'i64': {'type': 'INT64', 'value': 1001}, 'text': {'type': 'STRING', 'value': 'Artistic expressions reflect diverse cultural heritages.'}}}, {'id': 7, 'doc': {'bytes': {'type': 'BYTES', 'value': 'bytes_data_2'}, 'f64': {'type': 'DOUBLE', 'value': 1002.0}, 'i64': {'type': 'INT64', 'value': 1002}, 'text': {'type': 'STRING', 'value': 'Social movements transform societies, forging new paths.'}}}, {'id': 9, 'doc': {'bytes': {'type': 'BYTES', 'value': 'bytes_data_3'}, 'f64': {'type': 'DOUBLE', 'value': 1003.0}, 'i64': {'type': 'INT64', 'value': 1003}, 'text': {'type': 'STRING', 'value': 'Economies fluctuate, reflecting the complex interplay of global forces.'}}}, {'id': 11, 'doc': {'bytes': {'type': 'BYTES', 'value': 'bytes_data_4'}, 'f64': {'type': 'DOUBLE', 'value': 1004.0}, 'i64': {'type': 'INT64', 'value': 1004}, 'text': {'type': 'STRING', 'value': 'Strategic military campaigns alter the balance of power.'}}}, {'id': 13, 'doc': {'bytes': {'type': 'BYTES', 'value': 'bytes_data_5'}, 'f64': {'type': 'DOUBLE', 'value': 1005.0}, 'i64': {'type': 'INT64', 'value': 1005}, 'text': {'type': 'STRING', 'value': 'Quantum leaps redefine understanding of physical laws.'}}}, {'id': 15, 'doc': {'bytes': {'type': 'BYTES', 'value': 'bytes_data_6'}, 'f64': {'type': 'DOUBLE', 'value': 1006.0}, 'i64': {'type': 'INT64', 'value': 1006}, 'text': {'type': 'STRING', 'value': 'Chemical reactions unlock mysteries of nature.'}}}, {'id': 17, 'doc': {'bytes': {'type': 'BYTES', 'value': 'bytes_data_7'}, 'f64': {'type': 'DOUBLE', 'value': 1007.0}, 'i64': {'type': 'INT64', 'value': 1007}, 'text': {'type': 'STRING', 'value': 'Philosophical debates ponder the essence of existence.'}}}, {'id': 19, 'doc': {'bytes': {'type': 'BYTES', 'value': 'bytes_data_8'}, 'f64': {'type': 'DOUBLE', 'value': 1008.0}, 'i64': {'type': 'INT64', 'value': 1008}, 'text': {'type': 'STRING', 'value': \"Marriages blend traditions, celebrating love's union.\"}}}, {'id': 21, 'doc': {'bytes': {'type': 'BYTES', 'value': 'bytes_data_9'}, 'f64': {'type': 'DOUBLE', 'value': 1009.0}, 'i64': {'type': 'INT64', 'value': 1009}, 'text': {'type': 'STRING', 'value': 'Explorers discover uncharted territories, expanding world maps.'}}}]\n"
     ]
    }
   ],
   "execution_count": 4,
   "source": [
    "# make dataset\n",
    "# 构建训练数据和查询数据\n",
    "ids = [3, 5, 7, 9, 11, 13, 15, 17, 19, 21]\n",
    "documents = [\n",
    "    {\"text\" : \"Ancient empires rise and fall, shaping history's course.\", \"i64\" : 1000, \"f64\" : 1000.0, \"bytes\" : \"bytes_data_0\"},\n",
    "    {\"text\" : \"Artistic expressions reflect diverse cultural heritages.\", \"i64\" : 1001, \"f64\" : 1001.0, \"bytes\" : \"bytes_data_1\"},\n",
    "    {\"text\" : \"Social movements transform societies, forging new paths.\", \"i64\" : 1002, \"f64\" : 1002.0, \"bytes\" : \"bytes_data_2\"},\n",
    "    {\"text\" : \"Economies fluctuate, reflecting the complex interplay of global forces.\", \"i64\" : 1003, \"f64\" : 1003.0, \"bytes\" : \"bytes_data_3\"},\n",
    "    {\"text\" : \"Strategic military campaigns alter the balance of power.\", \"i64\" : 1004, \"f64\" : 1004.0, \"bytes\" : \"bytes_data_4\"},\n",
    "    {\"text\" : \"Quantum leaps redefine understanding of physical laws.\", \"i64\" : 1005, \"f64\" : 1005.0, \"bytes\" : \"bytes_data_5\"},\n",
    "    {\"text\" : \"Chemical reactions unlock mysteries of nature.\", \"i64\" : 1006, \"f64\" : 1006.0, \"bytes\" : \"bytes_data_6\"},\n",
    "    {\"text\" : \"Philosophical debates ponder the essence of existence.\", \"i64\" : 1007, \"f64\" : 1007.0, \"bytes\" : \"bytes_data_7\"},\n",
    "    {\"text\" : \"Marriages blend traditions, celebrating love's union.\", \"i64\" : 1008, \"f64\" : 1008.0, \"bytes\" : \"bytes_data_8\"},\n",
    "    {\"text\" : \"Explorers discover uncharted territories, expanding world maps.\", \"i64\" : 1009, \"f64\" : 1009.0, \"bytes\" : \"bytes_data_9\"},\n",
    "]\n",
    "\n",
    "document_add_out = x.document_add(index_name, documents, ids)\n",
    "print(document_add_out)"
   ]
  },
  {
   "metadata": {},
   "cell_type": "code",
   "outputs": [
    {
     "name": "stdout",
     "output_type": "stream",
     "text": [
      "document_search ......\n",
      "[{'id': 21, 'doc': {'text': {'type': 'STRING', 'value': 'Explorers discover uncharted territories, expanding world maps.'}, 'i64': {'type': 'INT64', 'value': 1009}}, 'score': 0.28768211603164673}]\n",
      "document_search ......\n",
      "[{'id': 21, 'doc': {'text': {'type': 'STRING', 'value': 'Explorers discover uncharted territories, expanding world maps.'}, 'bytes': {'type': 'BYTES', 'value': 'bytes_data_9'}, 'i64': {'type': 'INT64', 'value': 1009}, 'f64': {'type': 'DOUBLE', 'value': 1009.0}}, 'score': 0.28768211603164673}]\n"
     ]
    }
   ],
   "execution_count": 5,
   "source": [
    "# document_search\n",
    "document_search_out = x.document_search(index_name, \"discover\", 5, with_scalar_data=True, selected_keys=[\"text\", \"i64\"])\n",
    "print(document_search_out)\n",
    "document_search_out = x.document_search(index_name, \"discover\", 5, with_scalar_data=True)\n",
    "print(document_search_out)"
   ]
  },
  {
   "metadata": {},
   "cell_type": "code",
   "outputs": [
    {
     "name": "stdout",
     "output_type": "stream",
     "text": [
      "document_search ......\n",
      "[{'id': 9, 'doc': {}, 'score': 0.8934285640716553}, {'id': 15, 'doc': {}, 'score': 0.3071492910385132}, {'id': 13, 'doc': {}, 'score': 0.2893492877483368}]\n",
      "document_search ......\n",
      "[{'id': 9, 'doc': {}, 'score': 0.8934285640716553}, {'id': 11, 'doc': {}, 'score': 0.27349936962127686}]\n"
     ]
    }
   ],
   "execution_count": 6,
   "source": [
    "document_search_out = x.document_search(index_name, \"of\", 3)\n",
    "print(document_search_out)\n",
    "document_search_out = x.document_search(index_name, \"of\", 3, True, [5, 7, 9, 11])\n",
    "print(document_search_out)"
   ]
  },
  {
   "metadata": {},
   "cell_type": "code",
   "outputs": [
    {
     "name": "stdout",
     "output_type": "stream",
     "text": [
      "document_query ......\n",
      "[{'id': 21, 'doc': {'i64': {'type': 'INT64', 'value': 1009}, 'text': {'type': 'STRING', 'value': 'Explorers discover uncharted territories, expanding world maps.'}}}, {'id': 11, 'doc': {'text': {'type': 'STRING', 'value': 'Strategic military campaigns alter the balance of power.'}, 'i64': {'type': 'INT64', 'value': 1004}}}, {'id': 13, 'doc': {'i64': {'type': 'INT64', 'value': 1005}, 'text': {'type': 'STRING', 'value': 'Quantum leaps redefine understanding of physical laws.'}}}, {'id': 15, 'doc': {'i64': {'type': 'INT64', 'value': 1006}, 'text': {'type': 'STRING', 'value': 'Chemical reactions unlock mysteries of nature.'}}}, {'id': 17, 'doc': {'text': {'type': 'STRING', 'value': 'Philosophical debates ponder the essence of existence.'}, 'i64': {'type': 'INT64', 'value': 1007}}}, {'id': 19, 'doc': {'i64': {'type': 'INT64', 'value': 1008}, 'text': {'type': 'STRING', 'value': \"Marriages blend traditions, celebrating love's union.\"}}}, {'id': 5, 'doc': {'text': {'type': 'STRING', 'value': 'Artistic expressions reflect diverse cultural heritages.'}, 'i64': {'type': 'INT64', 'value': 1001}}}, {'id': 7, 'doc': {'text': {'type': 'STRING', 'value': 'Social movements transform societies, forging new paths.'}, 'i64': {'type': 'INT64', 'value': 1002}}}, {'id': 9, 'doc': {'i64': {'type': 'INT64', 'value': 1003}, 'text': {'type': 'STRING', 'value': 'Economies fluctuate, reflecting the complex interplay of global forces.'}}}, {'id': 3, 'doc': {'text': {'type': 'STRING', 'value': \"Ancient empires rise and fall, shaping history's course.\"}, 'i64': {'type': 'INT64', 'value': 1000}}}]\n"
     ]
    }
   ],
   "execution_count": 7,
   "source": [
    "# document_query\n",
    "document_query_out = x.document_query(index_name, ids, True, [\"text\", \"i64\"])\n",
    "print(document_query_out)"
   ]
  },
  {
   "metadata": {},
   "cell_type": "code",
   "outputs": [
    {
     "name": "stdout",
     "output_type": "stream",
     "text": [
      "document_get_border ......\n",
      "21\n",
      "document_get_border ......\n",
      "3\n"
     ]
    }
   ],
   "execution_count": 8,
   "source": [
    "# document_get_border\n",
    "document_get_border_out = x.document_get_border(index_name, True)\n",
    "print(document_get_border_out)\n",
    "document_get_border_out = x.document_get_border(index_name, False)\n",
    "print(document_get_border_out)"
   ]
  },
  {
   "metadata": {},
   "cell_type": "code",
   "outputs": [
    {
     "name": "stdout",
     "output_type": "stream",
     "text": [
      "document_scan_query ......\n",
      "[{'id': 3, 'doc': {'text': {'type': 'STRING', 'value': \"Ancient empires rise and fall, shaping history's course.\"}, 'i64': {'type': 'INT64', 'value': 1000}, 'bytes': {'type': 'BYTES', 'value': 'bytes_data_0'}, 'f64': {'type': 'DOUBLE', 'value': 1000.0}}}, {'id': 5, 'doc': {'text': {'type': 'STRING', 'value': 'Artistic expressions reflect diverse cultural heritages.'}, 'bytes': {'type': 'BYTES', 'value': 'bytes_data_1'}, 'f64': {'type': 'DOUBLE', 'value': 1001.0}, 'i64': {'type': 'INT64', 'value': 1001}}}]\n",
      "document_scan_query ......\n",
      "[{'id': 19, 'doc': {'i64': {'type': 'INT64', 'value': 1008}, 'text': {'type': 'STRING', 'value': \"Marriages blend traditions, celebrating love's union.\"}, 'f64': {'type': 'DOUBLE', 'value': 1008.0}, 'bytes': {'type': 'BYTES', 'value': 'bytes_data_8'}}}, {'id': 17, 'doc': {'f64': {'type': 'DOUBLE', 'value': 1007.0}, 'text': {'type': 'STRING', 'value': 'Philosophical debates ponder the essence of existence.'}, 'bytes': {'type': 'BYTES', 'value': 'bytes_data_7'}, 'i64': {'type': 'INT64', 'value': 1007}}}]\n"
     ]
    }
   ],
   "execution_count": 9,
   "source": [
    "# document_scan_query\n",
    "document_scan_query_out = x.document_scan_query(index_name, 3, 21, False, 2, True, [\"text\", \"i64\", \"f64\", \"bytes\"])\n",
    "print(document_scan_query_out)\n",
    "document_scan_query_out = x.document_scan_query(index_name, 21, 3, True, 2)\n",
    "print(document_scan_query_out)"
   ]
  },
  {
   "metadata": {
    "ExecuteTime": {
     "end_time": "2024-07-15T04:24:08.937032Z",
     "start_time": "2024-07-15T04:24:08.925873Z"
    }
   },
   "cell_type": "code",
   "source": [
    "# document_index_metrics\n",
    "document_metrics_out = x.document_index_metrics(index_name)\n",
    "print(document_metrics_out)"
   ],
   "outputs": [
    {
     "name": "stdout",
     "output_type": "stream",
     "text": [
      "document_index_metrics ......\n",
      "{'total_num_docs': 10, 'total_num_tokens': 151, 'max_doc_id': 21, 'min_doc_id': 3, 'meta_json': '', 'json_parameter': ''}\n"
     ]
    }
   ],
   "execution_count": 10
  },
  {
   "metadata": {
    "ExecuteTime": {
     "end_time": "2024-07-15T04:24:29.631947Z",
     "start_time": "2024-07-15T04:24:29.621657Z"
    }
   },
   "cell_type": "code",
   "source": [
    "# document_count_out\n",
    "document_count_out = x.document_count(index_name, 0, 22)\n",
    "print(document_count_out)"
   ],
   "outputs": [
    {
     "name": "stdout",
     "output_type": "stream",
     "text": [
      "document_count ......\n",
      "10\n"
     ]
    }
   ],
   "execution_count": 11
  },
  {
   "metadata": {
    "ExecuteTime": {
     "end_time": "2024-07-15T04:24:55.026306Z",
     "start_time": "2024-07-15T04:24:55.002578Z"
    }
   },
   "cell_type": "code",
   "source": [
    "# document_delete\n",
    "document_delete_out = x.document_delete(index_name, ids)\n",
    "print(document_delete_out)"
   ],
   "outputs": [
    {
     "name": "stdout",
     "output_type": "stream",
     "text": [
      "document_delete ......\n",
      "[{'doc_id': 21, 'deleted': True}, {'doc_id': 11, 'deleted': True}, {'doc_id': 13, 'deleted': True}, {'doc_id': 15, 'deleted': True}, {'doc_id': 17, 'deleted': True}, {'doc_id': 19, 'deleted': True}, {'doc_id': 5, 'deleted': True}, {'doc_id': 7, 'deleted': True}, {'doc_id': 9, 'deleted': True}, {'doc_id': 3, 'deleted': True}]\n"
     ]
    }
   ],
   "execution_count": 12
  },
  {
   "metadata": {},
   "cell_type": "code",
   "outputs": [],
   "execution_count": null,
   "source": ""
  },
  {
   "cell_type": "code",
   "execution_count": null,
   "metadata": {},
   "outputs": [],
   "source": []
  },
  {
   "cell_type": "code",
   "execution_count": null,
   "metadata": {},
   "outputs": [],
   "source": []
  }
 ],
 "metadata": {
  "kernelspec": {
   "display_name": "py39",
   "language": "python",
   "name": "python3"
  },
  "language_info": {
   "codemirror_mode": {
    "name": "ipython",
    "version": 3
   },
   "file_extension": ".py",
   "mimetype": "text/x-python",
   "name": "python",
   "nbconvert_exporter": "python",
   "pygments_lexer": "ipython3",
   "version": "3.9.19"
  }
 },
 "nbformat": 4,
 "nbformat_minor": 2
}
