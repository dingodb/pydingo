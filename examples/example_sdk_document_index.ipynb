{
 "cells": [
  {
   "metadata": {
    "ExecuteTime": {
     "end_time": "2024-07-16T08:41:27.801429Z",
     "start_time": "2024-07-16T08:41:27.306866Z"
    }
   },
   "cell_type": "code",
   "source": [
    "from dingodb import SDKDocumentDingoDB, SDKClient\n",
    "from dingodb.common.document_rep import DocumentType, DocumentColumn, DocumentSchema\n",
    "\n",
    "\n",
    "addrs = \"127.0.0.1:22001,127.0.0.1:22002,127.0.0.1:22003\"\n",
    "sdk_client = SDKClient(addrs)\n",
    "\n",
    "x = SDKDocumentDingoDB(sdk_client)\n",
    "print(x)\n",
    "\n",
    "index_name = \"document_index_test\""
   ],
   "outputs": [
    {
     "name": "stdout",
     "output_type": "stream",
     "text": [
      "<dingodb.sdk_document.sdk_document_db.SDKDocumentDingoDB object at 0x7f8318057be0>\n"
     ]
    }
   ],
   "execution_count": 1
  },
  {
   "metadata": {
    "ExecuteTime": {
     "end_time": "2024-07-16T08:41:28.555260Z",
     "start_time": "2024-07-16T08:41:28.489203Z"
    }
   },
   "cell_type": "code",
   "source": [
    "# delete_index\n",
    "delete_index_out = x.delete_index(index_name)\n",
    "print(delete_index_out)"
   ],
   "outputs": [
    {
     "name": "stdout",
     "output_type": "stream",
     "text": [
      "True\n"
     ]
    }
   ],
   "execution_count": 2
  },
  {
   "metadata": {
    "ExecuteTime": {
     "end_time": "2024-07-16T08:41:34.333748Z",
     "start_time": "2024-07-16T08:41:29.297995Z"
    }
   },
   "cell_type": "code",
   "source": [
    "import time\n",
    "\n",
    "# create_index\n",
    "scheme =  DocumentSchema()\n",
    "col = DocumentColumn(\"text\", DocumentType.STRING)\n",
    "scheme.add_document_column(col)\n",
    "col = DocumentColumn(\"i64\", DocumentType.INT64)\n",
    "scheme.add_document_column(col)\n",
    "col = DocumentColumn(\"f64\", DocumentType.DOUBLE)\n",
    "scheme.add_document_column(col)\n",
    "col = DocumentColumn(\"bytes\", DocumentType.BYTES)\n",
    "scheme.add_document_column(col)\n",
    "\n",
    "create_index_out = x.create_index(index_name, scheme, 3, operand=[5, 10, 20])\n",
    "# create_index_out = x.create_index(index_name, scheme, 3)\n",
    "print(create_index_out)\n",
    "time.sleep(5)"
   ],
   "outputs": [
    {
     "name": "stdout",
     "output_type": "stream",
     "text": [
      "True\n"
     ]
    }
   ],
   "execution_count": 3
  },
  {
   "metadata": {
    "ExecuteTime": {
     "end_time": "2024-07-16T08:41:35.345887Z",
     "start_time": "2024-07-16T08:41:35.253129Z"
    }
   },
   "cell_type": "code",
   "source": [
    "# make dataset\n",
    "# 构建训练数据和查询数据\n",
    "ids = [3, 5, 7, 9, 11, 13, 15, 17, 19, 21]\n",
    "documents = [\n",
    "    {\"text\" : \"Ancient empires rise and fall, shaping history's course.\", \"i64\" : 1003, \"f64\" : 1003.0, \"bytes\" : \"bytes_data_3\"},\n",
    "    {\"text\" : \"Artistic expressions reflect diverse cultural heritages.\", \"i64\" : 1005, \"f64\" : 1005.0, \"bytes\" : \"bytes_data_5\"},\n",
    "    {\"text\" : \"Social movements transform societies, forging new paths.\", \"i64\" : 1007, \"f64\" : 1007.0, \"bytes\" : \"bytes_data_7\"},\n",
    "    {\"text\" : \"Economies fluctuate, reflecting the complex interplay of global forces.\", \"i64\" : 1009, \"f64\" : 1009.0, \"bytes\" : \"bytes_data_9\"},\n",
    "    {\"text\" : \"Strategic military campaigns alter the balance of power.\", \"i64\" : 1011, \"f64\" : 1011.0, \"bytes\" : \"bytes_data_11\"},\n",
    "    {\"text\" : \"Quantum leaps redefine understanding of physical laws.\", \"i64\" : 1013, \"f64\" : 1013.0, \"bytes\" : \"bytes_data_13\"},\n",
    "    {\"text\" : \"Chemical reactions unlock mysteries of nature.\", \"i64\" : 1015, \"f64\" : 1015.0, \"bytes\" : \"bytes_data_15\"},\n",
    "    {\"text\" : \"Philosophical debates ponder the essence of existence.\", \"i64\" : 1017, \"f64\" : 1017.0, \"bytes\" : \"bytes_data_17\"},\n",
    "    {\"text\" : \"Marriages blend traditions, celebrating love's union.\", \"i64\" : 1019, \"f64\" : 1019.0, \"bytes\" : \"bytes_data_19\"},\n",
    "    {\"text\" : \"Explorers discover uncharted territories, expanding world maps.\", \"i64\" : 1021, \"f64\" : 10021.0, \"bytes\" : \"bytes_data_21\"}\n",
    "]\n",
    "\n",
    "document_add_out = x.document_add(index_name, documents, ids)\n",
    "print(document_add_out)"
   ],
   "outputs": [
    {
     "name": "stdout",
     "output_type": "stream",
     "text": [
      "document_add .......\n",
      "[{'id': 3, 'doc': {'bytes': {'type': 'BYTES', 'value': 'bytes_data_3'}, 'f64': {'type': 'DOUBLE', 'value': 1003.0}, 'i64': {'type': 'INT64', 'value': 1003}, 'text': {'type': 'STRING', 'value': \"Ancient empires rise and fall, shaping history's course.\"}}}, {'id': 5, 'doc': {'bytes': {'type': 'BYTES', 'value': 'bytes_data_5'}, 'f64': {'type': 'DOUBLE', 'value': 1005.0}, 'i64': {'type': 'INT64', 'value': 1005}, 'text': {'type': 'STRING', 'value': 'Artistic expressions reflect diverse cultural heritages.'}}}, {'id': 7, 'doc': {'bytes': {'type': 'BYTES', 'value': 'bytes_data_7'}, 'f64': {'type': 'DOUBLE', 'value': 1007.0}, 'i64': {'type': 'INT64', 'value': 1007}, 'text': {'type': 'STRING', 'value': 'Social movements transform societies, forging new paths.'}}}, {'id': 9, 'doc': {'bytes': {'type': 'BYTES', 'value': 'bytes_data_9'}, 'f64': {'type': 'DOUBLE', 'value': 1009.0}, 'i64': {'type': 'INT64', 'value': 1009}, 'text': {'type': 'STRING', 'value': 'Economies fluctuate, reflecting the complex interplay of global forces.'}}}, {'id': 11, 'doc': {'bytes': {'type': 'BYTES', 'value': 'bytes_data_11'}, 'f64': {'type': 'DOUBLE', 'value': 1011.0}, 'i64': {'type': 'INT64', 'value': 1011}, 'text': {'type': 'STRING', 'value': 'Strategic military campaigns alter the balance of power.'}}}, {'id': 13, 'doc': {'bytes': {'type': 'BYTES', 'value': 'bytes_data_13'}, 'f64': {'type': 'DOUBLE', 'value': 1013.0}, 'i64': {'type': 'INT64', 'value': 1013}, 'text': {'type': 'STRING', 'value': 'Quantum leaps redefine understanding of physical laws.'}}}, {'id': 15, 'doc': {'bytes': {'type': 'BYTES', 'value': 'bytes_data_15'}, 'f64': {'type': 'DOUBLE', 'value': 1015.0}, 'i64': {'type': 'INT64', 'value': 1015}, 'text': {'type': 'STRING', 'value': 'Chemical reactions unlock mysteries of nature.'}}}, {'id': 17, 'doc': {'bytes': {'type': 'BYTES', 'value': 'bytes_data_17'}, 'f64': {'type': 'DOUBLE', 'value': 1017.0}, 'i64': {'type': 'INT64', 'value': 1017}, 'text': {'type': 'STRING', 'value': 'Philosophical debates ponder the essence of existence.'}}}, {'id': 19, 'doc': {'bytes': {'type': 'BYTES', 'value': 'bytes_data_19'}, 'f64': {'type': 'DOUBLE', 'value': 1019.0}, 'i64': {'type': 'INT64', 'value': 1019}, 'text': {'type': 'STRING', 'value': \"Marriages blend traditions, celebrating love's union.\"}}}, {'id': 21, 'doc': {'bytes': {'type': 'BYTES', 'value': 'bytes_data_21'}, 'f64': {'type': 'DOUBLE', 'value': 10021.0}, 'i64': {'type': 'INT64', 'value': 1021}, 'text': {'type': 'STRING', 'value': 'Explorers discover uncharted territories, expanding world maps.'}}}]\n"
     ]
    }
   ],
   "execution_count": 4
  },
  {
   "metadata": {
    "ExecuteTime": {
     "end_time": "2024-07-16T08:41:36.353292Z",
     "start_time": "2024-07-16T08:41:36.335775Z"
    }
   },
   "cell_type": "code",
   "source": [
    "# document_search\n",
    "document_search_out = x.document_search(index_name, \"discover\", 5, with_scalar_data=True)\n",
    "print(document_search_out)\n",
    "document_search_out = x.document_search(index_name, \"of\", 10, with_scalar_data=True)\n",
    "print(document_search_out)"
   ],
   "outputs": [
    {
     "name": "stdout",
     "output_type": "stream",
     "text": [
      "document_search ......\n",
      "[{'id': 21, 'doc': {'f64': {'type': 'DOUBLE', 'value': 10021.0}, 'i64': {'type': 'INT64', 'value': 1021}, 'text': {'type': 'STRING', 'value': 'Explorers discover uncharted territories, expanding world maps.'}, 'bytes': {'type': 'BYTES', 'value': 'bytes_data_21'}}, 'score': 0.28768211603164673}]\n",
      "document_search ......\n",
      "[{'id': 9, 'doc': {'f64': {'type': 'DOUBLE', 'value': 1009.0}, 'i64': {'type': 'INT64', 'value': 1009}, 'text': {'type': 'STRING', 'value': 'Economies fluctuate, reflecting the complex interplay of global forces.'}, 'bytes': {'type': 'BYTES', 'value': 'bytes_data_9'}}, 'score': 0.8934285640716553}, {'id': 15, 'doc': {'text': {'type': 'STRING', 'value': 'Chemical reactions unlock mysteries of nature.'}, 'i64': {'type': 'INT64', 'value': 1015}, 'f64': {'type': 'DOUBLE', 'value': 1015.0}, 'bytes': {'type': 'BYTES', 'value': 'bytes_data_15'}}, 'score': 0.3071492910385132}, {'id': 13, 'doc': {'bytes': {'type': 'BYTES', 'value': 'bytes_data_13'}, 'text': {'type': 'STRING', 'value': 'Quantum leaps redefine understanding of physical laws.'}, 'i64': {'type': 'INT64', 'value': 1013}, 'f64': {'type': 'DOUBLE', 'value': 1013.0}}, 'score': 0.2893492877483368}, {'id': 17, 'doc': {'text': {'type': 'STRING', 'value': 'Philosophical debates ponder the essence of existence.'}, 'bytes': {'type': 'BYTES', 'value': 'bytes_data_17'}, 'f64': {'type': 'DOUBLE', 'value': 1017.0}, 'i64': {'type': 'INT64', 'value': 1017}}, 'score': 0.2893492877483368}, {'id': 11, 'doc': {'bytes': {'type': 'BYTES', 'value': 'bytes_data_11'}, 'f64': {'type': 'DOUBLE', 'value': 1011.0}, 'i64': {'type': 'INT64', 'value': 1011}, 'text': {'type': 'STRING', 'value': 'Strategic military campaigns alter the balance of power.'}}, 'score': 0.27349936962127686}]\n"
     ]
    }
   ],
   "execution_count": 5
  },
  {
   "metadata": {
    "ExecuteTime": {
     "end_time": "2024-07-16T08:41:37.171173Z",
     "start_time": "2024-07-16T08:41:37.152324Z"
    }
   },
   "cell_type": "code",
   "source": [
    "document_search_out = x.document_search(index_name, \"of\", 3, with_scalar_data=True)\n",
    "print(document_search_out)\n",
    "document_search_out = x.document_search(index_name, \"of\", 5, True, [13, 15], with_scalar_data=True)\n",
    "print(document_search_out)"
   ],
   "outputs": [
    {
     "name": "stdout",
     "output_type": "stream",
     "text": [
      "document_search ......\n",
      "[{'id': 9, 'doc': {'i64': {'type': 'INT64', 'value': 1009}, 'f64': {'type': 'DOUBLE', 'value': 1009.0}, 'text': {'type': 'STRING', 'value': 'Economies fluctuate, reflecting the complex interplay of global forces.'}, 'bytes': {'type': 'BYTES', 'value': 'bytes_data_9'}}, 'score': 0.8934285640716553}, {'id': 15, 'doc': {'bytes': {'type': 'BYTES', 'value': 'bytes_data_15'}, 'i64': {'type': 'INT64', 'value': 1015}, 'text': {'type': 'STRING', 'value': 'Chemical reactions unlock mysteries of nature.'}, 'f64': {'type': 'DOUBLE', 'value': 1015.0}}, 'score': 0.3071492910385132}, {'id': 13, 'doc': {'text': {'type': 'STRING', 'value': 'Quantum leaps redefine understanding of physical laws.'}, 'i64': {'type': 'INT64', 'value': 1013}, 'f64': {'type': 'DOUBLE', 'value': 1013.0}, 'bytes': {'type': 'BYTES', 'value': 'bytes_data_13'}}, 'score': 0.2893492877483368}]\n",
      "document_search ......\n",
      "[{'id': 15, 'doc': {'bytes': {'type': 'BYTES', 'value': 'bytes_data_15'}, 'text': {'type': 'STRING', 'value': 'Chemical reactions unlock mysteries of nature.'}, 'f64': {'type': 'DOUBLE', 'value': 1015.0}, 'i64': {'type': 'INT64', 'value': 1015}}, 'score': 0.3071492910385132}, {'id': 13, 'doc': {'text': {'type': 'STRING', 'value': 'Quantum leaps redefine understanding of physical laws.'}, 'bytes': {'type': 'BYTES', 'value': 'bytes_data_13'}, 'f64': {'type': 'DOUBLE', 'value': 1013.0}, 'i64': {'type': 'INT64', 'value': 1013}}, 'score': 0.2893492877483368}]\n"
     ]
    }
   ],
   "execution_count": 6
  },
  {
   "metadata": {
    "ExecuteTime": {
     "end_time": "2024-07-16T08:41:38.070696Z",
     "start_time": "2024-07-16T08:41:38.058741Z"
    }
   },
   "cell_type": "code",
   "source": [
    "document_search_out = x.document_search(index_name, r\"(text:'of' AND i64: >= 1013)\", 5, True, [9, 11, 13, 15], with_scalar_data=True)\n",
    "print(document_search_out)"
   ],
   "outputs": [
    {
     "name": "stdout",
     "output_type": "stream",
     "text": [
      "document_search ......\n",
      "[{'id': 15, 'doc': {'f64': {'type': 'DOUBLE', 'value': 1015.0}, 'text': {'type': 'STRING', 'value': 'Chemical reactions unlock mysteries of nature.'}, 'i64': {'type': 'INT64', 'value': 1015}, 'bytes': {'type': 'BYTES', 'value': 'bytes_data_15'}}, 'score': 1.3071492910385132}, {'id': 13, 'doc': {'text': {'type': 'STRING', 'value': 'Quantum leaps redefine understanding of physical laws.'}, 'bytes': {'type': 'BYTES', 'value': 'bytes_data_13'}, 'i64': {'type': 'INT64', 'value': 1013}, 'f64': {'type': 'DOUBLE', 'value': 1013.0}}, 'score': 1.2893493175506592}]\n"
     ]
    }
   ],
   "execution_count": 7
  },
  {
   "metadata": {
    "ExecuteTime": {
     "end_time": "2024-07-16T08:41:39.413450Z",
     "start_time": "2024-07-16T08:41:39.400595Z"
    }
   },
   "cell_type": "code",
   "source": [
    "# document_query\n",
    "document_query_out = x.document_query(index_name, ids, True, [\"text\", \"i64\"])\n",
    "print(document_query_out)"
   ],
   "outputs": [
    {
     "name": "stdout",
     "output_type": "stream",
     "text": [
      "document_query ......\n",
      "[{'id': 21, 'doc': {'text': {'type': 'STRING', 'value': 'Explorers discover uncharted territories, expanding world maps.'}, 'i64': {'type': 'INT64', 'value': 1021}}}, {'id': 11, 'doc': {'text': {'type': 'STRING', 'value': 'Strategic military campaigns alter the balance of power.'}, 'i64': {'type': 'INT64', 'value': 1011}}}, {'id': 13, 'doc': {'text': {'type': 'STRING', 'value': 'Quantum leaps redefine understanding of physical laws.'}, 'i64': {'type': 'INT64', 'value': 1013}}}, {'id': 15, 'doc': {'i64': {'type': 'INT64', 'value': 1015}, 'text': {'type': 'STRING', 'value': 'Chemical reactions unlock mysteries of nature.'}}}, {'id': 17, 'doc': {'i64': {'type': 'INT64', 'value': 1017}, 'text': {'type': 'STRING', 'value': 'Philosophical debates ponder the essence of existence.'}}}, {'id': 19, 'doc': {'text': {'type': 'STRING', 'value': \"Marriages blend traditions, celebrating love's union.\"}, 'i64': {'type': 'INT64', 'value': 1019}}}, {'id': 5, 'doc': {'i64': {'type': 'INT64', 'value': 1005}, 'text': {'type': 'STRING', 'value': 'Artistic expressions reflect diverse cultural heritages.'}}}, {'id': 7, 'doc': {'text': {'type': 'STRING', 'value': 'Social movements transform societies, forging new paths.'}, 'i64': {'type': 'INT64', 'value': 1007}}}, {'id': 9, 'doc': {'text': {'type': 'STRING', 'value': 'Economies fluctuate, reflecting the complex interplay of global forces.'}, 'i64': {'type': 'INT64', 'value': 1009}}}, {'id': 3, 'doc': {'i64': {'type': 'INT64', 'value': 1003}, 'text': {'type': 'STRING', 'value': \"Ancient empires rise and fall, shaping history's course.\"}}}]\n"
     ]
    }
   ],
   "execution_count": 8
  },
  {
   "metadata": {
    "ExecuteTime": {
     "end_time": "2024-07-16T08:41:40.240535Z",
     "start_time": "2024-07-16T08:41:40.224151Z"
    }
   },
   "cell_type": "code",
   "source": [
    "# document_get_border\n",
    "document_get_border_out = x.document_get_border(index_name, True)\n",
    "print(document_get_border_out)\n",
    "document_get_border_out = x.document_get_border(index_name, False)\n",
    "print(document_get_border_out)"
   ],
   "outputs": [
    {
     "name": "stdout",
     "output_type": "stream",
     "text": [
      "document_get_border ......\n",
      "21\n",
      "document_get_border ......\n",
      "3\n"
     ]
    }
   ],
   "execution_count": 9
  },
  {
   "metadata": {
    "ExecuteTime": {
     "end_time": "2024-07-16T08:41:40.996492Z",
     "start_time": "2024-07-16T08:41:40.979145Z"
    }
   },
   "cell_type": "code",
   "source": [
    "# document_scan_query\n",
    "document_scan_query_out = x.document_scan_query(index_name, ids[0], ids[-1], False, 2)\n",
    "print(document_scan_query_out)\n",
    "document_scan_query_out = x.document_scan_query(index_name, ids[-1], ids[0], True, 2)\n",
    "print(document_scan_query_out)"
   ],
   "outputs": [
    {
     "name": "stdout",
     "output_type": "stream",
     "text": [
      "document_scan_query ......\n",
      "[{'id': 3, 'doc': {'text': {'type': 'STRING', 'value': \"Ancient empires rise and fall, shaping history's course.\"}, 'f64': {'type': 'DOUBLE', 'value': 1003.0}, 'bytes': {'type': 'BYTES', 'value': 'bytes_data_3'}, 'i64': {'type': 'INT64', 'value': 1003}}}, {'id': 5, 'doc': {'i64': {'type': 'INT64', 'value': 1005}, 'bytes': {'type': 'BYTES', 'value': 'bytes_data_5'}, 'text': {'type': 'STRING', 'value': 'Artistic expressions reflect diverse cultural heritages.'}, 'f64': {'type': 'DOUBLE', 'value': 1005.0}}}]\n",
      "document_scan_query ......\n",
      "[{'id': 21, 'doc': {'text': {'type': 'STRING', 'value': 'Explorers discover uncharted territories, expanding world maps.'}, 'i64': {'type': 'INT64', 'value': 1021}, 'bytes': {'type': 'BYTES', 'value': 'bytes_data_21'}, 'f64': {'type': 'DOUBLE', 'value': 10021.0}}}, {'id': 19, 'doc': {'f64': {'type': 'DOUBLE', 'value': 1019.0}, 'i64': {'type': 'INT64', 'value': 1019}, 'bytes': {'type': 'BYTES', 'value': 'bytes_data_19'}, 'text': {'type': 'STRING', 'value': \"Marriages blend traditions, celebrating love's union.\"}}}]\n"
     ]
    }
   ],
   "execution_count": 10
  },
  {
   "metadata": {
    "ExecuteTime": {
     "end_time": "2024-07-16T08:41:41.666827Z",
     "start_time": "2024-07-16T08:41:41.656136Z"
    }
   },
   "cell_type": "code",
   "source": [
    "document_scan_query_out = x.document_scan_query(index_name, ids[0], ids[-1] + 10, False, 100, True, [\"text\", \"i64\"])\n",
    "print(document_scan_query_out)"
   ],
   "outputs": [
    {
     "name": "stdout",
     "output_type": "stream",
     "text": [
      "document_scan_query ......\n",
      "[{'id': 3, 'doc': {'text': {'type': 'STRING', 'value': \"Ancient empires rise and fall, shaping history's course.\"}, 'i64': {'type': 'INT64', 'value': 1003}}}, {'id': 5, 'doc': {'i64': {'type': 'INT64', 'value': 1005}, 'text': {'type': 'STRING', 'value': 'Artistic expressions reflect diverse cultural heritages.'}}}, {'id': 7, 'doc': {'text': {'type': 'STRING', 'value': 'Social movements transform societies, forging new paths.'}, 'i64': {'type': 'INT64', 'value': 1007}}}, {'id': 9, 'doc': {'i64': {'type': 'INT64', 'value': 1009}, 'text': {'type': 'STRING', 'value': 'Economies fluctuate, reflecting the complex interplay of global forces.'}}}, {'id': 11, 'doc': {'text': {'type': 'STRING', 'value': 'Strategic military campaigns alter the balance of power.'}, 'i64': {'type': 'INT64', 'value': 1011}}}, {'id': 13, 'doc': {'i64': {'type': 'INT64', 'value': 1013}, 'text': {'type': 'STRING', 'value': 'Quantum leaps redefine understanding of physical laws.'}}}, {'id': 15, 'doc': {'i64': {'type': 'INT64', 'value': 1015}, 'text': {'type': 'STRING', 'value': 'Chemical reactions unlock mysteries of nature.'}}}, {'id': 17, 'doc': {'text': {'type': 'STRING', 'value': 'Philosophical debates ponder the essence of existence.'}, 'i64': {'type': 'INT64', 'value': 1017}}}, {'id': 19, 'doc': {'text': {'type': 'STRING', 'value': \"Marriages blend traditions, celebrating love's union.\"}, 'i64': {'type': 'INT64', 'value': 1019}}}, {'id': 21, 'doc': {'text': {'type': 'STRING', 'value': 'Explorers discover uncharted territories, expanding world maps.'}, 'i64': {'type': 'INT64', 'value': 1021}}}]\n"
     ]
    }
   ],
   "execution_count": 11
  },
  {
   "metadata": {
    "ExecuteTime": {
     "end_time": "2024-07-16T08:41:42.671275Z",
     "start_time": "2024-07-16T08:41:42.659709Z"
    }
   },
   "cell_type": "code",
   "source": [
    "# document_index_metrics\n",
    "document_metrics_out = x.document_index_metrics(index_name)\n",
    "print(document_metrics_out)"
   ],
   "outputs": [
    {
     "name": "stdout",
     "output_type": "stream",
     "text": [
      "document_index_metrics ......\n",
      "{'total_num_docs': 10, 'total_num_tokens': 151, 'max_doc_id': 21, 'min_doc_id': 3, 'meta_json': '', 'json_parameter': ''}\n"
     ]
    }
   ],
   "execution_count": 12
  },
  {
   "metadata": {
    "ExecuteTime": {
     "end_time": "2024-07-16T08:41:43.401348Z",
     "start_time": "2024-07-16T08:41:43.390661Z"
    }
   },
   "cell_type": "code",
   "source": [
    "# document_count_out\n",
    "document_count_out = x.document_count(index_name, 0, 19)\n",
    "print(document_count_out)"
   ],
   "outputs": [
    {
     "name": "stdout",
     "output_type": "stream",
     "text": [
      "document_count ......\n",
      "8\n"
     ]
    }
   ],
   "execution_count": 13
  },
  {
   "metadata": {
    "ExecuteTime": {
     "end_time": "2024-07-16T08:41:44.196869Z",
     "start_time": "2024-07-16T08:41:44.171980Z"
    }
   },
   "cell_type": "code",
   "source": [
    "# document_delete\n",
    "document_delete_out = x.document_delete(index_name, ids)\n",
    "print(document_delete_out)"
   ],
   "outputs": [
    {
     "name": "stdout",
     "output_type": "stream",
     "text": [
      "document_delete ......\n",
      "[{'doc_id': 21, 'deleted': True}, {'doc_id': 3, 'deleted': True}, {'doc_id': 5, 'deleted': True}, {'doc_id': 7, 'deleted': True}, {'doc_id': 9, 'deleted': True}, {'doc_id': 11, 'deleted': True}, {'doc_id': 13, 'deleted': True}, {'doc_id': 15, 'deleted': True}, {'doc_id': 17, 'deleted': True}, {'doc_id': 19, 'deleted': True}]\n"
     ]
    }
   ],
   "execution_count": 14
  },
  {
   "metadata": {},
   "cell_type": "code",
   "outputs": [],
   "execution_count": null,
   "source": ""
  },
  {
   "cell_type": "code",
   "execution_count": null,
   "metadata": {},
   "outputs": [],
   "source": []
  },
  {
   "cell_type": "code",
   "execution_count": null,
   "metadata": {},
   "outputs": [],
   "source": []
  }
 ],
 "metadata": {
  "kernelspec": {
   "display_name": "py39",
   "language": "python",
   "name": "python3"
  },
  "language_info": {
   "codemirror_mode": {
    "name": "ipython",
    "version": 3
   },
   "file_extension": ".py",
   "mimetype": "text/x-python",
   "name": "python",
   "nbconvert_exporter": "python",
   "pygments_lexer": "ipython3",
   "version": "3.9.19"
  }
 },
 "nbformat": 4,
 "nbformat_minor": 2
}
