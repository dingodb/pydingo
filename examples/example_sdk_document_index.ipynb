{
 "cells": [
  {
   "cell_type": "code",
   "execution_count": null,
   "metadata": {
    "ExecuteTime": {
     "end_time": "2024-07-16T10:34:29.735598Z",
     "start_time": "2024-07-16T10:34:29.282232Z"
    }
   },
   "outputs": [],
   "source": [
    "from dingodb import SDKDocumentDingoDB, SDKClient\n",
    "from dingodb.common.document_rep import DocumentType, DocumentColumn, DocumentSchema\n",
    "\n",
    "\n",
    "addrs = \"127.0.0.1:22001,127.0.0.1:22002,127.0.0.1:22003\"\n",
    "sdk_client = SDKClient(addrs)\n",
    "\n",
    "x = SDKDocumentDingoDB(sdk_client)\n",
    "print(x)\n",
    "\n",
    "index_name = \"document_index_test\""
   ]
  },
  {
   "cell_type": "code",
   "execution_count": null,
   "metadata": {
    "ExecuteTime": {
     "end_time": "2024-07-16T10:34:30.630716Z",
     "start_time": "2024-07-16T10:34:30.573078Z"
    }
   },
   "outputs": [],
   "source": [
    "# delete_index\n",
    "delete_index_out = x.delete_index(index_name)\n",
    "print(delete_index_out)"
   ]
  },
  {
   "cell_type": "code",
   "execution_count": null,
   "metadata": {
    "ExecuteTime": {
     "end_time": "2024-07-16T10:34:36.365772Z",
     "start_time": "2024-07-16T10:34:31.331483Z"
    }
   },
   "outputs": [],
   "source": [
    "import time\n",
    "\n",
    "# create_index\n",
    "scheme =  DocumentSchema()\n",
    "col = DocumentColumn(\"text\", DocumentType.STRING)\n",
    "scheme.add_document_column(col)\n",
    "col = DocumentColumn(\"i64\", DocumentType.INT64)\n",
    "scheme.add_document_column(col)\n",
    "col = DocumentColumn(\"f64\", DocumentType.DOUBLE)\n",
    "scheme.add_document_column(col)\n",
    "col = DocumentColumn(\"bytes\", DocumentType.BYTES)\n",
    "scheme.add_document_column(col)\n",
    "col = DocumentColumn(\"bool\", DocumentType.BOOL)\n",
    "scheme.add_document_column(col)\n",
    "col = DocumentColumn(\"datetime\", DocumentType.DATETIME)\n",
    "scheme.add_document_column(col)\n",
    "\n",
    "create_index_out = x.create_index(index_name, scheme, 3, operand=[5, 10, 20])\n",
    "# create_index_out = x.create_index(index_name, scheme, 3)\n",
    "print(create_index_out)\n",
    "time.sleep(5)"
   ]
  },
  {
   "cell_type": "code",
   "execution_count": null,
   "metadata": {
    "ExecuteTime": {
     "end_time": "2024-07-16T10:34:39.538962Z",
     "start_time": "2024-07-16T10:34:39.440054Z"
    }
   },
   "outputs": [],
   "source": [
    "# make dataset\n",
    "# 构建训练数据和查询数据\n",
    "ids = [3, 5, 7, 9, 11, 13, 15, 17, 19, 21]\n",
    "documents = [\n",
    "    {\"text\" : \"Ancient empires rise and fall, shaping history's course.\", \"i64\" : 1003, \"f64\" : 1003.0, \"bytes\" : \"bytes_data_3\",\"bool\":True, \"datetime\": \"2021-01-01T00:00:00Z\"},\n",
    "    {\"text\" : \"Artistic expressions reflect diverse cultural heritages.\", \"i64\" : 1005, \"f64\" : 1005.0, \"bytes\" : \"bytes_data_5\",\"bool\":False, \"datetime\": \"2021-01-01T00:00:00Z\"},\n",
    "    {\"text\" : \"Social movements transform societies, forging new paths.\", \"i64\" : 1007, \"f64\" : 1007.0, \"bytes\" : \"bytes_data_7\",\"bool\":True, \"datetime\": \"2022-01-01T00:00:00Z\"},\n",
    "    {\"text\" : \"Economies fluctuate, reflecting the complex interplay of global forces.\", \"i64\" : 1009, \"f64\" : 1009.0, \"bytes\" : \"bytes_data_9\",\"bool\":False, \"datetime\": \"2022-01-01T00:00:00Z\"},\n",
    "    {\"text\" : \"Strategic military campaigns alter the balance of power.\", \"i64\" : 1011, \"f64\" : 1011.0, \"bytes\" : \"bytes_data_11\",\"bool\":True, \"datetime\": \"2023-01-01T00:00:00Z\"},\n",
    "    {\"text\" : \"Quantum leaps redefine understanding of physical laws.\", \"i64\" : 1013, \"f64\" : 1013.0, \"bytes\" : \"bytes_data_13\",\"bool\":False, \"datetime\": \"2023-01-01T00:00:00Z\"},\n",
    "    {\"text\" : \"Chemical reactions unlock mysteries of nature.\", \"i64\" : 1015, \"f64\" : 1015.0, \"bytes\" : \"bytes_data_15\",\"bool\":True, \"datetime\": \"2024-01-01T00:00:00Z\"},\n",
    "    {\"text\" : \"Philosophical debates ponder the essence of existence.\", \"i64\" : 1017, \"f64\" : 1017.0, \"bytes\" : \"bytes_data_17\",\"bool\":False, \"datetime\": \"2024-01-01T00:00:00Z\"},\n",
    "    {\"text\" : \"Marriages blend traditions, celebrating love's union.\", \"i64\" : 1019, \"f64\" : 1019.0, \"bytes\" : \"bytes_data_19\",\"bool\":True, \"datetime\": \"2025-01-01T00:00:00Z\"},\n",
    "    {\"text\" : \"Explorers discover uncharted territories, expanding world maps.\", \"i64\" : 1021, \"f64\" : 10021.0, \"bytes\" : \"bytes_data_21\",\"bool\":False, \"datetime\": \"2025-01-01T00:00:00Z\"}\n",
    "]\n",
    "\n",
    "document_add_out = x.document_add(index_name, documents, ids)\n",
    "print(document_add_out)\n",
    "print(document_add_out.to_dict())"
   ]
  },
  {
   "cell_type": "code",
   "execution_count": null,
   "metadata": {
    "ExecuteTime": {
     "end_time": "2024-07-16T10:34:42.317333Z",
     "start_time": "2024-07-16T10:34:42.304147Z"
    }
   },
   "outputs": [],
   "source": [
    "# document_search\n",
    "document_search_out = x.document_search(index_name, \"discover\", 5, with_scalar_data=True)\n",
    "print(document_search_out)\n",
    "print(document_search_out.to_dict())\n"
   ]
  },
  {
   "cell_type": "code",
   "execution_count": null,
   "metadata": {
    "ExecuteTime": {
     "end_time": "2024-07-16T10:34:45.392213Z",
     "start_time": "2024-07-16T10:34:45.374285Z"
    }
   },
   "outputs": [],
   "source": [
    "document_search_out = x.document_search(index_name, \"of\", 3, with_scalar_data=True)\n",
    "print(document_search_out)\n",
    "document_search_out = x.document_search(index_name, \"of\", 5,[13, 15], with_scalar_data=True)\n",
    "print(document_search_out)"
   ]
  },
  {
   "cell_type": "code",
   "execution_count": null,
   "metadata": {},
   "outputs": [],
   "source": [
    "document_search_out = x.document_search_all(index_name, \"of\", with_scalar_data=True, query_limit=4096)\n",
    "print(document_search_out)"
   ]
  },
  {
   "cell_type": "code",
   "execution_count": null,
   "metadata": {
    "ExecuteTime": {
     "end_time": "2024-07-16T10:34:48.606114Z",
     "start_time": "2024-07-16T10:34:48.593861Z"
    }
   },
   "outputs": [],
   "source": [
    "document_search_out = x.document_search(index_name, r\"(text:'of' AND i64: >= 1013)\", 5,  [9, 11, 13, 15], with_scalar_data=True)\n",
    "print(document_search_out)"
   ]
  },
  {
   "cell_type": "code",
   "execution_count": null,
   "metadata": {},
   "outputs": [],
   "source": [
    "document_search_out = x.document_search(index_name, r\"( bool:true)\", 5,  [9, 11, 13, 15], with_scalar_data=True)\n",
    "print(document_search_out)"
   ]
  },
  {
   "cell_type": "code",
   "execution_count": null,
   "metadata": {},
   "outputs": [],
   "source": [
    "document_search_out = x.document_search(index_name, r\"(datetime:'2023-01-01T00:00:00Z' )\", 5,  [3,5,7,9, 11, 13, 15], with_scalar_data=True)\n",
    "print(document_search_out)"
   ]
  },
  {
   "cell_type": "code",
   "execution_count": null,
   "metadata": {
    "ExecuteTime": {
     "end_time": "2024-07-16T10:34:51.933389Z",
     "start_time": "2024-07-16T10:34:51.918883Z"
    }
   },
   "outputs": [],
   "source": [
    "# document_query\n",
    "document_query_out = x.document_query(index_name, ids, True, [\"text\", \"i64\"])\n",
    "print(document_query_out)"
   ]
  },
  {
   "cell_type": "code",
   "execution_count": null,
   "metadata": {
    "ExecuteTime": {
     "end_time": "2024-07-16T10:34:53.497957Z",
     "start_time": "2024-07-16T10:34:53.480977Z"
    }
   },
   "outputs": [],
   "source": [
    "# document_get_border\n",
    "document_get_border_out = x.document_get_border(index_name, True)\n",
    "print(document_get_border_out)\n",
    "document_get_border_out = x.document_get_border(index_name, False)\n",
    "print(document_get_border_out)"
   ]
  },
  {
   "cell_type": "code",
   "execution_count": null,
   "metadata": {
    "ExecuteTime": {
     "end_time": "2024-07-16T10:34:55.389098Z",
     "start_time": "2024-07-16T10:34:55.370790Z"
    }
   },
   "outputs": [],
   "source": [
    "# document_scan_query\n",
    "document_scan_query_out = x.document_scan_query(index_name, ids[0], ids[-1], False, 2)\n",
    "print(document_scan_query_out)\n",
    "document_scan_query_out = x.document_scan_query(index_name, ids[-1], ids[0], True, 2)\n",
    "print(document_scan_query_out)"
   ]
  },
  {
   "cell_type": "code",
   "execution_count": null,
   "metadata": {
    "ExecuteTime": {
     "end_time": "2024-07-16T10:34:58.527738Z",
     "start_time": "2024-07-16T10:34:58.515542Z"
    }
   },
   "outputs": [],
   "source": [
    "document_scan_query_out = x.document_scan_query(index_name, ids[0], ids[-1] + 10, False, 100, True, [\"text\", \"i64\"])\n",
    "print(document_scan_query_out)"
   ]
  },
  {
   "cell_type": "code",
   "execution_count": null,
   "metadata": {
    "ExecuteTime": {
     "end_time": "2024-07-16T10:34:59.962594Z",
     "start_time": "2024-07-16T10:34:59.951192Z"
    }
   },
   "outputs": [],
   "source": [
    "# document_index_metrics\n",
    "document_metrics_out = x.document_index_metrics(index_name)\n",
    "print(document_metrics_out)"
   ]
  },
  {
   "cell_type": "code",
   "execution_count": null,
   "metadata": {
    "ExecuteTime": {
     "end_time": "2024-07-16T10:35:00.950010Z",
     "start_time": "2024-07-16T10:35:00.939693Z"
    }
   },
   "outputs": [],
   "source": [
    "# document_count_out\n",
    "document_count_out = x.document_count(index_name, 0, 19)\n",
    "print(document_count_out)"
   ]
  },
  {
   "cell_type": "code",
   "execution_count": null,
   "metadata": {
    "ExecuteTime": {
     "end_time": "2024-07-16T10:35:02.165089Z",
     "start_time": "2024-07-16T10:35:02.139724Z"
    }
   },
   "outputs": [],
   "source": [
    "# document_delete\n",
    "document_delete_out = x.document_delete(index_name, ids)\n",
    "print(document_delete_out)"
   ]
  },
  {
   "cell_type": "code",
   "execution_count": null,
   "metadata": {},
   "outputs": [],
   "source": []
  },
  {
   "cell_type": "code",
   "execution_count": null,
   "metadata": {},
   "outputs": [],
   "source": []
  },
  {
   "cell_type": "code",
   "execution_count": null,
   "metadata": {},
   "outputs": [],
   "source": []
  }
 ],
 "metadata": {
  "kernelspec": {
   "display_name": "py39",
   "language": "python",
   "name": "python3"
  },
  "language_info": {
   "codemirror_mode": {
    "name": "ipython",
    "version": 3
   },
   "file_extension": ".py",
   "mimetype": "text/x-python",
   "name": "python",
   "nbconvert_exporter": "python",
   "pygments_lexer": "ipython3",
   "version": "3.9.19"
  }
 },
 "nbformat": 4,
 "nbformat_minor": 2
}
