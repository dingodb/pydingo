{
 "cells": [
  {
   "cell_type": "code",
   "id": "initial_id",
   "metadata": {
    "collapsed": true,
    "ExecuteTime": {
     "end_time": "2024-07-16T10:36:35.428964Z",
     "start_time": "2024-07-16T10:36:34.980659Z"
    }
   },
   "source": [
    "from dingodb import SDKDocumentDingoDB, SDKClient\n",
    "from dingodb.common.document_rep import DocumentType, DocumentColumn, DocumentSchema\n",
    "\n",
    "\n",
    "addrs = \"127.0.0.1:22001,127.0.0.1:22002,127.0.0.1:22003\"\n",
    "sdk_client = SDKClient(addrs)\n",
    "\n",
    "x = SDKDocumentDingoDB(sdk_client)\n",
    "print(x)\n",
    "\n",
    "index_name = \"document_regex_index_test\""
   ],
   "outputs": [
    {
     "name": "stdout",
     "output_type": "stream",
     "text": [
      "<dingodb.sdk_document.sdk_document_db.SDKDocumentDingoDB object at 0x7fb6c84af850>\n"
     ]
    }
   ],
   "execution_count": 1
  },
  {
   "metadata": {
    "ExecuteTime": {
     "end_time": "2024-07-16T10:36:36.856064Z",
     "start_time": "2024-07-16T10:36:36.798818Z"
    }
   },
   "cell_type": "code",
   "source": [
    "# delete_index\n",
    "delete_index_out = x.delete_index(index_name)\n",
    "print(delete_index_out)"
   ],
   "id": "5a641decf0388583",
   "outputs": [
    {
     "name": "stdout",
     "output_type": "stream",
     "text": [
      "True\n"
     ]
    }
   ],
   "execution_count": 2
  },
  {
   "metadata": {
    "ExecuteTime": {
     "end_time": "2024-07-16T10:36:44.401050Z",
     "start_time": "2024-07-16T10:36:39.372140Z"
    }
   },
   "cell_type": "code",
   "source": [
    "import time\n",
    "\n",
    "# create_index\n",
    "scheme =  DocumentSchema()\n",
    "col = DocumentColumn(\"title\", DocumentType.STRING)\n",
    "scheme.add_document_column(col)\n",
    "col = DocumentColumn(\"text\", DocumentType.STRING)\n",
    "scheme.add_document_column(col)\n",
    "\n",
    "create_index_out = x.create_index(index_name, scheme, 3, operand=[5, 10, 20])\n",
    "# create_index_out = x.create_index(index_name, scheme, 3)\n",
    "print(create_index_out)\n",
    "time.sleep(5)"
   ],
   "id": "627fccd1c0cac3e6",
   "outputs": [
    {
     "name": "stdout",
     "output_type": "stream",
     "text": [
      "True\n"
     ]
    }
   ],
   "execution_count": 3
  },
  {
   "metadata": {
    "ExecuteTime": {
     "end_time": "2024-07-16T10:36:45.886555Z",
     "start_time": "2024-07-16T10:36:45.823051Z"
    }
   },
   "cell_type": "code",
   "source": [
    "# make dataset\n",
    "# 构建训练数据和查询数据\n",
    "ids = [1, 2, 3]\n",
    "documents = [\n",
    "    {\"title\" : \"a\", \"text\" : \"The Diary of Muadib\"},\n",
    "    {\"title\" : \"bb\", \"text\" : \"A Dairy Cow\"},\n",
    "    {\"title\" : \"ccc\", \"text\" : \"The Diary of a Young Girl\"}\n",
    "]\n",
    "\n",
    "document_add_out = x.document_add(index_name, documents, ids)\n",
    "print(document_add_out)"
   ],
   "id": "373f1db574e3ea73",
   "outputs": [
    {
     "name": "stdout",
     "output_type": "stream",
     "text": [
      "<dingodb.common.document_rep.AddResult object at 0x7fb6c845fdf0>\n"
     ]
    }
   ],
   "execution_count": 4
  },
  {
   "metadata": {
    "ExecuteTime": {
     "end_time": "2024-07-16T10:36:47.172597Z",
     "start_time": "2024-07-16T10:36:47.146001Z"
    }
   },
   "cell_type": "code",
   "source": [
    "# document_search DocumentRegexSearch()\n",
    "#  base64encode Dia.* to RGlhLioq\n",
    "#  text contains \"Dia\"\n",
    "document_search_out = x.document_search(index_name, \"text:RE [RGlhLio=]\", 5, False, with_scalar_data=True)\n",
    "print(document_search_out)"
   ],
   "id": "da38b94aea0a0d",
   "outputs": [
    {
     "name": "stdout",
     "output_type": "stream",
     "text": [
      "<dingodb.common.document_rep.DocSearchResult object at 0x7fb6a4611c40>\n"
     ]
    }
   ],
   "execution_count": 5
  },
  {
   "metadata": {
    "ExecuteTime": {
     "end_time": "2024-07-16T10:36:48.122648Z",
     "start_time": "2024-07-16T10:36:48.110086Z"
    }
   },
   "cell_type": "code",
   "source": [
    "# document_search DocumentSearchLength()\n",
    "#  base64encode (.{0,2})  to KC57MCwyfSk=\n",
    "#  title length <= 2\n",
    "document_search_out = x.document_search(index_name, \"title:RE [KC57MCwyfSk=]\", 5, False, with_scalar_data=True)\n",
    "print(document_search_out)"
   ],
   "id": "cb8c869cd3e0007d",
   "outputs": [
    {
     "name": "stdout",
     "output_type": "stream",
     "text": [
      "<dingodb.common.document_rep.DocSearchResult object at 0x7fb6a460bfd0>\n"
     ]
    }
   ],
   "execution_count": 6
  },
  {
   "metadata": {
    "ExecuteTime": {
     "end_time": "2024-07-16T10:36:51.049661Z",
     "start_time": "2024-07-16T10:36:51.036462Z"
    }
   },
   "cell_type": "code",
   "source": [
    "# document_search DocumentSearchAnd()\n",
    "#  base64encode (.{0,2})  to KC57MCwyfSk=\n",
    "#  base64encode Dia.* to RGlhLioq\n",
    "#  title length <= 2 and text contains \"Dia\"\n",
    "document_search_out = x.document_search(index_name, \"title:RE [KC57MCwyfSk=] AND text:RE [RGlhLio=]\", 5, False, with_scalar_data=True)\n",
    "print(document_search_out)"
   ],
   "id": "4e6f19441d0cea1c",
   "outputs": [
    {
     "name": "stdout",
     "output_type": "stream",
     "text": [
      "<dingodb.common.document_rep.DocSearchResult object at 0x7fb6b003c3a0>\n"
     ]
    }
   ],
   "execution_count": 7
  },
  {
   "metadata": {},
   "cell_type": "code",
   "outputs": [],
   "execution_count": null,
   "source": "",
   "id": "8655b121260babbf"
  },
  {
   "metadata": {},
   "cell_type": "code",
   "outputs": [],
   "execution_count": null,
   "source": "",
   "id": "d782f3b775b0b0ee"
  }
 ],
 "metadata": {
  "kernelspec": {
   "display_name": "Python 3",
   "language": "python",
   "name": "python3"
  },
  "language_info": {
   "codemirror_mode": {
    "name": "ipython",
    "version": 2
   },
   "file_extension": ".py",
   "mimetype": "text/x-python",
   "name": "python",
   "nbconvert_exporter": "python",
   "pygments_lexer": "ipython2",
   "version": "2.7.6"
  }
 },
 "nbformat": 4,
 "nbformat_minor": 5
}
