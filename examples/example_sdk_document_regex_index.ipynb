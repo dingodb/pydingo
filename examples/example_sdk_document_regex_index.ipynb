{
 "cells": [
  {
   "cell_type": "code",
   "id": "initial_id",
   "metadata": {
    "collapsed": true,
    "ExecuteTime": {
     "end_time": "2024-07-16T08:41:53.902476Z",
     "start_time": "2024-07-16T08:41:53.438467Z"
    }
   },
   "source": [
    "from dingodb import SDKDocumentDingoDB, SDKClient\n",
    "from dingodb.common.document_rep import DocumentType, DocumentColumn, DocumentSchema\n",
    "\n",
    "\n",
    "addrs = \"127.0.0.1:22001,127.0.0.1:22002,127.0.0.1:22003\"\n",
    "sdk_client = SDKClient(addrs)\n",
    "\n",
    "x = SDKDocumentDingoDB(sdk_client)\n",
    "print(x)\n",
    "\n",
    "index_name = \"document_regex_index_test\""
   ],
   "outputs": [
    {
     "name": "stdout",
     "output_type": "stream",
     "text": [
      "<dingodb.sdk_document.sdk_document_db.SDKDocumentDingoDB object at 0x7f90042626d0>\n"
     ]
    }
   ],
   "execution_count": 1
  },
  {
   "metadata": {
    "ExecuteTime": {
     "end_time": "2024-07-16T08:41:54.896564Z",
     "start_time": "2024-07-16T08:41:54.838149Z"
    }
   },
   "cell_type": "code",
   "source": [
    "# delete_index\n",
    "delete_index_out = x.delete_index(index_name)\n",
    "print(delete_index_out)"
   ],
   "id": "5a641decf0388583",
   "outputs": [
    {
     "name": "stdout",
     "output_type": "stream",
     "text": [
      "True\n"
     ]
    }
   ],
   "execution_count": 2
  },
  {
   "metadata": {
    "ExecuteTime": {
     "end_time": "2024-07-16T08:42:00.644851Z",
     "start_time": "2024-07-16T08:41:55.612361Z"
    }
   },
   "cell_type": "code",
   "source": [
    "import time\n",
    "\n",
    "# create_index\n",
    "scheme =  DocumentSchema()\n",
    "col = DocumentColumn(\"title\", DocumentType.STRING)\n",
    "scheme.add_document_column(col)\n",
    "col = DocumentColumn(\"text\", DocumentType.STRING)\n",
    "scheme.add_document_column(col)\n",
    "\n",
    "create_index_out = x.create_index(index_name, scheme, 3, operand=[5, 10, 20])\n",
    "# create_index_out = x.create_index(index_name, scheme, 3)\n",
    "print(create_index_out)\n",
    "time.sleep(5)"
   ],
   "id": "627fccd1c0cac3e6",
   "outputs": [
    {
     "name": "stdout",
     "output_type": "stream",
     "text": [
      "True\n"
     ]
    }
   ],
   "execution_count": 3
  },
  {
   "metadata": {
    "ExecuteTime": {
     "end_time": "2024-07-16T08:42:01.276381Z",
     "start_time": "2024-07-16T08:42:01.204993Z"
    }
   },
   "cell_type": "code",
   "source": [
    "# make dataset\n",
    "# 构建训练数据和查询数据\n",
    "ids = [1, 2, 3]\n",
    "documents = [\n",
    "    {\"title\" : \"a\", \"text\" : \"The Diary of Muadib\"},\n",
    "    {\"title\" : \"bb\", \"text\" : \"A Dairy Cow\"},\n",
    "    {\"title\" : \"ccc\", \"text\" : \"The Diary of a Young Girl\"}\n",
    "]\n",
    "\n",
    "document_add_out = x.document_add(index_name, documents, ids)\n",
    "print(document_add_out)"
   ],
   "id": "373f1db574e3ea73",
   "outputs": [
    {
     "name": "stdout",
     "output_type": "stream",
     "text": [
      "document_add .......\n",
      "[{'id': 1, 'doc': {'text': {'type': 'STRING', 'value': 'The Diary of Muadib'}, 'title': {'type': 'STRING', 'value': 'a'}}}, {'id': 2, 'doc': {'text': {'type': 'STRING', 'value': 'A Dairy Cow'}, 'title': {'type': 'STRING', 'value': 'bb'}}}, {'id': 3, 'doc': {'text': {'type': 'STRING', 'value': 'The Diary of a Young Girl'}, 'title': {'type': 'STRING', 'value': 'ccc'}}}]\n"
     ]
    }
   ],
   "execution_count": 4
  },
  {
   "metadata": {
    "ExecuteTime": {
     "end_time": "2024-07-16T08:42:02.327067Z",
     "start_time": "2024-07-16T08:42:02.302845Z"
    }
   },
   "cell_type": "code",
   "source": [
    "# document_search DocumentRegexSearch()\n",
    "#  base64encode Dia.* to RGlhLioq\n",
    "#  text contains \"Dia\"\n",
    "document_search_out = x.document_search(index_name, \"text:RE [RGlhLio=]\", 5, False, with_scalar_data=True)\n",
    "print(document_search_out)"
   ],
   "id": "da38b94aea0a0d",
   "outputs": [
    {
     "name": "stdout",
     "output_type": "stream",
     "text": [
      "document_search ......\n",
      "[{'id': 1, 'doc': {'title': {'type': 'STRING', 'value': 'a'}, 'text': {'type': 'STRING', 'value': 'The Diary of Muadib'}}, 'score': 1.0}, {'id': 3, 'doc': {'text': {'type': 'STRING', 'value': 'The Diary of a Young Girl'}, 'title': {'type': 'STRING', 'value': 'ccc'}}, 'score': 1.0}]\n"
     ]
    }
   ],
   "execution_count": 5
  },
  {
   "metadata": {
    "ExecuteTime": {
     "end_time": "2024-07-16T08:42:05.060676Z",
     "start_time": "2024-07-16T08:42:05.047571Z"
    }
   },
   "cell_type": "code",
   "source": [
    "# document_search DocumentSearchLength()\n",
    "#  base64encode (.{0,2})  to KC57MCwyfSk=\n",
    "#  title length <= 2\n",
    "document_search_out = x.document_search(index_name, \"title:RE [KC57MCwyfSk=]\", 5, False, with_scalar_data=True)\n",
    "print(document_search_out)"
   ],
   "id": "cb8c869cd3e0007d",
   "outputs": [
    {
     "name": "stdout",
     "output_type": "stream",
     "text": [
      "document_search ......\n",
      "[{'id': 1, 'doc': {'text': {'type': 'STRING', 'value': 'The Diary of Muadib'}, 'title': {'type': 'STRING', 'value': 'a'}}, 'score': 1.0}, {'id': 2, 'doc': {'title': {'type': 'STRING', 'value': 'bb'}, 'text': {'type': 'STRING', 'value': 'A Dairy Cow'}}, 'score': 1.0}]\n"
     ]
    }
   ],
   "execution_count": 6
  },
  {
   "metadata": {
    "ExecuteTime": {
     "end_time": "2024-07-16T08:20:16.548467Z",
     "start_time": "2024-07-16T08:20:16.535079Z"
    }
   },
   "cell_type": "code",
   "source": [
    "# document_search DocumentSearchAnd()\n",
    "#  base64encode (.{0,2})  to KC57MCwyfSk=\n",
    "#  base64encode Dia.* to RGlhLioq\n",
    "#  title length <= 2 and text contains \"Dia\"\n",
    "document_search_out = x.document_search(index_name, \"title:RE [KC57MCwyfSk=] AND text:RE [RGlhLio=]\", 5, False, with_scalar_data=True)\n",
    "print(document_search_out)"
   ],
   "id": "4e6f19441d0cea1c",
   "outputs": [
    {
     "name": "stdout",
     "output_type": "stream",
     "text": [
      "document_search ......\n",
      "[{'id': 1, 'doc': {'text': {'type': 'STRING', 'value': 'The Diary of Muadib'}, 'title': {'type': 'STRING', 'value': 'a'}}, 'score': 2.0}]\n"
     ]
    }
   ],
   "execution_count": 14
  },
  {
   "metadata": {},
   "cell_type": "code",
   "outputs": [],
   "execution_count": null,
   "source": "",
   "id": "8655b121260babbf"
  },
  {
   "metadata": {},
   "cell_type": "code",
   "outputs": [],
   "execution_count": null,
   "source": "",
   "id": "d782f3b775b0b0ee"
  }
 ],
 "metadata": {
  "kernelspec": {
   "display_name": "Python 3",
   "language": "python",
   "name": "python3"
  },
  "language_info": {
   "codemirror_mode": {
    "name": "ipython",
    "version": 2
   },
   "file_extension": ".py",
   "mimetype": "text/x-python",
   "name": "python",
   "nbconvert_exporter": "python",
   "pygments_lexer": "ipython2",
   "version": "2.7.6"
  }
 },
 "nbformat": 4,
 "nbformat_minor": 5
}
