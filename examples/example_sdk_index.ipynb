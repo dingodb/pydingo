{
 "cells": [
  {
   "cell_type": "code",
   "execution_count": 5,
   "metadata": {},
   "outputs": [
    {
     "name": "stderr",
     "output_type": "stream",
     "text": [
      "I20240507 18:14:16.571800 3292885 coordinator_interaction.cc:64] [InitByNameService] Init channel by service_name file:///root/workspace/dingo-store/build/bin/coor_list service_type=0\n",
      "I20240507 18:14:16.571998 3292885 coordinator_interaction.cc:64] [InitByNameService] Init channel by service_name file:///root/workspace/dingo-store/build/bin/coor_list service_type=1\n",
      "I20240507 18:14:16.572081 3292885 coordinator_interaction.cc:64] [InitByNameService] Init channel by service_name file:///root/workspace/dingo-store/build/bin/coor_list service_type=3\n",
      "E20240507 18:14:16.572281 3292885 variable.cpp:174] Already exposed `dingo_threadpool_thread_pool_actuator_total_task_count' whose value is `0'\n",
      "E20240507 18:14:16.572356 3292885 variable.cpp:174] Already exposed `dingo_threadpool_thread_pool_actuator_pending_task_count' whose value is `0'\n"
     ]
    }
   ],
   "source": [
    "import numpy as np\n",
    "\n",
    "from dingodb.sdk import SDKDingoDB\n",
    "\n",
    "x = SDKDingoDB(\"file:///root/workspace/dingo-store/build/bin/coor_list\")\n",
    "\n",
    "index_name = \"test_index_grpc\""
   ]
  },
  {
   "cell_type": "code",
   "execution_count": 6,
   "metadata": {},
   "outputs": [
    {
     "name": "stderr",
     "output_type": "stream",
     "text": [
      "W20240507 18:14:18.222682 3292885 coordinator_interaction.h:203] [SendRequestByService] name_service_channel_ connect with meta server success by service name, connected to: 127.0.0.1:22002 found new leader: 127.0.0.1:22003\n"
     ]
    },
    {
     "data": {
      "text/plain": [
       "True"
      ]
     },
     "execution_count": 6,
     "metadata": {},
     "output_type": "execute_result"
    }
   ],
   "source": [
    "# create_index\n",
    "# help(x.create_index)\n",
    "x.create_index(index_name, 6, \"hnsw\", \"euclidean\", 3, index_config={\"efConstruction\": 300,\"maxElements\": 60000,\"nlinks\": 64}, operand=[5,10,15,20])\n"
   ]
  },
  {
   "cell_type": "code",
   "execution_count": 7,
   "metadata": {},
   "outputs": [],
   "source": [
    "# make dataset\n",
    "# 构建训练数据和查询数据\n",
    "d = 6                           # dimension\n",
    "nb = 4                      # database size\n",
    "np.random.seed(1234)             # make reproducible\n",
    "xb = np.random.random((nb, d)).astype('float32')\n",
    "xb[:, 0] += np.arange(nb) / 1000.\n",
    "\n",
    "ids = [1, 2, 3, 4]\n",
    "datas = [{\"a1\": \"b1\"}, {\"a2\": \"b2\"}, {\"a3\": \"b3\"}, {\"a4\": \"b4\"}]\n",
    "vectors = xb.tolist()"
   ]
  },
  {
   "cell_type": "code",
   "execution_count": 8,
   "metadata": {},
   "outputs": [
    {
     "name": "stderr",
     "output_type": "stream",
     "text": [
      "W20240507 18:14:20.659199 3292885 coordinator_interaction.h:203] [SendRequestByService] name_service_channel_ connect with meta server success by service name, connected to: 127.0.0.1:22001 found new leader: 127.0.0.1:22003\n"
     ]
    },
    {
     "data": {
      "text/plain": [
       "[{'id': 1,\n",
       "  'vector': {'dimension': 6,\n",
       "   'valueType': 'FLOAT',\n",
       "   'floatValues': [0.19151945412158966,\n",
       "    0.6221087574958801,\n",
       "    0.43772774934768677,\n",
       "    0.7853586077690125,\n",
       "    0.7799758315086365,\n",
       "    0.27259260416030884],\n",
       "   'binaryValues': []},\n",
       "  'scalarData': {'a1': {'fieldType': 'STRING', 'fields': ['b1']}}},\n",
       " {'id': 2,\n",
       "  'vector': {'dimension': 6,\n",
       "   'valueType': 'FLOAT',\n",
       "   'floatValues': [0.27746424078941345,\n",
       "    0.801872193813324,\n",
       "    0.9581393599510193,\n",
       "    0.8759326338768005,\n",
       "    0.35781726241111755,\n",
       "    0.5009950995445251],\n",
       "   'binaryValues': []},\n",
       "  'scalarData': {'a2': {'fieldType': 'STRING', 'fields': ['b2']}}},\n",
       " {'id': 3,\n",
       "  'vector': {'dimension': 6,\n",
       "   'valueType': 'FLOAT',\n",
       "   'floatValues': [0.6854628920555115,\n",
       "    0.7127020359039307,\n",
       "    0.37025076150894165,\n",
       "    0.5611962080001831,\n",
       "    0.5030831694602966,\n",
       "    0.013768449425697327],\n",
       "   'binaryValues': []},\n",
       "  'scalarData': {'a3': {'fieldType': 'STRING', 'fields': ['b3']}}},\n",
       " {'id': 4,\n",
       "  'vector': {'dimension': 6,\n",
       "   'valueType': 'FLOAT',\n",
       "   'floatValues': [0.775826632976532,\n",
       "    0.8826411962509155,\n",
       "    0.36488598585128784,\n",
       "    0.6153962016105652,\n",
       "    0.07538124173879623,\n",
       "    0.3688240051269531],\n",
       "   'binaryValues': []},\n",
       "  'scalarData': {'a4': {'fieldType': 'STRING', 'fields': ['b4']}}}]"
      ]
     },
     "execution_count": 8,
     "metadata": {},
     "output_type": "execute_result"
    }
   ],
   "source": [
    "\n",
    "x.vector_add(index_name, datas, vectors, ids)"
   ]
  },
  {
   "cell_type": "code",
   "execution_count": 9,
   "metadata": {},
   "outputs": [
    {
     "data": {
      "text/plain": [
       "[{'vectorWithDistances': [{'id': 1,\n",
       "    'vector': {'dimension': 6,\n",
       "     'valueType': 'FLOAT',\n",
       "     'floatValues': [0.19151945412158966,\n",
       "      0.6221087574958801,\n",
       "      0.43772774934768677,\n",
       "      0.7853586077690125,\n",
       "      0.7799758315086365,\n",
       "      0.27259260416030884],\n",
       "     'binaryValues': []},\n",
       "    'scalarData': {'a1': {'fieldType': 'STRING', 'fields': ['b1']}},\n",
       "    'distance': 0.0,\n",
       "    'metricType': 'METRIC_TYPE_L2'},\n",
       "   {'id': 3,\n",
       "    'vector': {'dimension': 6,\n",
       "     'valueType': 'FLOAT',\n",
       "     'floatValues': [0.6854628920555115,\n",
       "      0.7127020359039307,\n",
       "      0.37025076150894165,\n",
       "      0.5611962080001831,\n",
       "      0.5030831694602966,\n",
       "      0.013768449425697327],\n",
       "     'binaryValues': []},\n",
       "    'scalarData': {'a3': {'fieldType': 'STRING', 'fields': ['b3']}},\n",
       "    'distance': 0.450648695230484,\n",
       "    'metricType': 'METRIC_TYPE_L2'},\n",
       "   {'id': 2,\n",
       "    'vector': {'dimension': 6,\n",
       "     'valueType': 'FLOAT',\n",
       "     'floatValues': [0.27746424078941345,\n",
       "      0.801872193813324,\n",
       "      0.9581393599510193,\n",
       "      0.8759326338768005,\n",
       "      0.35781726241111755,\n",
       "      0.5009950995445251],\n",
       "     'binaryValues': []},\n",
       "    'scalarData': {'a2': {'fieldType': 'STRING', 'fields': ['b2']}},\n",
       "    'distance': 0.5491188764572144,\n",
       "    'metricType': 'METRIC_TYPE_L2'},\n",
       "   {'id': 4,\n",
       "    'vector': {'dimension': 6,\n",
       "     'valueType': 'FLOAT',\n",
       "     'floatValues': [0.775826632976532,\n",
       "      0.8826411962509155,\n",
       "      0.36488598585128784,\n",
       "      0.6153962016105652,\n",
       "      0.07538124173879623,\n",
       "      0.3688240051269531],\n",
       "     'binaryValues': []},\n",
       "    'scalarData': {'a4': {'fieldType': 'STRING', 'fields': ['b4']}},\n",
       "    'distance': 0.9491991996765137,\n",
       "    'metricType': 'METRIC_TYPE_L2'}]}]"
      ]
     },
     "execution_count": 9,
     "metadata": {},
     "output_type": "execute_result"
    }
   ],
   "source": [
    "# vector_search\n",
    "x.vector_search(index_name, vectors[0])\n",
    "# return \n",
    "    # error RuntimeError"
   ]
  },
  {
   "cell_type": "code",
   "execution_count": 10,
   "metadata": {},
   "outputs": [
    {
     "data": {
      "text/plain": [
       "[{'vectorWithDistances': [{'id': 1,\n",
       "    'vector': {'dimension': 6,\n",
       "     'valueType': 'FLOAT',\n",
       "     'floatValues': [0.19151945412158966,\n",
       "      0.6221087574958801,\n",
       "      0.43772774934768677,\n",
       "      0.7853586077690125,\n",
       "      0.7799758315086365,\n",
       "      0.27259260416030884],\n",
       "     'binaryValues': []},\n",
       "    'scalarData': {'a1': {'fieldType': 'STRING', 'fields': ['b1']}},\n",
       "    'distance': 0.0,\n",
       "    'metricType': 'METRIC_TYPE_L2'}]}]"
      ]
     },
     "execution_count": 10,
     "metadata": {},
     "output_type": "execute_result"
    }
   ],
   "source": [
    "# vector_search with pre_filter or post_filter\n",
    "x.vector_search(index_name, vectors[0], 10, {\"meta_expr\": {\"a1\": \"b1\"}})"
   ]
  },
  {
   "cell_type": "code",
   "execution_count": 11,
   "metadata": {},
   "outputs": [
    {
     "data": {
      "text/plain": [
       "[{'id': 1,\n",
       "  'vector': {'dimension': 6,\n",
       "   'valueType': 'FLOAT',\n",
       "   'floatValues': [0.19151945412158966,\n",
       "    0.6221087574958801,\n",
       "    0.43772774934768677,\n",
       "    0.7853586077690125,\n",
       "    0.7799758315086365,\n",
       "    0.27259260416030884],\n",
       "   'binaryValues': []},\n",
       "  'scalarData': {'a1': {'fieldType': 'STRING', 'fields': ['b1']}}},\n",
       " {'id': 2,\n",
       "  'vector': {'dimension': 6,\n",
       "   'valueType': 'FLOAT',\n",
       "   'floatValues': [0.27746424078941345,\n",
       "    0.801872193813324,\n",
       "    0.9581393599510193,\n",
       "    0.8759326338768005,\n",
       "    0.35781726241111755,\n",
       "    0.5009950995445251],\n",
       "   'binaryValues': []},\n",
       "  'scalarData': {'a2': {'fieldType': 'STRING', 'fields': ['b2']}}},\n",
       " {'id': 3,\n",
       "  'vector': {'dimension': 6,\n",
       "   'valueType': 'FLOAT',\n",
       "   'floatValues': [0.6854628920555115,\n",
       "    0.7127020359039307,\n",
       "    0.37025076150894165,\n",
       "    0.5611962080001831,\n",
       "    0.5030831694602966,\n",
       "    0.013768449425697327],\n",
       "   'binaryValues': []},\n",
       "  'scalarData': {'a3': {'fieldType': 'STRING', 'fields': ['b3']}}}]"
      ]
     },
     "execution_count": 11,
     "metadata": {},
     "output_type": "execute_result"
    }
   ],
   "source": [
    "# get index with id\n",
    "x.vector_get(index_name, [1, 2, 3])"
   ]
  },
  {
   "cell_type": "code",
   "execution_count": 12,
   "metadata": {},
   "outputs": [
    {
     "data": {
      "text/plain": [
       "[True, True, True]"
      ]
     },
     "execution_count": 12,
     "metadata": {},
     "output_type": "execute_result"
    }
   ],
   "source": [
    "# vector delete with id\n",
    "x.vector_delete(index_name, [1, 2, 3])"
   ]
  },
  {
   "cell_type": "code",
   "execution_count": 13,
   "metadata": {},
   "outputs": [
    {
     "data": {
      "text/plain": [
       "[{'id': 4,\n",
       "  'vector': {'dimension': 6,\n",
       "   'valueType': 'FLOAT',\n",
       "   'floatValues': [0.775826632976532,\n",
       "    0.8826411962509155,\n",
       "    0.36488598585128784,\n",
       "    0.6153962016105652,\n",
       "    0.07538124173879623,\n",
       "    0.3688240051269531],\n",
       "   'binaryValues': []},\n",
       "  'scalarData': {'a4': {'fieldType': 'STRING', 'fields': ['b4']}}}]"
      ]
     },
     "execution_count": 13,
     "metadata": {},
     "output_type": "execute_result"
    }
   ],
   "source": [
    "# Add: scan\n",
    "x.vector_scan(index_name, 1, 2)"
   ]
  },
  {
   "cell_type": "code",
   "execution_count": 14,
   "metadata": {},
   "outputs": [
    {
     "data": {
      "text/plain": [
       "1"
      ]
     },
     "execution_count": 14,
     "metadata": {},
     "output_type": "execute_result"
    }
   ],
   "source": [
    "# Add vector count \n",
    "x.vector_count(index_name)"
   ]
  },
  {
   "cell_type": "code",
   "execution_count": 15,
   "metadata": {},
   "outputs": [
    {
     "data": {
      "text/plain": [
       "'IndexMetricsResult: {index_type: Hnsw, count: 4, deleted_count: 3, max_vector_id: 4, min_vector_id: 4, memory_bytes: 1280}'"
      ]
     },
     "execution_count": 15,
     "metadata": {},
     "output_type": "execute_result"
    }
   ],
   "source": [
    "x.vector_metrics(index_name)"
   ]
  },
  {
   "cell_type": "code",
   "execution_count": 16,
   "metadata": {},
   "outputs": [
    {
     "data": {
      "text/plain": [
       "True"
      ]
     },
     "execution_count": 16,
     "metadata": {},
     "output_type": "execute_result"
    }
   ],
   "source": [
    "# delete_index\n",
    "x.delete_index(index_name)"
   ]
  },
  {
   "cell_type": "code",
   "execution_count": null,
   "metadata": {},
   "outputs": [],
   "source": []
  }
 ],
 "metadata": {
  "kernelspec": {
   "display_name": "pydingo",
   "language": "python",
   "name": "python3"
  },
  "language_info": {
   "codemirror_mode": {
    "name": "ipython",
    "version": 3
   },
   "file_extension": ".py",
   "mimetype": "text/x-python",
   "name": "python",
   "nbconvert_exporter": "python",
   "pygments_lexer": "ipython3",
   "version": "3.9.19"
  }
 },
 "nbformat": 4,
 "nbformat_minor": 2
}
