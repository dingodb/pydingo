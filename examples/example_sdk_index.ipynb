{
 "cells": [
  {
   "cell_type": "code",
   "execution_count": null,
   "metadata": {},
   "outputs": [],
   "source": [
    "import numpy as np\n",
    "import os\n",
    "\n",
    "from dingodb.sdk import SDKDingoDB\n",
    "from dingodb.common.rep import ScalarType, ScalarColumn, ScalarSchema\n",
    "\n",
    "addrs=\"127.0.0.1:22001,127.0.0.1:22002,127.0.0.1:22003\"\n",
    "x = SDKDingoDB(addrs)\n",
    "\n",
    "index_name = \"test_index_grpc\""
   ]
  },
  {
   "cell_type": "code",
   "execution_count": null,
   "metadata": {},
   "outputs": [],
   "source": [
    "# create_index\n",
    "# help(x.create_index)\n",
    "x.create_index(index_name, 6, \"hnsw\", \"euclidean\", 3, index_config={\"efConstruction\": 300,\"maxElements\": 60000,\"nlinks\": 64}, operand=[5,10,15,20])\n"
   ]
  },
  {
   "cell_type": "code",
   "execution_count": null,
   "metadata": {},
   "outputs": [],
   "source": [
    "# make dataset\n",
    "# 构建训练数据和查询数据\n",
    "d = 6                           # dimension\n",
    "nb = 4                      # database size\n",
    "np.random.seed(1234)             # make reproducible\n",
    "xb = np.random.random((nb, d)).astype('float32')\n",
    "xb[:, 0] += np.arange(nb) / 1000.\n",
    "\n",
    "ids = [1, 2, 3, 4]\n",
    "datas = [{\"a1\": \"b1\"}, {\"a2\": \"b2\"}, {\"a3\": \"b3\"}, {\"a4\": \"b4\"}]\n",
    "vectors = xb.tolist()"
   ]
  },
  {
   "cell_type": "code",
   "execution_count": null,
   "metadata": {},
   "outputs": [],
   "source": [
    "\n",
    "x.vector_add(index_name, datas, vectors, ids)"
   ]
  },
  {
   "cell_type": "code",
   "execution_count": null,
   "metadata": {},
   "outputs": [],
   "source": [
    "# vector_search\n",
    "x.vector_search(index_name, vectors[0])\n",
    "# return \n",
    "    # error RuntimeError"
   ]
  },
  {
   "cell_type": "code",
   "execution_count": null,
   "metadata": {},
   "outputs": [],
   "source": [
    "# vector_search with pre_filter or post_filter\n",
    "x.vector_search(index_name, vectors[0], 10, {\"meta_expr\": {\"a1\": \"b1\"}})"
   ]
  },
  {
   "cell_type": "code",
   "execution_count": null,
   "metadata": {},
   "outputs": [],
   "source": [
    "# get index with id\n",
    "x.vector_get(index_name, [1, 2, 3])"
   ]
  },
  {
   "cell_type": "code",
   "execution_count": null,
   "metadata": {},
   "outputs": [],
   "source": [
    "# vector delete with id\n",
    "x.vector_delete(index_name, [1, 2, 3])"
   ]
  },
  {
   "cell_type": "code",
   "execution_count": null,
   "metadata": {},
   "outputs": [],
   "source": [
    "# Add: scan\n",
    "x.vector_scan(index_name, 1, 2)"
   ]
  },
  {
   "cell_type": "code",
   "execution_count": null,
   "metadata": {},
   "outputs": [],
   "source": [
    "# Add vector count \n",
    "x.vector_count(index_name)"
   ]
  },
  {
   "cell_type": "code",
   "execution_count": null,
   "metadata": {},
   "outputs": [],
   "source": [
    "x.vector_metrics(index_name)"
   ]
  },
  {
   "cell_type": "code",
   "execution_count": null,
   "metadata": {},
   "outputs": [],
   "source": [
    "x.get_max_index_row(index_name)"
   ]
  },
  {
   "cell_type": "code",
   "execution_count": null,
   "metadata": {},
   "outputs": [],
   "source": [
    "# delete_index\n",
    "x.delete_index(index_name)"
   ]
  },
  {
   "cell_type": "code",
   "execution_count": null,
   "metadata": {},
   "outputs": [],
   "source": [
    "scheme =  ScalarSchema()\n",
    "col = ScalarColumn(\"id\", ScalarType.STRING, True)\n",
    "scheme.add_scalar_column(col)\n",
    "col = ScalarColumn(\"name\", ScalarType.STRING, False)\n",
    "scheme.add_scalar_column(col)\n",
    "\n",
    "x.create_index_with_schema(index_name, 6, scheme, \"hnsw\", \"euclidean\", 3, index_config={\"efConstruction\": 300,\"maxElements\": 60000,\"nlinks\": 64}, operand=[5,10,15,20])\n",
    "\n"
   ]
  },
  {
   "cell_type": "code",
   "execution_count": null,
   "metadata": {},
   "outputs": [],
   "source": [
    "\n",
    "# make dataset\n",
    "# 构建训练数据和查询数据\n",
    "d = 6                           # dimension\n",
    "nb = 4                      # database size\n",
    "np.random.seed(1234)             # make reproducible\n",
    "xb = np.random.random((nb, d)).astype('float32')\n",
    "xb[:, 0] += np.arange(nb) / 1000.\n",
    "\n",
    "ids = [1, 2, 3, 4]\n",
    "datas = [{\"id\": \"1\", \"name\": \"1\"}, {\"id\": \"2\", \"name\": \"2\"}, {\"id\": \"3\", \"name\": \"3\"}, {\"id\": \"4\", \"name\": \"4\"}]\n",
    "vectors = xb.tolist()\n",
    "\n",
    "x.vector_add(index_name, datas, vectors, ids)"
   ]
  },
  {
   "cell_type": "code",
   "execution_count": null,
   "metadata": {},
   "outputs": [],
   "source": [
    "\n",
    "# get index with id\n",
    "x.vector_get(index_name, [1, 2, 3, 4])"
   ]
  },
  {
   "cell_type": "code",
   "execution_count": null,
   "metadata": {},
   "outputs": [],
   "source": [
    "\n",
    "# delete_index\n",
    "x.delete_index(index_name)"
   ]
  }
 ],
 "metadata": {
  "kernelspec": {
   "display_name": "pydingo",
   "language": "python",
   "name": "python3"
  },
  "language_info": {
   "codemirror_mode": {
    "name": "ipython",
    "version": 3
   },
   "file_extension": ".py",
   "mimetype": "text/x-python",
   "name": "python",
   "nbconvert_exporter": "python",
   "pygments_lexer": "ipython3",
   "version": "3.9.19"
  }
 },
 "nbformat": 4,
 "nbformat_minor": 2
}
