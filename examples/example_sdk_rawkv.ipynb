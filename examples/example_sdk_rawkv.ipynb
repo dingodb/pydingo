{
 "cells": [
  {
   "cell_type": "code",
   "execution_count": null,
   "metadata": {
    "ExecuteTime": {
     "end_time": "2024-07-16T10:27:51.794238Z",
     "start_time": "2024-07-16T10:27:51.217213Z"
    }
   },
   "outputs": [],
   "source": [
    "import numpy as np\n",
    "import os\n",
    "\n",
    "from dingodb import SDKRawKVDingoDB, SDKClient\n",
    "\n",
    "# need to create region ( range(wa,wc) for this example ) before using SDKRawKVDingoDB\n",
    "\n",
    "addrs = \"127.0.0.1:22001,127.0.0.1:22002,127.0.0.1:22003\"\n",
    "sdk_client = SDKClient(addrs)\n",
    "x = SDKRawKVDingoDB(sdk_client)\n",
    "print(x)\n",
    "\n",
    "\n",
    "\n"
   ]
  },
  {
   "cell_type": "code",
   "execution_count": null,
   "metadata": {},
   "outputs": [],
   "source": [
    "x.rawkv_put(\"wb01\", \"value1\")\n"
   ]
  },
  {
   "cell_type": "code",
   "execution_count": null,
   "metadata": {},
   "outputs": [],
   "source": [
    "x.rawkv_batch_put([\n",
    "    (\"wb02\", \"value2\"),\n",
    "    (\"wb03\", \"value3\"),\n",
    "    (\"wb04\", \"value4\"),\n",
    "    (\"wb05\", \"value5\"),\n",
    "    (\"wb06\", \"value6\"),\n",
    "    (\"wb07\", \"value7\"),\n",
    "    (\"wb08\", \"value8\"),\n",
    "    (\"wb09\", \"value9\"),\n",
    "    (\"wb10\", \"value10\"),\n",
    "    (\"wb11\", \"value11\"),\n",
    "    (\"wb12\", \"value12\"),\n",
    "    (\"wb13\", \"value13\"),\n",
    "    (\"wb14\", \"value14\"),\n",
    "    (\"wb15\", \"value15\")])"
   ]
  },
  {
   "cell_type": "code",
   "execution_count": null,
   "metadata": {},
   "outputs": [],
   "source": [
    "x.rawkv_get(\"wb01\")"
   ]
  },
  {
   "cell_type": "code",
   "execution_count": null,
   "metadata": {},
   "outputs": [],
   "source": [
    "\n",
    "[kv.to_dict() for kv in x.rawkv_batch_get([\n",
    "    \"wb01\",\n",
    "    \"wb02\",\n",
    "    \"wb03\",\n",
    "    \"wb04\",\n",
    "    \"wb05\",\n",
    "    \"wb06\",\n",
    "    \"wb07\",\n",
    "    \"wb08\",\n",
    "    \"wb09\",\n",
    "    \"wb10\",\n",
    "    \"wb11\",\n",
    "    \"wb12\",\n",
    "    \"wb13\",\n",
    "    \"wb14\",\n",
    "    \"wb15\"\n",
    "])]"
   ]
  },
  {
   "cell_type": "code",
   "execution_count": null,
   "metadata": {},
   "outputs": [],
   "source": [
    "x.rawkv_put_if_absent(\"wb16\", \"value16\")"
   ]
  },
  {
   "cell_type": "code",
   "execution_count": null,
   "metadata": {},
   "outputs": [],
   "source": [
    "x.rawkv_delete(\"wb16\")"
   ]
  },
  {
   "cell_type": "code",
   "execution_count": null,
   "metadata": {},
   "outputs": [],
   "source": [
    "x.rawkv_batch_delete([\n",
    "    \"wb01\",\n",
    "    \"wb02\",\n",
    "])"
   ]
  },
  {
   "cell_type": "code",
   "execution_count": null,
   "metadata": {},
   "outputs": [],
   "source": [
    "[kv.to_dict() for kv in x.rawkv_batch_put_if_absent([\n",
    "    (\"wb01\", \"value1\"),\n",
    "    (\"wb02\", \"value2\"),\n",
    "    (\"wb03\", \"value3\"),\n",
    "    (\"wb04\", \"value4\"),\n",
    "    (\"wb05\", \"value5\"),\n",
    "    (\"wb06\", \"value6\"),\n",
    "    (\"wb07\", \"value7\"),\n",
    "    (\"wb08\", \"value8\"),\n",
    "    (\"wb09\", \"value9\"),\n",
    "    (\"wb10\", \"value10\"),\n",
    "    (\"wb11\", \"value11\"),\n",
    "    (\"wb12\", \"value12\"),\n",
    "    (\"wb13\", \"value13\"),\n",
    "    (\"wb14\", \"value14\"),\n",
    "    (\"wb15\", \"value15\")])]"
   ]
  },
  {
   "cell_type": "code",
   "execution_count": null,
   "metadata": {},
   "outputs": [],
   "source": [
    "[kv.to_dict() for kv in x.rawkv_scan(\"wb\", \"wc\", 15)]"
   ]
  },
  {
   "cell_type": "code",
   "execution_count": null,
   "metadata": {},
   "outputs": [],
   "source": [
    "x.rawkv_delete_range(\"wa\", \"wc\")"
   ]
  }
 ],
 "metadata": {
  "kernelspec": {
   "display_name": "py39",
   "language": "python",
   "name": "python3"
  },
  "language_info": {
   "codemirror_mode": {
    "name": "ipython",
    "version": 3
   },
   "file_extension": ".py",
   "mimetype": "text/x-python",
   "name": "python",
   "nbconvert_exporter": "python",
   "pygments_lexer": "ipython3",
   "version": "3.9.19"
  }
 },
 "nbformat": 4,
 "nbformat_minor": 2
}
