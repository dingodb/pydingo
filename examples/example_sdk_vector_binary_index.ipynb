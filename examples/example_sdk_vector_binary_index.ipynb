{
 "cells": [
  {
   "cell_type": "code",
   "execution_count": null,
   "metadata": {
    "ExecuteTime": {
     "end_time": "2024-07-16T10:27:51.794238Z",
     "start_time": "2024-07-16T10:27:51.217213Z"
    }
   },
   "outputs": [],
   "source": [
    "import numpy as np\n",
    "import os\n",
    "\n",
    "from dingodb import SDKVectorDingoDB, SDKClient\n",
    "from dingodb.common.vector_rep import ScalarType, ScalarColumn, ScalarSchema\n",
    "\n",
    "addrs = \"127.0.0.1:22001,127.0.0.1:22002,127.0.0.1:22003\"\n",
    "sdk_client = SDKClient(addrs)\n",
    "x = SDKVectorDingoDB(sdk_client)\n",
    "print(x)\n",
    "\n",
    "index_name = \"test_index_grpc1\""
   ]
  },
  {
   "cell_type": "code",
   "execution_count": null,
   "metadata": {
    "ExecuteTime": {
     "end_time": "2024-07-16T10:27:52.519291Z",
     "start_time": "2024-07-16T10:27:52.455817Z"
    }
   },
   "outputs": [],
   "source": [
    "# delete_index\n",
    "x.delete_index(index_name)"
   ]
  },
  {
   "cell_type": "code",
   "execution_count": null,
   "metadata": {
    "ExecuteTime": {
     "end_time": "2024-07-16T10:27:53.219222Z",
     "start_time": "2024-07-16T10:27:53.177044Z"
    }
   },
   "outputs": [],
   "source": [
    "\n",
    "# create_index\n",
    "# help(x.create_index)\n",
    "#x.create_index(index_name, 8, \"binary_flat\", \"hamming\", 3, operand=[5,10,15,20])\n",
    "col = ScalarColumn(\"id\",ScalarType.DOUBLE,True)\n",
    "sca = ScalarSchema()\n",
    "sca.add_scalar_column(col)\n",
    "x.create_index_with_schema(index_name, 16,sca, \"binary_ivf_flat\", \"hamming\", 3, operand=[100,500,1500,3000,6000])\n",
    "\n",
    "\n"
   ]
  },
  {
   "cell_type": "code",
   "execution_count": null,
   "metadata": {
    "ExecuteTime": {
     "end_time": "2024-07-16T10:27:53.897589Z",
     "start_time": "2024-07-16T10:27:53.888849Z"
    }
   },
   "outputs": [],
   "source": [
    "# make dataset\n",
    "# 构建训练数据和查询数据\n",
    "d = 16                           # dimension\n",
    "bd = 2                     #binary dimension\n",
    "nb = 4                      # database size\n",
    "np.random.seed(1234)             # make reproducible\n",
    "xb = np.random.randint(0, 255, (nb, bd))  # 生成范围为 0-255 的随机整数\n",
    "print(xb.shape)\n",
    "xb[:, 0] += np.arange(nb) \n",
    "print(xb)\n",
    "print(xb.shape)\n",
    "\n",
    "ids = [1, 2, 3, 4]\n",
    "datas = [{\"id\": 50}, {\"id\": 120}, {\"id\": 130}, {\"id\": 4.40}]\n",
    "vectors = xb.tolist()"
   ]
  },
  {
   "cell_type": "code",
   "execution_count": null,
   "metadata": {
    "ExecuteTime": {
     "end_time": "2024-07-16T10:27:55.463073Z",
     "start_time": "2024-07-16T10:27:54.877823Z"
    }
   },
   "outputs": [],
   "source": [
    "# vector_add\n",
    "for i in range(10):\n",
    "    x.vector_add(index_name, datas, vectors, ids,\"binary\")\n",
    "\n"
   ]
  },
  {
   "cell_type": "code",
   "execution_count": null,
   "metadata": {},
   "outputs": [],
   "source": [
    "x.vector_delete(index_name,ids)"
   ]
  },
  {
   "cell_type": "code",
   "execution_count": null,
   "metadata": {},
   "outputs": [],
   "source": [
    "x.vector_get_auto_increment_id(index_name)"
   ]
  },
  {
   "cell_type": "code",
   "execution_count": null,
   "metadata": {},
   "outputs": [],
   "source": [
    "x.vector_update_auto_increment_id(index_name,16)"
   ]
  },
  {
   "cell_type": "code",
   "execution_count": null,
   "metadata": {},
   "outputs": [],
   "source": [
    "x.vector_upsert(index_name, datas, vectors, ids,\"binary\")"
   ]
  },
  {
   "cell_type": "code",
   "execution_count": null,
   "metadata": {
    "ExecuteTime": {
     "end_time": "2024-07-16T10:28:00.883739Z",
     "start_time": "2024-07-16T10:28:00.857822Z"
    }
   },
   "outputs": [],
   "source": [
    "# vector_search\n",
    "x.vector_search(index_name, vectors[0],value_type=\"binary\")\n",
    "# return \n",
    "    # error RuntimeError"
   ]
  },
  {
   "cell_type": "code",
   "execution_count": null,
   "metadata": {
    "ExecuteTime": {
     "end_time": "2024-07-16T10:28:02.485501Z",
     "start_time": "2024-07-16T10:28:02.464724Z"
    }
   },
   "outputs": [],
   "source": [
    "# vector_search with pre_filter or post_filter\n",
    "x.vector_search(index_name, vectors[0], 10, {\"meta_expr\": {\"id\": 1}},value_type=\"binary\")"
   ]
  },
  {
   "cell_type": "code",
   "execution_count": null,
   "metadata": {
    "ExecuteTime": {
     "end_time": "2024-07-16T10:28:03.395888Z",
     "start_time": "2024-07-16T10:28:03.382135Z"
    }
   },
   "outputs": [],
   "source": [
    "# get index with id\n",
    "x.vector_get(index_name, [1, 2, 6])"
   ]
  },
  {
   "cell_type": "code",
   "execution_count": null,
   "metadata": {
    "ExecuteTime": {
     "end_time": "2024-07-16T10:29:57.448388Z",
     "start_time": "2024-07-16T10:29:33.018301Z"
    }
   },
   "outputs": [],
   "source": [
    "# Add: scan\n",
    "x.vector_scan(index_name, 20, 60,is_reverse=True,end_id=0)"
   ]
  },
  {
   "cell_type": "code",
   "execution_count": null,
   "metadata": {
    "ExecuteTime": {
     "end_time": "2024-07-16T10:28:18.179764Z",
     "start_time": "2024-07-16T10:28:18.164717Z"
    }
   },
   "outputs": [],
   "source": [
    "# Add vector count \n",
    "x.vector_count(index_name)"
   ]
  },
  {
   "cell_type": "code",
   "execution_count": null,
   "metadata": {
    "ExecuteTime": {
     "end_time": "2024-07-16T10:28:18.989679Z",
     "start_time": "2024-07-16T10:28:18.976623Z"
    }
   },
   "outputs": [],
   "source": [
    "x.vector_metrics(index_name)"
   ]
  },
  {
   "cell_type": "code",
   "execution_count": null,
   "metadata": {
    "ExecuteTime": {
     "end_time": "2024-07-16T10:28:20.024257Z",
     "start_time": "2024-07-16T10:28:20.008345Z"
    }
   },
   "outputs": [],
   "source": [
    "x.get_max_index_row(index_name)"
   ]
  },
  {
   "cell_type": "code",
   "execution_count": null,
   "metadata": {
    "ExecuteTime": {
     "end_time": "2024-07-16T10:28:21.001998Z",
     "start_time": "2024-07-16T10:28:20.987849Z"
    }
   },
   "outputs": [],
   "source": [
    "# delete_index\n",
    "x.delete_index(index_name)"
   ]
  }
 ],
 "metadata": {
  "kernelspec": {
   "display_name": "py39",
   "language": "python",
   "name": "python3"
  },
  "language_info": {
   "codemirror_mode": {
    "name": "ipython",
    "version": 3
   },
   "file_extension": ".py",
   "mimetype": "text/x-python",
   "name": "python",
   "nbconvert_exporter": "python",
   "pygments_lexer": "ipython3",
   "version": "3.9.19"
  }
 },
 "nbformat": 4,
 "nbformat_minor": 2
}
