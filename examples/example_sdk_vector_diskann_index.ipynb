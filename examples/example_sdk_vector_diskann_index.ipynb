{
 "cells": [
  {
   "cell_type": "code",
   "execution_count": 1,
   "metadata": {},
   "outputs": [
    {
     "name": "stdout",
     "output_type": "stream",
     "text": [
      "<dingodb.sdk_vector.sdk_vector_db.SDKVectorDingoDB object at 0x7f45d02d2a30>\n"
     ]
    }
   ],
   "source": [
    "import numpy as np\n",
    "import os\n",
    "\n",
    "from dingodb import SDKVectorDingoDB, SDKClient\n",
    "from dingodb.common.vector_rep import ScalarType, ScalarColumn, ScalarSchema\n",
    "\n",
    "addrs = \"172.30.14.11:22001,172.30.14.11:22002,172.30.14.11:22003\"\n",
    "sdk_client = SDKClient(addrs)\n",
    "x = SDKVectorDingoDB(sdk_client)\n",
    "print(x)\n",
    "\n",
    "\n",
    "index_name = \"test_index_grpc\""
   ]
  },
  {
   "cell_type": "code",
   "execution_count": 2,
   "metadata": {},
   "outputs": [
    {
     "data": {
      "text/plain": [
       "True"
      ]
     },
     "execution_count": 2,
     "metadata": {},
     "output_type": "execute_result"
    }
   ],
   "source": [
    "# delete_index\n",
    "x.delete_index(index_name)"
   ]
  },
  {
   "cell_type": "code",
   "execution_count": 3,
   "metadata": {},
   "outputs": [
    {
     "data": {
      "text/plain": [
       "True"
      ]
     },
     "execution_count": 3,
     "metadata": {},
     "output_type": "execute_result"
    }
   ],
   "source": [
    "# create_index\n",
    "# help(x.create_index)\n",
    "x.create_index(index_name, 6, \"diskann\", \"euclidean\", 3, index_config={\"valueType\": \"float\",\"searchListSize\": 100,\"maxDegree\": 64}, operand=[5,10,15,20])\n"
   ]
  },
  {
   "cell_type": "code",
   "execution_count": 4,
   "metadata": {},
   "outputs": [
    {
     "name": "stdout",
     "output_type": "stream",
     "text": [
      "[[0.19151945 0.62210876 0.43772775 0.7853586  0.77997583 0.2725926 ]\n",
      " [0.27646425 0.8018722  0.95813936 0.87593263 0.35781726 0.5009951 ]\n",
      " [0.6834629  0.71270204 0.37025076 0.5611962  0.50308317 0.01376845]\n",
      " [0.7728266  0.8826412  0.364886   0.6153962  0.07538124 0.368824  ]]\n",
      "(4, 6)\n",
      "[[0.19151945 0.62210876 0.43772775 0.7853586  0.77997583 0.2725926 ]\n",
      " [0.27746424 0.8018722  0.95813936 0.87593263 0.35781726 0.5009951 ]\n",
      " [0.6854629  0.71270204 0.37025076 0.5611962  0.50308317 0.01376845]\n",
      " [0.77582663 0.8826412  0.364886   0.6153962  0.07538124 0.368824  ]]\n",
      "(4, 6)\n"
     ]
    }
   ],
   "source": [
    "# make dataset\n",
    "# 构建训练数据和查询数据\n",
    "d = 6                           # dimension\n",
    "nb = 4                      # database size\n",
    "np.random.seed(1234)             # make reproducible\n",
    "xb = np.random.random((nb, d)).astype('float32')\n",
    "print(xb)\n",
    "print(xb.shape)\n",
    "xb[:, 0] += np.arange(nb) / 1000.\n",
    "print(xb)\n",
    "print(xb.shape)\n",
    "\n",
    "ids = [1, 2, 3, 4]\n",
    "datas = [{\"a1\": \"b1\"}, {\"a2\": \"b2\"}, {\"a3\": \"b3\"}, {\"a4\": \"b4\"}]\n",
    "vectors = xb.tolist()"
   ]
  },
  {
   "cell_type": "code",
   "execution_count": 5,
   "metadata": {},
   "outputs": [
    {
     "data": {
      "text/plain": [
       "[{'id': 13,\n",
       "  'vector': {'dimension': 6,\n",
       "   'valueType': 'FLOAT',\n",
       "   'floatValues': [0.19151945412158966,\n",
       "    0.6221087574958801,\n",
       "    0.43772774934768677,\n",
       "    0.7853586077690125,\n",
       "    0.7799758315086365,\n",
       "    0.27259260416030884],\n",
       "   'binaryValues': []},\n",
       "  'scalarData': {'a1': {'fieldType': 'STRING', 'fields': ['b1']}}},\n",
       " {'id': 14,\n",
       "  'vector': {'dimension': 6,\n",
       "   'valueType': 'FLOAT',\n",
       "   'floatValues': [0.27746424078941345,\n",
       "    0.801872193813324,\n",
       "    0.9581393599510193,\n",
       "    0.8759326338768005,\n",
       "    0.35781726241111755,\n",
       "    0.5009950995445251],\n",
       "   'binaryValues': []},\n",
       "  'scalarData': {'a2': {'fieldType': 'STRING', 'fields': ['b2']}}},\n",
       " {'id': 15,\n",
       "  'vector': {'dimension': 6,\n",
       "   'valueType': 'FLOAT',\n",
       "   'floatValues': [0.6854628920555115,\n",
       "    0.7127020359039307,\n",
       "    0.37025076150894165,\n",
       "    0.5611962080001831,\n",
       "    0.5030831694602966,\n",
       "    0.013768449425697327],\n",
       "   'binaryValues': []},\n",
       "  'scalarData': {'a3': {'fieldType': 'STRING', 'fields': ['b3']}}},\n",
       " {'id': 16,\n",
       "  'vector': {'dimension': 6,\n",
       "   'valueType': 'FLOAT',\n",
       "   'floatValues': [0.775826632976532,\n",
       "    0.8826411962509155,\n",
       "    0.36488598585128784,\n",
       "    0.6153962016105652,\n",
       "    0.07538124173879623,\n",
       "    0.3688240051269531],\n",
       "   'binaryValues': []},\n",
       "  'scalarData': {'a4': {'fieldType': 'STRING', 'fields': ['b4']}}}]"
      ]
     },
     "execution_count": 5,
     "metadata": {},
     "output_type": "execute_result"
    }
   ],
   "source": [
    "# vector_add\n",
    "x.vector_import_add(index_name, datas, vectors, ids)\n",
    "x.vector_import_add(index_name, datas, vectors, ids)\n",
    "x.vector_import_add(index_name, datas, vectors, ids)\n",
    "x.vector_import_add(index_name, datas, vectors, ids)"
   ]
  },
  {
   "cell_type": "code",
   "execution_count": 6,
   "metadata": {},
   "outputs": [
    {
     "data": {
      "text/plain": [
       "[]"
      ]
     },
     "execution_count": 6,
     "metadata": {},
     "output_type": "execute_result"
    }
   ],
   "source": [
    "x.vector_build_by_index(index_name)"
   ]
  },
  {
   "cell_type": "code",
   "execution_count": 7,
   "metadata": {},
   "outputs": [
    {
     "data": {
      "text/plain": [
       "[{'region_id ': 80001, 'region_state': 'Builded'},\n",
       " {'region_id ': 80002, 'region_state': 'Builded'},\n",
       " {'region_id ': 80003, 'region_state': 'Builded'},\n",
       " {'region_id ': 80004, 'region_state': 'Builded'},\n",
       " {'region_id ': 80005, 'region_state': 'NoData'}]"
      ]
     },
     "execution_count": 7,
     "metadata": {},
     "output_type": "execute_result"
    }
   ],
   "source": [
    "[r.to_dict() for r in x.vector_status_by_index(index_name)]"
   ]
  },
  {
   "cell_type": "code",
   "execution_count": 8,
   "metadata": {},
   "outputs": [
    {
     "data": {
      "text/plain": [
       "16"
      ]
     },
     "execution_count": 8,
     "metadata": {},
     "output_type": "execute_result"
    }
   ],
   "source": [
    "x.vector_count_memory(index_name)"
   ]
  },
  {
   "cell_type": "code",
   "execution_count": 9,
   "metadata": {},
   "outputs": [
    {
     "data": {
      "text/plain": [
       "[]"
      ]
     },
     "execution_count": 9,
     "metadata": {},
     "output_type": "execute_result"
    }
   ],
   "source": [
    "[r.to_dict() for r in x.vector_load_by_index(index_name)]"
   ]
  },
  {
   "cell_type": "code",
   "execution_count": 10,
   "metadata": {},
   "outputs": [
    {
     "data": {
      "text/plain": [
       "[{'vectorWithDistances': [{'id': 1,\n",
       "    'vector': {'dimension': 6,\n",
       "     'valueType': 'FLOAT',\n",
       "     'floatValues': [0.19151945412158966,\n",
       "      0.6221087574958801,\n",
       "      0.43772774934768677,\n",
       "      0.7853586077690125,\n",
       "      0.7799758315086365,\n",
       "      0.27259260416030884],\n",
       "     'binaryValues': []},\n",
       "    'scalarData': {'a1': {'fieldType': 'STRING', 'fields': ['b1']}},\n",
       "    'distance': 0.0,\n",
       "    'metricType': 'METRIC_TYPE_L2'},\n",
       "   {'id': 13,\n",
       "    'vector': {'dimension': 6,\n",
       "     'valueType': 'FLOAT',\n",
       "     'floatValues': [0.19151945412158966,\n",
       "      0.6221087574958801,\n",
       "      0.43772774934768677,\n",
       "      0.7853586077690125,\n",
       "      0.7799758315086365,\n",
       "      0.27259260416030884],\n",
       "     'binaryValues': []},\n",
       "    'scalarData': {'a1': {'fieldType': 'STRING', 'fields': ['b1']}},\n",
       "    'distance': 0.0,\n",
       "    'metricType': 'METRIC_TYPE_L2'},\n",
       "   {'id': 5,\n",
       "    'vector': {'dimension': 6,\n",
       "     'valueType': 'FLOAT',\n",
       "     'floatValues': [0.19151945412158966,\n",
       "      0.6221087574958801,\n",
       "      0.43772774934768677,\n",
       "      0.7853586077690125,\n",
       "      0.7799758315086365,\n",
       "      0.27259260416030884],\n",
       "     'binaryValues': []},\n",
       "    'scalarData': {'a1': {'fieldType': 'STRING', 'fields': ['b1']}},\n",
       "    'distance': 0.0,\n",
       "    'metricType': 'METRIC_TYPE_L2'},\n",
       "   {'id': 9,\n",
       "    'vector': {'dimension': 6,\n",
       "     'valueType': 'FLOAT',\n",
       "     'floatValues': [0.19151945412158966,\n",
       "      0.6221087574958801,\n",
       "      0.43772774934768677,\n",
       "      0.7853586077690125,\n",
       "      0.7799758315086365,\n",
       "      0.27259260416030884],\n",
       "     'binaryValues': []},\n",
       "    'scalarData': {'a1': {'fieldType': 'STRING', 'fields': ['b1']}},\n",
       "    'distance': 0.0,\n",
       "    'metricType': 'METRIC_TYPE_L2'},\n",
       "   {'id': 15,\n",
       "    'vector': {'dimension': 6,\n",
       "     'valueType': 'FLOAT',\n",
       "     'floatValues': [0.6854628920555115,\n",
       "      0.7127020359039307,\n",
       "      0.37025076150894165,\n",
       "      0.5611962080001831,\n",
       "      0.5030831694602966,\n",
       "      0.013768449425697327],\n",
       "     'binaryValues': []},\n",
       "    'scalarData': {'a3': {'fieldType': 'STRING', 'fields': ['b3']}},\n",
       "    'distance': 0.450648695230484,\n",
       "    'metricType': 'METRIC_TYPE_L2'},\n",
       "   {'id': 3,\n",
       "    'vector': {'dimension': 6,\n",
       "     'valueType': 'FLOAT',\n",
       "     'floatValues': [0.6854628920555115,\n",
       "      0.7127020359039307,\n",
       "      0.37025076150894165,\n",
       "      0.5611962080001831,\n",
       "      0.5030831694602966,\n",
       "      0.013768449425697327],\n",
       "     'binaryValues': []},\n",
       "    'scalarData': {'a3': {'fieldType': 'STRING', 'fields': ['b3']}},\n",
       "    'distance': 0.450648695230484,\n",
       "    'metricType': 'METRIC_TYPE_L2'},\n",
       "   {'id': 11,\n",
       "    'vector': {'dimension': 6,\n",
       "     'valueType': 'FLOAT',\n",
       "     'floatValues': [0.6854628920555115,\n",
       "      0.7127020359039307,\n",
       "      0.37025076150894165,\n",
       "      0.5611962080001831,\n",
       "      0.5030831694602966,\n",
       "      0.013768449425697327],\n",
       "     'binaryValues': []},\n",
       "    'scalarData': {'a3': {'fieldType': 'STRING', 'fields': ['b3']}},\n",
       "    'distance': 0.450648695230484,\n",
       "    'metricType': 'METRIC_TYPE_L2'},\n",
       "   {'id': 7,\n",
       "    'vector': {'dimension': 6,\n",
       "     'valueType': 'FLOAT',\n",
       "     'floatValues': [0.6854628920555115,\n",
       "      0.7127020359039307,\n",
       "      0.37025076150894165,\n",
       "      0.5611962080001831,\n",
       "      0.5030831694602966,\n",
       "      0.013768449425697327],\n",
       "     'binaryValues': []},\n",
       "    'scalarData': {'a3': {'fieldType': 'STRING', 'fields': ['b3']}},\n",
       "    'distance': 0.450648695230484,\n",
       "    'metricType': 'METRIC_TYPE_L2'},\n",
       "   {'id': 2,\n",
       "    'vector': {'dimension': 6,\n",
       "     'valueType': 'FLOAT',\n",
       "     'floatValues': [0.27746424078941345,\n",
       "      0.801872193813324,\n",
       "      0.9581393599510193,\n",
       "      0.8759326338768005,\n",
       "      0.35781726241111755,\n",
       "      0.5009950995445251],\n",
       "     'binaryValues': []},\n",
       "    'scalarData': {'a2': {'fieldType': 'STRING', 'fields': ['b2']}},\n",
       "    'distance': 0.5491188764572144,\n",
       "    'metricType': 'METRIC_TYPE_L2'},\n",
       "   {'id': 10,\n",
       "    'vector': {'dimension': 6,\n",
       "     'valueType': 'FLOAT',\n",
       "     'floatValues': [0.27746424078941345,\n",
       "      0.801872193813324,\n",
       "      0.9581393599510193,\n",
       "      0.8759326338768005,\n",
       "      0.35781726241111755,\n",
       "      0.5009950995445251],\n",
       "     'binaryValues': []},\n",
       "    'scalarData': {'a2': {'fieldType': 'STRING', 'fields': ['b2']}},\n",
       "    'distance': 0.5491188764572144,\n",
       "    'metricType': 'METRIC_TYPE_L2'}]}]"
      ]
     },
     "execution_count": 10,
     "metadata": {},
     "output_type": "execute_result"
    }
   ],
   "source": [
    "x.vector_search(index_name, vectors[0])"
   ]
  },
  {
   "cell_type": "code",
   "execution_count": 11,
   "metadata": {},
   "outputs": [
    {
     "data": {
      "text/plain": [
       "[]"
      ]
     },
     "execution_count": 11,
     "metadata": {},
     "output_type": "execute_result"
    }
   ],
   "source": [
    "[r.to_dict() for r in x.vector_reset_by_index(index_name)]"
   ]
  },
  {
   "cell_type": "code",
   "execution_count": 16,
   "metadata": {},
   "outputs": [
    {
     "ename": "RuntimeError",
     "evalue": "vector status by region  form index:test_index_grpc fail: NotFound (errno:60001) : region_id not exists",
     "output_type": "error",
     "traceback": [
      "\u001b[0;31m---------------------------------------------------------------------------\u001b[0m",
      "\u001b[0;31mRuntimeError\u001b[0m                              Traceback (most recent call last)",
      "Cell \u001b[0;32mIn[16], line 2\u001b[0m\n\u001b[1;32m      1\u001b[0m \u001b[38;5;28mid\u001b[39m \u001b[38;5;241m=\u001b[39m [\u001b[38;5;241m1\u001b[39m,\u001b[38;5;241m80001\u001b[39m]\n\u001b[0;32m----> 2\u001b[0m [r\u001b[38;5;241m.\u001b[39mto_dict() \u001b[38;5;28;01mfor\u001b[39;00m r \u001b[38;5;129;01min\u001b[39;00m \u001b[43mx\u001b[49m\u001b[38;5;241;43m.\u001b[39;49m\u001b[43mvector_status_by_region\u001b[49m\u001b[43m(\u001b[49m\u001b[43mindex_name\u001b[49m\u001b[43m,\u001b[49m\u001b[38;5;28;43mid\u001b[39;49m\u001b[43m)\u001b[49m]\n",
      "File \u001b[0;32m~/workspace/pydingo/dingodb/sdk_vector/sdk_vector_db.py:477\u001b[0m, in \u001b[0;36mSDKVectorDingoDB.vector_status_by_region\u001b[0;34m(self, index_name, ids)\u001b[0m\n\u001b[1;32m    463\u001b[0m \u001b[38;5;250m\u001b[39m\u001b[38;5;124;03m\"\"\"\u001b[39;00m\n\u001b[1;32m    464\u001b[0m \u001b[38;5;124;03mvector_status_by_region\u001b[39;00m\n\u001b[1;32m    465\u001b[0m \n\u001b[0;32m   (...)\u001b[0m\n\u001b[1;32m    474\u001b[0m \u001b[38;5;124;03m    list: state list\u001b[39;00m\n\u001b[1;32m    475\u001b[0m \u001b[38;5;124;03m\"\"\"\u001b[39;00m\n\u001b[1;32m    476\u001b[0m params \u001b[38;5;241m=\u001b[39m VectorStatusByRegionIdParam(index_name\u001b[38;5;241m=\u001b[39mindex_name, ids\u001b[38;5;241m=\u001b[39mids)\n\u001b[0;32m--> 477\u001b[0m \u001b[38;5;28;01mreturn\u001b[39;00m \u001b[38;5;28;43mself\u001b[39;49m\u001b[38;5;241;43m.\u001b[39;49m\u001b[43mclient\u001b[49m\u001b[38;5;241;43m.\u001b[39;49m\u001b[43mvector_status_by_region\u001b[49m\u001b[43m(\u001b[49m\u001b[43mparams\u001b[49m\u001b[43m)\u001b[49m\n",
      "File \u001b[0;32m~/workspace/pydingo/dingodb/sdk_vector/sdk_vector_client.py:566\u001b[0m, in \u001b[0;36mSDKVectorClient.vector_status_by_region\u001b[0;34m(self, param)\u001b[0m\n\u001b[1;32m    561\u001b[0m s, result \u001b[38;5;241m=\u001b[39m \u001b[38;5;28mself\u001b[39m\u001b[38;5;241m.\u001b[39mvector_client\u001b[38;5;241m.\u001b[39mStatusByRegionIdIndexName(\n\u001b[1;32m    562\u001b[0m     \u001b[38;5;28mself\u001b[39m\u001b[38;5;241m.\u001b[39mschema_id, param\u001b[38;5;241m.\u001b[39mindex_name, param\u001b[38;5;241m.\u001b[39mids\n\u001b[1;32m    563\u001b[0m )\n\u001b[1;32m    565\u001b[0m \u001b[38;5;28;01mif\u001b[39;00m \u001b[38;5;129;01mnot\u001b[39;00m s\u001b[38;5;241m.\u001b[39mok():\n\u001b[0;32m--> 566\u001b[0m     \u001b[38;5;28;01mraise\u001b[39;00m \u001b[38;5;167;01mRuntimeError\u001b[39;00m(\n\u001b[1;32m    567\u001b[0m         \u001b[38;5;124mf\u001b[39m\u001b[38;5;124m\"\u001b[39m\u001b[38;5;124mvector status by region  form index:\u001b[39m\u001b[38;5;132;01m{\u001b[39;00mparam\u001b[38;5;241m.\u001b[39mindex_name\u001b[38;5;132;01m}\u001b[39;00m\u001b[38;5;124m fail: \u001b[39m\u001b[38;5;132;01m{\u001b[39;00ms\u001b[38;5;241m.\u001b[39mToString()\u001b[38;5;132;01m}\u001b[39;00m\u001b[38;5;124m\"\u001b[39m\n\u001b[1;32m    568\u001b[0m     )\n\u001b[1;32m    569\u001b[0m status_state \u001b[38;5;241m=\u001b[39m sdk_state_result_to_state(result)\n\u001b[1;32m    570\u001b[0m \u001b[38;5;28;01mreturn\u001b[39;00m status_state\n",
      "\u001b[0;31mRuntimeError\u001b[0m: vector status by region  form index:test_index_grpc fail: NotFound (errno:60001) : region_id not exists"
     ]
    }
   ],
   "source": [
    "id = [1,80001]\n",
    "[r.to_dict() for r in x.vector_status_by_region(index_name,id)]"
   ]
  },
  {
   "cell_type": "code",
   "execution_count": 15,
   "metadata": {},
   "outputs": [
    {
     "data": {
      "text/plain": [
       "[{'region_id': 1, 'err_msg': 'NotFound (errno:60001) : region_id not exists'}]"
      ]
     },
     "execution_count": 15,
     "metadata": {},
     "output_type": "execute_result"
    }
   ],
   "source": [
    "[r.to_dict() for r in x.vector_build_by_region(index_name,id)]"
   ]
  },
  {
   "cell_type": "code",
   "execution_count": 17,
   "metadata": {},
   "outputs": [
    {
     "data": {
      "text/plain": [
       "[{'region_id': 1, 'err_msg': 'NotFound (errno:60001) : region_id not exists'}]"
      ]
     },
     "execution_count": 17,
     "metadata": {},
     "output_type": "execute_result"
    }
   ],
   "source": [
    "[r.to_dict() for r in x.vector_load_by_region(index_name,id)]"
   ]
  },
  {
   "cell_type": "code",
   "execution_count": 18,
   "metadata": {},
   "outputs": [
    {
     "data": {
      "text/plain": [
       "[{'region_id': 1, 'err_msg': 'NotFound (errno:60001) : region_id not exists'}]"
      ]
     },
     "execution_count": 18,
     "metadata": {},
     "output_type": "execute_result"
    }
   ],
   "source": [
    "[r.to_dict() for r in x.vector_reset_by_region(index_name,id)]"
   ]
  },
  {
   "cell_type": "code",
   "execution_count": 19,
   "metadata": {},
   "outputs": [],
   "source": [
    "x.vector_import_delete(index_name,ids)"
   ]
  },
  {
   "cell_type": "code",
   "execution_count": 20,
   "metadata": {},
   "outputs": [
    {
     "data": {
      "text/plain": [
       "True"
      ]
     },
     "execution_count": 20,
     "metadata": {},
     "output_type": "execute_result"
    }
   ],
   "source": [
    "x.delete_index(index_name)"
   ]
  }
 ],
 "metadata": {
  "kernelspec": {
   "display_name": "py39",
   "language": "python",
   "name": "python3"
  },
  "language_info": {
   "codemirror_mode": {
    "name": "ipython",
    "version": 3
   },
   "file_extension": ".py",
   "mimetype": "text/x-python",
   "name": "python",
   "nbconvert_exporter": "python",
   "pygments_lexer": "ipython3",
   "version": "3.9.19"
  }
 },
 "nbformat": 4,
 "nbformat_minor": 2
}
