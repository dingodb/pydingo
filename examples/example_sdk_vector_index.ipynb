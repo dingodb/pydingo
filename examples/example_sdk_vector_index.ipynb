{
 "cells": [
  {
   "cell_type": "code",
   "metadata": {
    "ExecuteTime": {
     "end_time": "2024-07-15T05:45:25.147409Z",
     "start_time": "2024-07-15T05:45:24.645284Z"
    }
   },
   "source": [
    "import numpy as np\n",
    "import os\n",
    "\n",
    "from dingodb import SDKVectorDingoDB, SDKClient\n",
    "from dingodb.common.vector_rep import ScalarType, ScalarColumn, ScalarSchema\n",
    "\n",
    "addrs = \"127.0.0.1:22001,127.0.0.1:22002,127.0.0.1:22003\"\n",
    "sdk_client = SDKClient(addrs)\n",
    "x = SDKVectorDingoDB(sdk_client)\n",
    "print(x)\n",
    "\n",
    "index_name = \"test_index_grpc\""
   ],
   "outputs": [
    {
     "name": "stdout",
     "output_type": "stream",
     "text": [
      "<dingodb.sdk_vector.sdk_vector_db.SDKVectorDingoDB object at 0x7ffab01c6f10>\n"
     ]
    }
   ],
   "execution_count": 1
  },
  {
   "cell_type": "code",
   "metadata": {
    "ExecuteTime": {
     "end_time": "2024-07-15T05:45:25.225761Z",
     "start_time": "2024-07-15T05:45:25.150039Z"
    }
   },
   "source": [
    "# delete_index\n",
    "x.delete_index(index_name)"
   ],
   "outputs": [
    {
     "data": {
      "text/plain": [
       "True"
      ]
     },
     "execution_count": 2,
     "metadata": {},
     "output_type": "execute_result"
    }
   ],
   "execution_count": 2
  },
  {
   "cell_type": "code",
   "metadata": {
    "ExecuteTime": {
     "end_time": "2024-07-15T05:45:25.259036Z",
     "start_time": "2024-07-15T05:45:25.227491Z"
    }
   },
   "source": [
    "\n",
    "# create_index\n",
    "# help(x.create_index)\n",
    "# x.create_index(index_name, 6, \"hnsw\", \"euclidean\", 3, index_config={\"efConstruction\": 300,\"maxElements\": 60000,\"nlinks\": 64}, operand=None)\n",
    "# x.create_index(index_name, 6, \"hnsw\", \"euclidean\", 3, index_config={\"efConstruction\": 300,\"maxElements\": 60000,\"nlinks\": 64}, operand=[])\n",
    "x.create_index(index_name, 6, \"hnsw\", \"euclidean\", 3, index_config={\"efConstruction\": 300,\"maxElements\": 60000,\"nlinks\": 64}, operand=[5,10,15,20])\n"
   ],
   "outputs": [
    {
     "data": {
      "text/plain": [
       "True"
      ]
     },
     "execution_count": 3,
     "metadata": {},
     "output_type": "execute_result"
    }
   ],
   "execution_count": 3
  },
  {
   "cell_type": "code",
   "metadata": {
    "ExecuteTime": {
     "end_time": "2024-07-15T05:45:25.269489Z",
     "start_time": "2024-07-15T05:45:25.261635Z"
    }
   },
   "source": [
    "# make dataset\n",
    "# 构建训练数据和查询数据\n",
    "d = 6                           # dimension\n",
    "nb = 4                      # database size\n",
    "np.random.seed(1234)             # make reproducible\n",
    "xb = np.random.random((nb, d)).astype('float32')\n",
    "print(xb)\n",
    "print(xb.shape)\n",
    "xb[:, 0] += np.arange(nb) / 1000.\n",
    "print(xb)\n",
    "print(xb.shape)\n",
    "\n",
    "ids = [1, 2, 3, 4]\n",
    "datas = [{\"a1\": \"b1\"}, {\"a2\": \"b2\"}, {\"a3\": \"b3\"}, {\"a4\": \"b4\"}]\n",
    "vectors = xb.tolist()"
   ],
   "outputs": [
    {
     "name": "stdout",
     "output_type": "stream",
     "text": [
      "[[0.19151945 0.62210876 0.43772775 0.7853586  0.77997583 0.2725926 ]\n",
      " [0.27646425 0.8018722  0.95813936 0.87593263 0.35781726 0.5009951 ]\n",
      " [0.6834629  0.71270204 0.37025076 0.5611962  0.50308317 0.01376845]\n",
      " [0.7728266  0.8826412  0.364886   0.6153962  0.07538124 0.368824  ]]\n",
      "(4, 6)\n",
      "[[0.19151945 0.62210876 0.43772775 0.7853586  0.77997583 0.2725926 ]\n",
      " [0.27746424 0.8018722  0.95813936 0.87593263 0.35781726 0.5009951 ]\n",
      " [0.6854629  0.71270204 0.37025076 0.5611962  0.50308317 0.01376845]\n",
      " [0.77582663 0.8826412  0.364886   0.6153962  0.07538124 0.368824  ]]\n",
      "(4, 6)\n"
     ]
    }
   ],
   "execution_count": 4
  },
  {
   "cell_type": "code",
   "metadata": {
    "ExecuteTime": {
     "end_time": "2024-07-15T05:45:27.356553Z",
     "start_time": "2024-07-15T05:45:25.271316Z"
    }
   },
   "source": [
    "# vector_add\n",
    "x.vector_add(index_name, datas, vectors, ids)"
   ],
   "outputs": [
    {
     "data": {
      "text/plain": [
       "[{'id': 1,\n",
       "  'vector': {'dimension': 6,\n",
       "   'valueType': 'FLOAT',\n",
       "   'floatValues': [0.19151945412158966,\n",
       "    0.6221087574958801,\n",
       "    0.43772774934768677,\n",
       "    0.7853586077690125,\n",
       "    0.7799758315086365,\n",
       "    0.27259260416030884],\n",
       "   'binaryValues': []},\n",
       "  'scalarData': {'a1': {'fieldType': 'STRING', 'fields': ['b1']}}},\n",
       " {'id': 2,\n",
       "  'vector': {'dimension': 6,\n",
       "   'valueType': 'FLOAT',\n",
       "   'floatValues': [0.27746424078941345,\n",
       "    0.801872193813324,\n",
       "    0.9581393599510193,\n",
       "    0.8759326338768005,\n",
       "    0.35781726241111755,\n",
       "    0.5009950995445251],\n",
       "   'binaryValues': []},\n",
       "  'scalarData': {'a2': {'fieldType': 'STRING', 'fields': ['b2']}}},\n",
       " {'id': 3,\n",
       "  'vector': {'dimension': 6,\n",
       "   'valueType': 'FLOAT',\n",
       "   'floatValues': [0.6854628920555115,\n",
       "    0.7127020359039307,\n",
       "    0.37025076150894165,\n",
       "    0.5611962080001831,\n",
       "    0.5030831694602966,\n",
       "    0.013768449425697327],\n",
       "   'binaryValues': []},\n",
       "  'scalarData': {'a3': {'fieldType': 'STRING', 'fields': ['b3']}}},\n",
       " {'id': 4,\n",
       "  'vector': {'dimension': 6,\n",
       "   'valueType': 'FLOAT',\n",
       "   'floatValues': [0.775826632976532,\n",
       "    0.8826411962509155,\n",
       "    0.36488598585128784,\n",
       "    0.6153962016105652,\n",
       "    0.07538124173879623,\n",
       "    0.3688240051269531],\n",
       "   'binaryValues': []},\n",
       "  'scalarData': {'a4': {'fieldType': 'STRING', 'fields': ['b4']}}}]"
      ]
     },
     "execution_count": 5,
     "metadata": {},
     "output_type": "execute_result"
    }
   ],
   "execution_count": 5
  },
  {
   "cell_type": "code",
   "metadata": {
    "ExecuteTime": {
     "end_time": "2024-07-15T05:45:27.380458Z",
     "start_time": "2024-07-15T05:45:27.358523Z"
    }
   },
   "source": [
    "# vector_search\n",
    "x.vector_search(index_name, vectors[0])\n",
    "# return \n",
    "    # error RuntimeError"
   ],
   "outputs": [
    {
     "data": {
      "text/plain": [
       "[{'vectorWithDistances': [{'id': 1,\n",
       "    'vector': {'dimension': 6,\n",
       "     'valueType': 'FLOAT',\n",
       "     'floatValues': [0.19151945412158966,\n",
       "      0.6221087574958801,\n",
       "      0.43772774934768677,\n",
       "      0.7853586077690125,\n",
       "      0.7799758315086365,\n",
       "      0.27259260416030884],\n",
       "     'binaryValues': []},\n",
       "    'scalarData': {'a1': {'fieldType': 'STRING', 'fields': ['b1']}},\n",
       "    'distance': 0.0,\n",
       "    'metricType': 'METRIC_TYPE_L2'},\n",
       "   {'id': 3,\n",
       "    'vector': {'dimension': 6,\n",
       "     'valueType': 'FLOAT',\n",
       "     'floatValues': [0.6854628920555115,\n",
       "      0.7127020359039307,\n",
       "      0.37025076150894165,\n",
       "      0.5611962080001831,\n",
       "      0.5030831694602966,\n",
       "      0.013768449425697327],\n",
       "     'binaryValues': []},\n",
       "    'scalarData': {'a3': {'fieldType': 'STRING', 'fields': ['b3']}},\n",
       "    'distance': 0.4506487250328064,\n",
       "    'metricType': 'METRIC_TYPE_L2'},\n",
       "   {'id': 2,\n",
       "    'vector': {'dimension': 6,\n",
       "     'valueType': 'FLOAT',\n",
       "     'floatValues': [0.27746424078941345,\n",
       "      0.801872193813324,\n",
       "      0.9581393599510193,\n",
       "      0.8759326338768005,\n",
       "      0.35781726241111755,\n",
       "      0.5009950995445251],\n",
       "     'binaryValues': []},\n",
       "    'scalarData': {'a2': {'fieldType': 'STRING', 'fields': ['b2']}},\n",
       "    'distance': 0.5491188764572144,\n",
       "    'metricType': 'METRIC_TYPE_L2'},\n",
       "   {'id': 4,\n",
       "    'vector': {'dimension': 6,\n",
       "     'valueType': 'FLOAT',\n",
       "     'floatValues': [0.775826632976532,\n",
       "      0.8826411962509155,\n",
       "      0.36488598585128784,\n",
       "      0.6153962016105652,\n",
       "      0.07538124173879623,\n",
       "      0.3688240051269531],\n",
       "     'binaryValues': []},\n",
       "    'scalarData': {'a4': {'fieldType': 'STRING', 'fields': ['b4']}},\n",
       "    'distance': 0.9491992592811584,\n",
       "    'metricType': 'METRIC_TYPE_L2'}]}]"
      ]
     },
     "execution_count": 6,
     "metadata": {},
     "output_type": "execute_result"
    }
   ],
   "execution_count": 6
  },
  {
   "cell_type": "code",
   "metadata": {
    "ExecuteTime": {
     "end_time": "2024-07-15T05:45:27.398730Z",
     "start_time": "2024-07-15T05:45:27.382104Z"
    }
   },
   "source": [
    "# vector_search with pre_filter or post_filter\n",
    "x.vector_search(index_name, vectors[0], 10, {\"meta_expr\": {\"a1\": \"b1\"}})"
   ],
   "outputs": [
    {
     "data": {
      "text/plain": [
       "[{'vectorWithDistances': [{'id': 1,\n",
       "    'vector': {'dimension': 6,\n",
       "     'valueType': 'FLOAT',\n",
       "     'floatValues': [0.19151945412158966,\n",
       "      0.6221087574958801,\n",
       "      0.43772774934768677,\n",
       "      0.7853586077690125,\n",
       "      0.7799758315086365,\n",
       "      0.27259260416030884],\n",
       "     'binaryValues': []},\n",
       "    'scalarData': {'a1': {'fieldType': 'STRING', 'fields': ['b1']}},\n",
       "    'distance': 0.0,\n",
       "    'metricType': 'METRIC_TYPE_L2'}]}]"
      ]
     },
     "execution_count": 7,
     "metadata": {},
     "output_type": "execute_result"
    }
   ],
   "execution_count": 7
  },
  {
   "cell_type": "code",
   "metadata": {
    "ExecuteTime": {
     "end_time": "2024-07-15T05:45:27.411488Z",
     "start_time": "2024-07-15T05:45:27.400442Z"
    }
   },
   "source": [
    "# get index with id\n",
    "x.vector_get(index_name, [1, 2, 6])"
   ],
   "outputs": [
    {
     "data": {
      "text/plain": [
       "[{'id': 1,\n",
       "  'vector': {'dimension': 6,\n",
       "   'valueType': 'FLOAT',\n",
       "   'floatValues': [0.19151945412158966,\n",
       "    0.6221087574958801,\n",
       "    0.43772774934768677,\n",
       "    0.7853586077690125,\n",
       "    0.7799758315086365,\n",
       "    0.27259260416030884],\n",
       "   'binaryValues': []},\n",
       "  'scalarData': {'a1': {'fieldType': 'STRING', 'fields': ['b1']}}},\n",
       " {'id': 2,\n",
       "  'vector': {'dimension': 6,\n",
       "   'valueType': 'FLOAT',\n",
       "   'floatValues': [0.27746424078941345,\n",
       "    0.801872193813324,\n",
       "    0.9581393599510193,\n",
       "    0.8759326338768005,\n",
       "    0.35781726241111755,\n",
       "    0.5009950995445251],\n",
       "   'binaryValues': []},\n",
       "  'scalarData': {'a2': {'fieldType': 'STRING', 'fields': ['b2']}}},\n",
       " None]"
      ]
     },
     "execution_count": 8,
     "metadata": {},
     "output_type": "execute_result"
    }
   ],
   "execution_count": 8
  },
  {
   "cell_type": "code",
   "metadata": {
    "ExecuteTime": {
     "end_time": "2024-07-15T05:45:27.424436Z",
     "start_time": "2024-07-15T05:45:27.413500Z"
    }
   },
   "source": [
    "# vector delete with id\n",
    "x.vector_delete(index_name, [1, 2, 3])"
   ],
   "outputs": [
    {
     "data": {
      "text/plain": [
       "[True, True, True]"
      ]
     },
     "execution_count": 9,
     "metadata": {},
     "output_type": "execute_result"
    }
   ],
   "execution_count": 9
  },
  {
   "cell_type": "code",
   "metadata": {
    "ExecuteTime": {
     "end_time": "2024-07-15T05:45:27.441580Z",
     "start_time": "2024-07-15T05:45:27.428209Z"
    }
   },
   "source": [
    "x.vector_search(index_name, vectors[0])"
   ],
   "outputs": [
    {
     "data": {
      "text/plain": [
       "[{'vectorWithDistances': [{'id': 4,\n",
       "    'vector': {'dimension': 6,\n",
       "     'valueType': 'FLOAT',\n",
       "     'floatValues': [0.775826632976532,\n",
       "      0.8826411962509155,\n",
       "      0.36488598585128784,\n",
       "      0.6153962016105652,\n",
       "      0.07538124173879623,\n",
       "      0.3688240051269531],\n",
       "     'binaryValues': []},\n",
       "    'scalarData': {'a4': {'fieldType': 'STRING', 'fields': ['b4']}},\n",
       "    'distance': 0.9491992592811584,\n",
       "    'metricType': 'METRIC_TYPE_L2'}]}]"
      ]
     },
     "execution_count": 10,
     "metadata": {},
     "output_type": "execute_result"
    }
   ],
   "execution_count": 10
  },
  {
   "cell_type": "code",
   "metadata": {
    "ExecuteTime": {
     "end_time": "2024-07-15T05:45:27.455133Z",
     "start_time": "2024-07-15T05:45:27.443263Z"
    }
   },
   "source": [
    "# Add: scan\n",
    "x.vector_scan(index_name, 1, 2)"
   ],
   "outputs": [
    {
     "data": {
      "text/plain": [
       "[{'id': 4,\n",
       "  'vector': {'dimension': 6,\n",
       "   'valueType': 'FLOAT',\n",
       "   'floatValues': [0.775826632976532,\n",
       "    0.8826411962509155,\n",
       "    0.36488598585128784,\n",
       "    0.6153962016105652,\n",
       "    0.07538124173879623,\n",
       "    0.3688240051269531],\n",
       "   'binaryValues': []},\n",
       "  'scalarData': {'a4': {'fieldType': 'STRING', 'fields': ['b4']}}}]"
      ]
     },
     "execution_count": 11,
     "metadata": {},
     "output_type": "execute_result"
    }
   ],
   "execution_count": 11
  },
  {
   "cell_type": "code",
   "metadata": {
    "ExecuteTime": {
     "end_time": "2024-07-15T05:45:27.467807Z",
     "start_time": "2024-07-15T05:45:27.456816Z"
    }
   },
   "source": [
    "# Add vector count \n",
    "x.vector_count(index_name)"
   ],
   "outputs": [
    {
     "data": {
      "text/plain": [
       "1"
      ]
     },
     "execution_count": 12,
     "metadata": {},
     "output_type": "execute_result"
    }
   ],
   "execution_count": 12
  },
  {
   "cell_type": "code",
   "metadata": {
    "ExecuteTime": {
     "end_time": "2024-07-15T05:45:27.480986Z",
     "start_time": "2024-07-15T05:45:27.469539Z"
    }
   },
   "source": [
    "x.vector_metrics(index_name)"
   ],
   "outputs": [
    {
     "data": {
      "text/plain": [
       "{'indexType': 'Hnsw',\n",
       " 'count': 4,\n",
       " 'deletedCount': 3,\n",
       " 'maxVectorId': 4,\n",
       " 'minVectorId': 4,\n",
       " 'memoryBytes': 2688}"
      ]
     },
     "execution_count": 13,
     "metadata": {},
     "output_type": "execute_result"
    }
   ],
   "execution_count": 13
  },
  {
   "cell_type": "code",
   "metadata": {
    "ExecuteTime": {
     "end_time": "2024-07-15T05:45:27.493253Z",
     "start_time": "2024-07-15T05:45:27.482785Z"
    }
   },
   "source": [
    "x.get_max_index_row(index_name)"
   ],
   "outputs": [
    {
     "data": {
      "text/plain": [
       "4"
      ]
     },
     "execution_count": 14,
     "metadata": {},
     "output_type": "execute_result"
    }
   ],
   "execution_count": 14
  },
  {
   "cell_type": "code",
   "metadata": {
    "ExecuteTime": {
     "end_time": "2024-07-15T05:45:27.506940Z",
     "start_time": "2024-07-15T05:45:27.495042Z"
    }
   },
   "source": [
    "# delete_index\n",
    "x.delete_index(index_name)"
   ],
   "outputs": [
    {
     "data": {
      "text/plain": [
       "True"
      ]
     },
     "execution_count": 15,
     "metadata": {},
     "output_type": "execute_result"
    }
   ],
   "execution_count": 15
  },
  {
   "cell_type": "code",
   "metadata": {
    "ExecuteTime": {
     "end_time": "2024-07-15T05:45:27.540202Z",
     "start_time": "2024-07-15T05:45:27.508662Z"
    }
   },
   "source": [
    "scheme =  ScalarSchema()\n",
    "col = ScalarColumn(\"id\", ScalarType.STRING, True)\n",
    "scheme.add_scalar_column(col)\n",
    "col = ScalarColumn(\"name\", ScalarType.STRING, False)\n",
    "scheme.add_scalar_column(col)\n",
    "\n",
    "x.create_index_with_schema(index_name, 6, scheme, \"hnsw\", \"euclidean\", 3, index_config={\"efConstruction\": 300,\"maxElements\": 60000,\"nlinks\": 64}, operand=[5,10,15,20])\n",
    "\n"
   ],
   "outputs": [
    {
     "data": {
      "text/plain": [
       "True"
      ]
     },
     "execution_count": 16,
     "metadata": {},
     "output_type": "execute_result"
    }
   ],
   "execution_count": 16
  },
  {
   "cell_type": "code",
   "metadata": {
    "ExecuteTime": {
     "end_time": "2024-07-15T05:45:30.598215Z",
     "start_time": "2024-07-15T05:45:27.541862Z"
    }
   },
   "source": [
    "\n",
    "# make dataset\n",
    "# 构建训练数据和查询数据\n",
    "d = 6                           # dimension\n",
    "nb = 4                      # database size\n",
    "np.random.seed(1234)             # make reproducible\n",
    "xb = np.random.random((nb, d)).astype('float32')\n",
    "print(xb)\n",
    "xb[:, 0] += np.arange(nb) / 1000.\n",
    "print(xb)\n",
    "\n",
    "ids = [1, 2, 3, 4]\n",
    "datas = [{\"id\": \"1\", \"name\": \"1\"}, {\"id\": \"2\", \"name\": \"2\"}, {\"id\": \"3\", \"name\": \"3\"}, {\"id\": \"4\", \"name\": \"4\"}]\n",
    "vectors = xb.tolist()\n",
    "\n",
    "x.vector_add(index_name, datas, vectors, ids)"
   ],
   "outputs": [
    {
     "name": "stdout",
     "output_type": "stream",
     "text": [
      "[[0.19151945 0.62210876 0.43772775 0.7853586  0.77997583 0.2725926 ]\n",
      " [0.27646425 0.8018722  0.95813936 0.87593263 0.35781726 0.5009951 ]\n",
      " [0.6834629  0.71270204 0.37025076 0.5611962  0.50308317 0.01376845]\n",
      " [0.7728266  0.8826412  0.364886   0.6153962  0.07538124 0.368824  ]]\n",
      "[[0.19151945 0.62210876 0.43772775 0.7853586  0.77997583 0.2725926 ]\n",
      " [0.27746424 0.8018722  0.95813936 0.87593263 0.35781726 0.5009951 ]\n",
      " [0.6854629  0.71270204 0.37025076 0.5611962  0.50308317 0.01376845]\n",
      " [0.77582663 0.8826412  0.364886   0.6153962  0.07538124 0.368824  ]]\n"
     ]
    },
    {
     "data": {
      "text/plain": [
       "[{'id': 1,\n",
       "  'vector': {'dimension': 6,\n",
       "   'valueType': 'FLOAT',\n",
       "   'floatValues': [0.19151945412158966,\n",
       "    0.6221087574958801,\n",
       "    0.43772774934768677,\n",
       "    0.7853586077690125,\n",
       "    0.7799758315086365,\n",
       "    0.27259260416030884],\n",
       "   'binaryValues': []},\n",
       "  'scalarData': {'id': {'fieldType': 'STRING', 'fields': ['1']},\n",
       "   'name': {'fieldType': 'STRING', 'fields': ['1']}}},\n",
       " {'id': 2,\n",
       "  'vector': {'dimension': 6,\n",
       "   'valueType': 'FLOAT',\n",
       "   'floatValues': [0.27746424078941345,\n",
       "    0.801872193813324,\n",
       "    0.9581393599510193,\n",
       "    0.8759326338768005,\n",
       "    0.35781726241111755,\n",
       "    0.5009950995445251],\n",
       "   'binaryValues': []},\n",
       "  'scalarData': {'id': {'fieldType': 'STRING', 'fields': ['2']},\n",
       "   'name': {'fieldType': 'STRING', 'fields': ['2']}}},\n",
       " {'id': 3,\n",
       "  'vector': {'dimension': 6,\n",
       "   'valueType': 'FLOAT',\n",
       "   'floatValues': [0.6854628920555115,\n",
       "    0.7127020359039307,\n",
       "    0.37025076150894165,\n",
       "    0.5611962080001831,\n",
       "    0.5030831694602966,\n",
       "    0.013768449425697327],\n",
       "   'binaryValues': []},\n",
       "  'scalarData': {'id': {'fieldType': 'STRING', 'fields': ['3']},\n",
       "   'name': {'fieldType': 'STRING', 'fields': ['3']}}},\n",
       " {'id': 4,\n",
       "  'vector': {'dimension': 6,\n",
       "   'valueType': 'FLOAT',\n",
       "   'floatValues': [0.775826632976532,\n",
       "    0.8826411962509155,\n",
       "    0.36488598585128784,\n",
       "    0.6153962016105652,\n",
       "    0.07538124173879623,\n",
       "    0.3688240051269531],\n",
       "   'binaryValues': []},\n",
       "  'scalarData': {'id': {'fieldType': 'STRING', 'fields': ['4']},\n",
       "   'name': {'fieldType': 'STRING', 'fields': ['4']}}}]"
      ]
     },
     "execution_count": 17,
     "metadata": {},
     "output_type": "execute_result"
    }
   ],
   "execution_count": 17
  },
  {
   "cell_type": "code",
   "metadata": {
    "ExecuteTime": {
     "end_time": "2024-07-15T05:45:30.617939Z",
     "start_time": "2024-07-15T05:45:30.600157Z"
    }
   },
   "source": [
    "\n",
    "# get index with id\n",
    "# x.vector_get(index_name, [1, 2, 3, 4])\n",
    "x.vector_get(index_name, [1, 2])"
   ],
   "outputs": [
    {
     "data": {
      "text/plain": [
       "[{'id': 1,\n",
       "  'vector': {'dimension': 6,\n",
       "   'valueType': 'FLOAT',\n",
       "   'floatValues': [0.19151945412158966,\n",
       "    0.6221087574958801,\n",
       "    0.43772774934768677,\n",
       "    0.7853586077690125,\n",
       "    0.7799758315086365,\n",
       "    0.27259260416030884],\n",
       "   'binaryValues': []},\n",
       "  'scalarData': {'id': {'fieldType': 'STRING', 'fields': ['1']},\n",
       "   'name': {'fieldType': 'STRING', 'fields': ['1']}}},\n",
       " {'id': 2,\n",
       "  'vector': {'dimension': 6,\n",
       "   'valueType': 'FLOAT',\n",
       "   'floatValues': [0.27746424078941345,\n",
       "    0.801872193813324,\n",
       "    0.9581393599510193,\n",
       "    0.8759326338768005,\n",
       "    0.35781726241111755,\n",
       "    0.5009950995445251],\n",
       "   'binaryValues': []},\n",
       "  'scalarData': {'id': {'fieldType': 'STRING', 'fields': ['2']},\n",
       "   'name': {'fieldType': 'STRING', 'fields': ['2']}}}]"
      ]
     },
     "execution_count": 18,
     "metadata": {},
     "output_type": "execute_result"
    }
   ],
   "execution_count": 18
  },
  {
   "cell_type": "code",
   "metadata": {
    "ExecuteTime": {
     "end_time": "2024-07-15T05:45:30.631692Z",
     "start_time": "2024-07-15T05:45:30.619515Z"
    }
   },
   "source": [
    "\n",
    "# delete_index\n",
    "x.delete_index(index_name)"
   ],
   "outputs": [
    {
     "data": {
      "text/plain": [
       "True"
      ]
     },
     "execution_count": 19,
     "metadata": {},
     "output_type": "execute_result"
    }
   ],
   "execution_count": 19
  },
  {
   "cell_type": "code",
   "metadata": {
    "ExecuteTime": {
     "end_time": "2024-07-15T05:45:30.636584Z",
     "start_time": "2024-07-15T05:45:30.633672Z"
    }
   },
   "source": [],
   "outputs": [],
   "execution_count": 19
  }
 ],
 "metadata": {
  "kernelspec": {
   "display_name": "pydingo",
   "language": "python",
   "name": "python3"
  },
  "language_info": {
   "codemirror_mode": {
    "name": "ipython",
    "version": 3
   },
   "file_extension": ".py",
   "mimetype": "text/x-python",
   "name": "python",
   "nbconvert_exporter": "python",
   "pygments_lexer": "ipython3",
   "version": "3.9.19"
  }
 },
 "nbformat": 4,
 "nbformat_minor": 2
}
