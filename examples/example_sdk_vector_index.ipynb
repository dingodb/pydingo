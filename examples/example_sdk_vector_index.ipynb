{
 "cells": [
  {
   "cell_type": "code",
   "metadata": {
    "ExecuteTime": {
     "end_time": "2024-07-16T10:27:51.794238Z",
     "start_time": "2024-07-16T10:27:51.217213Z"
    }
   },
   "source": [
    "import numpy as np\n",
    "import os\n",
    "\n",
    "from dingodb import SDKVectorDingoDB, SDKClient\n",
    "from dingodb.common.vector_rep import ScalarType, ScalarColumn, ScalarSchema\n",
    "\n",
    "addrs = \"127.0.0.1:22001,127.0.0.1:22002,127.0.0.1:22003\"\n",
    "sdk_client = SDKClient(addrs)\n",
    "x = SDKVectorDingoDB(sdk_client)\n",
    "print(x)\n",
    "\n",
    "index_name = \"test_index_grpc\""
   ],
   "outputs": [
    {
     "name": "stdout",
     "output_type": "stream",
     "text": [
      "<dingodb.sdk_vector.sdk_vector_db.SDKVectorDingoDB object at 0x7f7534b46f40>\n"
     ]
    }
   ],
   "execution_count": 1
  },
  {
   "cell_type": "code",
   "metadata": {
    "ExecuteTime": {
     "end_time": "2024-07-16T10:27:52.519291Z",
     "start_time": "2024-07-16T10:27:52.455817Z"
    }
   },
   "source": [
    "# delete_index\n",
    "x.delete_index(index_name)"
   ],
   "outputs": [
    {
     "data": {
      "text/plain": [
       "True"
      ]
     },
     "execution_count": 2,
     "metadata": {},
     "output_type": "execute_result"
    }
   ],
   "execution_count": 2
  },
  {
   "cell_type": "code",
   "metadata": {
    "ExecuteTime": {
     "end_time": "2024-07-16T10:27:53.219222Z",
     "start_time": "2024-07-16T10:27:53.177044Z"
    }
   },
   "source": [
    "\n",
    "# create_index\n",
    "# help(x.create_index)\n",
    "# x.create_index(index_name, 6, \"hnsw\", \"euclidean\", 3, index_config={\"efConstruction\": 300,\"maxElements\": 60000,\"nlinks\": 64}, operand=None)\n",
    "# x.create_index(index_name, 6, \"hnsw\", \"euclidean\", 3, index_config={\"efConstruction\": 300,\"maxElements\": 60000,\"nlinks\": 64}, operand=[])\n",
    "x.create_index(index_name, 6, \"hnsw\", \"euclidean\", 3, index_config={\"efConstruction\": 300,\"maxElements\": 60000,\"nlinks\": 64}, operand=[5,10,15,20])\n"
   ],
   "outputs": [
    {
     "data": {
      "text/plain": [
       "True"
      ]
     },
     "execution_count": 3,
     "metadata": {},
     "output_type": "execute_result"
    }
   ],
   "execution_count": 3
  },
  {
   "cell_type": "code",
   "metadata": {
    "ExecuteTime": {
     "end_time": "2024-07-16T10:27:53.897589Z",
     "start_time": "2024-07-16T10:27:53.888849Z"
    }
   },
   "source": [
    "# make dataset\n",
    "# 构建训练数据和查询数据\n",
    "d = 6                           # dimension\n",
    "nb = 4                      # database size\n",
    "np.random.seed(1234)             # make reproducible\n",
    "xb = np.random.random((nb, d)).astype('float32')\n",
    "print(xb)\n",
    "print(xb.shape)\n",
    "xb[:, 0] += np.arange(nb) / 1000.\n",
    "print(xb)\n",
    "print(xb.shape)\n",
    "\n",
    "ids = [1, 2, 3, 4]\n",
    "datas = [{\"a1\": \"b1\"}, {\"a2\": \"b2\"}, {\"a3\": \"b3\"}, {\"a4\": \"b4\"}]\n",
    "vectors = xb.tolist()"
   ],
   "outputs": [
    {
     "name": "stdout",
     "output_type": "stream",
     "text": [
      "[[0.19151945 0.62210876 0.43772775 0.7853586  0.77997583 0.2725926 ]\n",
      " [0.27646425 0.8018722  0.95813936 0.87593263 0.35781726 0.5009951 ]\n",
      " [0.6834629  0.71270204 0.37025076 0.5611962  0.50308317 0.01376845]\n",
      " [0.7728266  0.8826412  0.364886   0.6153962  0.07538124 0.368824  ]]\n",
      "(4, 6)\n",
      "[[0.19151945 0.62210876 0.43772775 0.7853586  0.77997583 0.2725926 ]\n",
      " [0.27746424 0.8018722  0.95813936 0.87593263 0.35781726 0.5009951 ]\n",
      " [0.6854629  0.71270204 0.37025076 0.5611962  0.50308317 0.01376845]\n",
      " [0.77582663 0.8826412  0.364886   0.6153962  0.07538124 0.368824  ]]\n",
      "(4, 6)\n"
     ]
    }
   ],
   "execution_count": 4
  },
  {
   "cell_type": "code",
   "metadata": {
    "ExecuteTime": {
     "end_time": "2024-07-16T10:27:55.463073Z",
     "start_time": "2024-07-16T10:27:54.877823Z"
    }
   },
   "source": [
    "# vector_add\n",
    "x.vector_add(index_name, datas, vectors, ids)"
   ],
   "outputs": [
    {
     "data": {
      "text/plain": [
       "[{'id': 1,\n",
       "  'vector': {'dimension': 6,\n",
       "   'valueType': 'FLOAT',\n",
       "   'floatValues': [0.19151945412158966,\n",
       "    0.6221087574958801,\n",
       "    0.43772774934768677,\n",
       "    0.7853586077690125,\n",
       "    0.7799758315086365,\n",
       "    0.27259260416030884],\n",
       "   'binaryValues': []},\n",
       "  'scalarData': {'a1': {'fieldType': 'STRING', 'fields': ['b1']}}},\n",
       " {'id': 2,\n",
       "  'vector': {'dimension': 6,\n",
       "   'valueType': 'FLOAT',\n",
       "   'floatValues': [0.27746424078941345,\n",
       "    0.801872193813324,\n",
       "    0.9581393599510193,\n",
       "    0.8759326338768005,\n",
       "    0.35781726241111755,\n",
       "    0.5009950995445251],\n",
       "   'binaryValues': []},\n",
       "  'scalarData': {'a2': {'fieldType': 'STRING', 'fields': ['b2']}}},\n",
       " {'id': 3,\n",
       "  'vector': {'dimension': 6,\n",
       "   'valueType': 'FLOAT',\n",
       "   'floatValues': [0.6854628920555115,\n",
       "    0.7127020359039307,\n",
       "    0.37025076150894165,\n",
       "    0.5611962080001831,\n",
       "    0.5030831694602966,\n",
       "    0.013768449425697327],\n",
       "   'binaryValues': []},\n",
       "  'scalarData': {'a3': {'fieldType': 'STRING', 'fields': ['b3']}}},\n",
       " {'id': 4,\n",
       "  'vector': {'dimension': 6,\n",
       "   'valueType': 'FLOAT',\n",
       "   'floatValues': [0.775826632976532,\n",
       "    0.8826411962509155,\n",
       "    0.36488598585128784,\n",
       "    0.6153962016105652,\n",
       "    0.07538124173879623,\n",
       "    0.3688240051269531],\n",
       "   'binaryValues': []},\n",
       "  'scalarData': {'a4': {'fieldType': 'STRING', 'fields': ['b4']}}}]"
      ]
     },
     "execution_count": 5,
     "metadata": {},
     "output_type": "execute_result"
    }
   ],
   "execution_count": 5
  },
  {
   "cell_type": "code",
   "metadata": {
    "ExecuteTime": {
     "end_time": "2024-07-16T10:28:00.883739Z",
     "start_time": "2024-07-16T10:28:00.857822Z"
    }
   },
   "source": [
    "# vector_search\n",
    "x.vector_search(index_name, vectors[0])\n",
    "# return \n",
    "    # error RuntimeError"
   ],
   "outputs": [
    {
     "data": {
      "text/plain": [
       "[{'vectorWithDistances': [{'id': 1,\n",
       "    'vector': {'dimension': 6,\n",
       "     'valueType': 'FLOAT',\n",
       "     'floatValues': [0.19151945412158966,\n",
       "      0.6221087574958801,\n",
       "      0.43772774934768677,\n",
       "      0.7853586077690125,\n",
       "      0.7799758315086365,\n",
       "      0.27259260416030884],\n",
       "     'binaryValues': []},\n",
       "    'scalarData': {'a1': {'fieldType': 'STRING', 'fields': ['b1']}},\n",
       "    'distance': 0.0,\n",
       "    'metricType': 'METRIC_TYPE_L2'},\n",
       "   {'id': 3,\n",
       "    'vector': {'dimension': 6,\n",
       "     'valueType': 'FLOAT',\n",
       "     'floatValues': [0.6854628920555115,\n",
       "      0.7127020359039307,\n",
       "      0.37025076150894165,\n",
       "      0.5611962080001831,\n",
       "      0.5030831694602966,\n",
       "      0.013768449425697327],\n",
       "     'binaryValues': []},\n",
       "    'scalarData': {'a3': {'fieldType': 'STRING', 'fields': ['b3']}},\n",
       "    'distance': 0.4506487250328064,\n",
       "    'metricType': 'METRIC_TYPE_L2'},\n",
       "   {'id': 2,\n",
       "    'vector': {'dimension': 6,\n",
       "     'valueType': 'FLOAT',\n",
       "     'floatValues': [0.27746424078941345,\n",
       "      0.801872193813324,\n",
       "      0.9581393599510193,\n",
       "      0.8759326338768005,\n",
       "      0.35781726241111755,\n",
       "      0.5009950995445251],\n",
       "     'binaryValues': []},\n",
       "    'scalarData': {'a2': {'fieldType': 'STRING', 'fields': ['b2']}},\n",
       "    'distance': 0.5491188764572144,\n",
       "    'metricType': 'METRIC_TYPE_L2'},\n",
       "   {'id': 4,\n",
       "    'vector': {'dimension': 6,\n",
       "     'valueType': 'FLOAT',\n",
       "     'floatValues': [0.775826632976532,\n",
       "      0.8826411962509155,\n",
       "      0.36488598585128784,\n",
       "      0.6153962016105652,\n",
       "      0.07538124173879623,\n",
       "      0.3688240051269531],\n",
       "     'binaryValues': []},\n",
       "    'scalarData': {'a4': {'fieldType': 'STRING', 'fields': ['b4']}},\n",
       "    'distance': 0.9491992592811584,\n",
       "    'metricType': 'METRIC_TYPE_L2'}]}]"
      ]
     },
     "execution_count": 6,
     "metadata": {},
     "output_type": "execute_result"
    }
   ],
   "execution_count": 6
  },
  {
   "cell_type": "code",
   "metadata": {
    "ExecuteTime": {
     "end_time": "2024-07-16T10:28:02.485501Z",
     "start_time": "2024-07-16T10:28:02.464724Z"
    }
   },
   "source": [
    "# vector_search with pre_filter or post_filter\n",
    "x.vector_search(index_name, vectors[0], 10, {\"meta_expr\": {\"a1\": \"b1\"}})"
   ],
   "outputs": [
    {
     "data": {
      "text/plain": [
       "[{'vectorWithDistances': [{'id': 1,\n",
       "    'vector': {'dimension': 6,\n",
       "     'valueType': 'FLOAT',\n",
       "     'floatValues': [0.19151945412158966,\n",
       "      0.6221087574958801,\n",
       "      0.43772774934768677,\n",
       "      0.7853586077690125,\n",
       "      0.7799758315086365,\n",
       "      0.27259260416030884],\n",
       "     'binaryValues': []},\n",
       "    'scalarData': {'a1': {'fieldType': 'STRING', 'fields': ['b1']}},\n",
       "    'distance': 0.0,\n",
       "    'metricType': 'METRIC_TYPE_L2'}]}]"
      ]
     },
     "execution_count": 7,
     "metadata": {},
     "output_type": "execute_result"
    }
   ],
   "execution_count": 7
  },
  {
   "cell_type": "code",
   "metadata": {
    "ExecuteTime": {
     "end_time": "2024-07-16T10:28:03.395888Z",
     "start_time": "2024-07-16T10:28:03.382135Z"
    }
   },
   "source": [
    "# get index with id\n",
    "x.vector_get(index_name, [1, 2, 6])"
   ],
   "outputs": [
    {
     "data": {
      "text/plain": [
       "[{'id': 1,\n",
       "  'vector': {'dimension': 6,\n",
       "   'valueType': 'FLOAT',\n",
       "   'floatValues': [0.19151945412158966,\n",
       "    0.6221087574958801,\n",
       "    0.43772774934768677,\n",
       "    0.7853586077690125,\n",
       "    0.7799758315086365,\n",
       "    0.27259260416030884],\n",
       "   'binaryValues': []},\n",
       "  'scalarData': {'a1': {'fieldType': 'STRING', 'fields': ['b1']}}},\n",
       " {'id': 2,\n",
       "  'vector': {'dimension': 6,\n",
       "   'valueType': 'FLOAT',\n",
       "   'floatValues': [0.27746424078941345,\n",
       "    0.801872193813324,\n",
       "    0.9581393599510193,\n",
       "    0.8759326338768005,\n",
       "    0.35781726241111755,\n",
       "    0.5009950995445251],\n",
       "   'binaryValues': []},\n",
       "  'scalarData': {'a2': {'fieldType': 'STRING', 'fields': ['b2']}}},\n",
       " None]"
      ]
     },
     "execution_count": 8,
     "metadata": {},
     "output_type": "execute_result"
    }
   ],
   "execution_count": 8
  },
  {
   "cell_type": "code",
   "metadata": {
    "ExecuteTime": {
     "end_time": "2024-07-16T10:28:04.788048Z",
     "start_time": "2024-07-16T10:28:04.775224Z"
    }
   },
   "source": [
    "# vector delete with id\n",
    "x.vector_delete(index_name, [1, 2, 3])"
   ],
   "outputs": [
    {
     "data": {
      "text/plain": [
       "[True, True, True]"
      ]
     },
     "execution_count": 9,
     "metadata": {},
     "output_type": "execute_result"
    }
   ],
   "execution_count": 9
  },
  {
   "cell_type": "code",
   "metadata": {
    "ExecuteTime": {
     "end_time": "2024-07-16T10:28:05.484623Z",
     "start_time": "2024-07-16T10:28:05.469527Z"
    }
   },
   "source": [
    "x.vector_search(index_name, vectors[0])"
   ],
   "outputs": [
    {
     "data": {
      "text/plain": [
       "[{'vectorWithDistances': [{'id': 4,\n",
       "    'vector': {'dimension': 6,\n",
       "     'valueType': 'FLOAT',\n",
       "     'floatValues': [0.775826632976532,\n",
       "      0.8826411962509155,\n",
       "      0.36488598585128784,\n",
       "      0.6153962016105652,\n",
       "      0.07538124173879623,\n",
       "      0.3688240051269531],\n",
       "     'binaryValues': []},\n",
       "    'scalarData': {'a4': {'fieldType': 'STRING', 'fields': ['b4']}},\n",
       "    'distance': 0.9491992592811584,\n",
       "    'metricType': 'METRIC_TYPE_L2'}]}]"
      ]
     },
     "execution_count": 10,
     "metadata": {},
     "output_type": "execute_result"
    }
   ],
   "execution_count": 10
  },
  {
   "cell_type": "code",
   "metadata": {
    "ExecuteTime": {
     "end_time": "2024-07-16T10:29:57.448388Z",
     "start_time": "2024-07-16T10:29:33.018301Z"
    }
   },
   "source": [
    "# Add: scan\n",
    "x.vector_scan(index_name, 1, 2)"
   ],
   "outputs": [
    {
     "ename": "RuntimeError",
     "evalue": "scan index test_index_grpc fail: NotFound (errno:30010) : index_name not found",
     "output_type": "error",
     "traceback": [
      "\u001B[0;31m---------------------------------------------------------------------------\u001B[0m",
      "\u001B[0;31mRuntimeError\u001B[0m                              Traceback (most recent call last)",
      "Cell \u001B[0;32mIn[20], line 2\u001B[0m\n\u001B[1;32m      1\u001B[0m \u001B[38;5;66;03m# Add: scan\u001B[39;00m\n\u001B[0;32m----> 2\u001B[0m \u001B[43mx\u001B[49m\u001B[38;5;241;43m.\u001B[39;49m\u001B[43mvector_scan\u001B[49m\u001B[43m(\u001B[49m\u001B[43mindex_name\u001B[49m\u001B[43m,\u001B[49m\u001B[43m \u001B[49m\u001B[38;5;241;43m1\u001B[39;49m\u001B[43m,\u001B[49m\u001B[43m \u001B[49m\u001B[38;5;241;43m2\u001B[39;49m\u001B[43m)\u001B[49m\n",
      "File \u001B[0;32m~/pydingo/dingodb/sdk_vector/sdk_vector_db.py:331\u001B[0m, in \u001B[0;36mSDKVectorDingoDB.vector_scan\u001B[0;34m(self, index_name, start_id, max_count, is_reverse, with_scalar_data, with_table_data, with_vector_data, fields, filter_scalar, end_id)\u001B[0m\n\u001B[1;32m    297\u001B[0m \u001B[38;5;250m\u001B[39m\u001B[38;5;124;03m\"\"\"\u001B[39;00m\n\u001B[1;32m    298\u001B[0m \u001B[38;5;124;03mvector_scan scan with start_id\u001B[39;00m\n\u001B[1;32m    299\u001B[0m \n\u001B[0;32m   (...)\u001B[0m\n\u001B[1;32m    316\u001B[0m \u001B[38;5;124;03m    list:  scan info list\u001B[39;00m\n\u001B[1;32m    317\u001B[0m \u001B[38;5;124;03m\"\"\"\u001B[39;00m\n\u001B[1;32m    318\u001B[0m params \u001B[38;5;241m=\u001B[39m VectorScanParam(\n\u001B[1;32m    319\u001B[0m     index_name\u001B[38;5;241m=\u001B[39mindex_name,\n\u001B[1;32m    320\u001B[0m     start_id\u001B[38;5;241m=\u001B[39mstart_id,\n\u001B[0;32m   (...)\u001B[0m\n\u001B[1;32m    328\u001B[0m     end_id\u001B[38;5;241m=\u001B[39mend_id,\n\u001B[1;32m    329\u001B[0m )\n\u001B[0;32m--> 331\u001B[0m \u001B[38;5;28;01mreturn\u001B[39;00m \u001B[38;5;28;43mself\u001B[39;49m\u001B[38;5;241;43m.\u001B[39;49m\u001B[43mclient\u001B[49m\u001B[38;5;241;43m.\u001B[39;49m\u001B[43mvector_scan\u001B[49m\u001B[43m(\u001B[49m\u001B[43mparams\u001B[49m\u001B[43m)\u001B[49m\n",
      "File \u001B[0;32m~/pydingo/dingodb/sdk_vector/sdk_vector_client.py:319\u001B[0m, in \u001B[0;36mSDKVectorClient.vector_scan\u001B[0;34m(self, scan_param)\u001B[0m\n\u001B[1;32m    314\u001B[0m     \u001B[38;5;28;01mreturn\u001B[39;00m [\n\u001B[1;32m    315\u001B[0m         sdk_vector_with_id_to_vector_with_id(v)\u001B[38;5;241m.\u001B[39mto_dict()\n\u001B[1;32m    316\u001B[0m         \u001B[38;5;28;01mfor\u001B[39;00m v \u001B[38;5;129;01min\u001B[39;00m result\u001B[38;5;241m.\u001B[39mvectors\n\u001B[1;32m    317\u001B[0m     ]\n\u001B[1;32m    318\u001B[0m \u001B[38;5;28;01melse\u001B[39;00m:\n\u001B[0;32m--> 319\u001B[0m     \u001B[38;5;28;01mraise\u001B[39;00m \u001B[38;5;167;01mRuntimeError\u001B[39;00m(\n\u001B[1;32m    320\u001B[0m         \u001B[38;5;124mf\u001B[39m\u001B[38;5;124m\"\u001B[39m\u001B[38;5;124mscan index \u001B[39m\u001B[38;5;132;01m{\u001B[39;00mscan_param\u001B[38;5;241m.\u001B[39mindex_name\u001B[38;5;132;01m}\u001B[39;00m\u001B[38;5;124m fail: \u001B[39m\u001B[38;5;132;01m{\u001B[39;00ms\u001B[38;5;241m.\u001B[39mToString()\u001B[38;5;132;01m}\u001B[39;00m\u001B[38;5;124m\"\u001B[39m\n\u001B[1;32m    321\u001B[0m     )\n",
      "\u001B[0;31mRuntimeError\u001B[0m: scan index test_index_grpc fail: NotFound (errno:30010) : index_name not found"
     ]
    }
   ],
   "execution_count": 20
  },
  {
   "cell_type": "code",
   "metadata": {
    "ExecuteTime": {
     "end_time": "2024-07-16T10:28:18.179764Z",
     "start_time": "2024-07-16T10:28:18.164717Z"
    }
   },
   "source": [
    "# Add vector count \n",
    "x.vector_count(index_name)"
   ],
   "outputs": [
    {
     "data": {
      "text/plain": [
       "1"
      ]
     },
     "execution_count": 12,
     "metadata": {},
     "output_type": "execute_result"
    }
   ],
   "execution_count": 12
  },
  {
   "cell_type": "code",
   "metadata": {
    "ExecuteTime": {
     "end_time": "2024-07-16T10:28:18.989679Z",
     "start_time": "2024-07-16T10:28:18.976623Z"
    }
   },
   "source": [
    "x.vector_metrics(index_name)"
   ],
   "outputs": [
    {
     "data": {
      "text/plain": [
       "{'indexType': 'Hnsw',\n",
       " 'count': 4,\n",
       " 'deletedCount': 3,\n",
       " 'maxVectorId': 4,\n",
       " 'minVectorId': 4,\n",
       " 'memoryBytes': 2688}"
      ]
     },
     "execution_count": 13,
     "metadata": {},
     "output_type": "execute_result"
    }
   ],
   "execution_count": 13
  },
  {
   "cell_type": "code",
   "metadata": {
    "ExecuteTime": {
     "end_time": "2024-07-16T10:28:20.024257Z",
     "start_time": "2024-07-16T10:28:20.008345Z"
    }
   },
   "source": [
    "x.get_max_index_row(index_name)"
   ],
   "outputs": [
    {
     "data": {
      "text/plain": [
       "4"
      ]
     },
     "execution_count": 14,
     "metadata": {},
     "output_type": "execute_result"
    }
   ],
   "execution_count": 14
  },
  {
   "cell_type": "code",
   "metadata": {
    "ExecuteTime": {
     "end_time": "2024-07-16T10:28:21.001998Z",
     "start_time": "2024-07-16T10:28:20.987849Z"
    }
   },
   "source": [
    "# delete_index\n",
    "x.delete_index(index_name)"
   ],
   "outputs": [
    {
     "data": {
      "text/plain": [
       "True"
      ]
     },
     "execution_count": 15,
     "metadata": {},
     "output_type": "execute_result"
    }
   ],
   "execution_count": 15
  },
  {
   "cell_type": "code",
   "metadata": {
    "ExecuteTime": {
     "end_time": "2024-07-16T10:28:24.130034Z",
     "start_time": "2024-07-16T10:28:24.095670Z"
    }
   },
   "source": [
    "scheme =  ScalarSchema()\n",
    "col = ScalarColumn(\"id\", ScalarType.STRING, True)\n",
    "scheme.add_scalar_column(col)\n",
    "col = ScalarColumn(\"name\", ScalarType.STRING, False)\n",
    "scheme.add_scalar_column(col)\n",
    "\n",
    "x.create_index_with_schema(index_name, 6, scheme, \"hnsw\", \"euclidean\", 3, index_config={\"efConstruction\": 300,\"maxElements\": 60000,\"nlinks\": 64}, operand=[5,10,15,20])\n",
    "\n"
   ],
   "outputs": [
    {
     "data": {
      "text/plain": [
       "True"
      ]
     },
     "execution_count": 16,
     "metadata": {},
     "output_type": "execute_result"
    }
   ],
   "execution_count": 16
  },
  {
   "cell_type": "code",
   "metadata": {
    "ExecuteTime": {
     "end_time": "2024-07-16T10:28:26.369297Z",
     "start_time": "2024-07-16T10:28:24.804556Z"
    }
   },
   "source": [
    "\n",
    "# make dataset\n",
    "# 构建训练数据和查询数据\n",
    "d = 6                           # dimension\n",
    "nb = 4                      # database size\n",
    "np.random.seed(1234)             # make reproducible\n",
    "xb = np.random.random((nb, d)).astype('float32')\n",
    "print(xb)\n",
    "xb[:, 0] += np.arange(nb) / 1000.\n",
    "print(xb)\n",
    "\n",
    "ids = [1, 2, 3, 4]\n",
    "datas = [{\"id\": \"1\", \"name\": \"1\"}, {\"id\": \"2\", \"name\": \"2\"}, {\"id\": \"3\", \"name\": \"3\"}, {\"id\": \"4\", \"name\": \"4\"}]\n",
    "vectors = xb.tolist()\n",
    "\n",
    "x.vector_add(index_name, datas, vectors, ids)"
   ],
   "outputs": [
    {
     "name": "stdout",
     "output_type": "stream",
     "text": [
      "[[0.19151945 0.62210876 0.43772775 0.7853586  0.77997583 0.2725926 ]\n",
      " [0.27646425 0.8018722  0.95813936 0.87593263 0.35781726 0.5009951 ]\n",
      " [0.6834629  0.71270204 0.37025076 0.5611962  0.50308317 0.01376845]\n",
      " [0.7728266  0.8826412  0.364886   0.6153962  0.07538124 0.368824  ]]\n",
      "[[0.19151945 0.62210876 0.43772775 0.7853586  0.77997583 0.2725926 ]\n",
      " [0.27746424 0.8018722  0.95813936 0.87593263 0.35781726 0.5009951 ]\n",
      " [0.6854629  0.71270204 0.37025076 0.5611962  0.50308317 0.01376845]\n",
      " [0.77582663 0.8826412  0.364886   0.6153962  0.07538124 0.368824  ]]\n"
     ]
    },
    {
     "data": {
      "text/plain": [
       "[{'id': 1,\n",
       "  'vector': {'dimension': 6,\n",
       "   'valueType': 'FLOAT',\n",
       "   'floatValues': [0.19151945412158966,\n",
       "    0.6221087574958801,\n",
       "    0.43772774934768677,\n",
       "    0.7853586077690125,\n",
       "    0.7799758315086365,\n",
       "    0.27259260416030884],\n",
       "   'binaryValues': []},\n",
       "  'scalarData': {'id': {'fieldType': 'STRING', 'fields': ['1']},\n",
       "   'name': {'fieldType': 'STRING', 'fields': ['1']}}},\n",
       " {'id': 2,\n",
       "  'vector': {'dimension': 6,\n",
       "   'valueType': 'FLOAT',\n",
       "   'floatValues': [0.27746424078941345,\n",
       "    0.801872193813324,\n",
       "    0.9581393599510193,\n",
       "    0.8759326338768005,\n",
       "    0.35781726241111755,\n",
       "    0.5009950995445251],\n",
       "   'binaryValues': []},\n",
       "  'scalarData': {'id': {'fieldType': 'STRING', 'fields': ['2']},\n",
       "   'name': {'fieldType': 'STRING', 'fields': ['2']}}},\n",
       " {'id': 3,\n",
       "  'vector': {'dimension': 6,\n",
       "   'valueType': 'FLOAT',\n",
       "   'floatValues': [0.6854628920555115,\n",
       "    0.7127020359039307,\n",
       "    0.37025076150894165,\n",
       "    0.5611962080001831,\n",
       "    0.5030831694602966,\n",
       "    0.013768449425697327],\n",
       "   'binaryValues': []},\n",
       "  'scalarData': {'id': {'fieldType': 'STRING', 'fields': ['3']},\n",
       "   'name': {'fieldType': 'STRING', 'fields': ['3']}}},\n",
       " {'id': 4,\n",
       "  'vector': {'dimension': 6,\n",
       "   'valueType': 'FLOAT',\n",
       "   'floatValues': [0.775826632976532,\n",
       "    0.8826411962509155,\n",
       "    0.36488598585128784,\n",
       "    0.6153962016105652,\n",
       "    0.07538124173879623,\n",
       "    0.3688240051269531],\n",
       "   'binaryValues': []},\n",
       "  'scalarData': {'id': {'fieldType': 'STRING', 'fields': ['4']},\n",
       "   'name': {'fieldType': 'STRING', 'fields': ['4']}}}]"
      ]
     },
     "execution_count": 17,
     "metadata": {},
     "output_type": "execute_result"
    }
   ],
   "execution_count": 17
  },
  {
   "cell_type": "code",
   "metadata": {
    "ExecuteTime": {
     "end_time": "2024-07-16T10:28:28.340496Z",
     "start_time": "2024-07-16T10:28:28.328604Z"
    }
   },
   "source": [
    "\n",
    "# get index with id\n",
    "# x.vector_get(index_name, [1, 2, 3, 4])\n",
    "x.vector_get(index_name, [1, 2])"
   ],
   "outputs": [
    {
     "data": {
      "text/plain": [
       "[{'id': 1,\n",
       "  'vector': {'dimension': 6,\n",
       "   'valueType': 'FLOAT',\n",
       "   'floatValues': [0.19151945412158966,\n",
       "    0.6221087574958801,\n",
       "    0.43772774934768677,\n",
       "    0.7853586077690125,\n",
       "    0.7799758315086365,\n",
       "    0.27259260416030884],\n",
       "   'binaryValues': []},\n",
       "  'scalarData': {'id': {'fieldType': 'STRING', 'fields': ['1']},\n",
       "   'name': {'fieldType': 'STRING', 'fields': ['1']}}},\n",
       " {'id': 2,\n",
       "  'vector': {'dimension': 6,\n",
       "   'valueType': 'FLOAT',\n",
       "   'floatValues': [0.27746424078941345,\n",
       "    0.801872193813324,\n",
       "    0.9581393599510193,\n",
       "    0.8759326338768005,\n",
       "    0.35781726241111755,\n",
       "    0.5009950995445251],\n",
       "   'binaryValues': []},\n",
       "  'scalarData': {'id': {'fieldType': 'STRING', 'fields': ['2']},\n",
       "   'name': {'fieldType': 'STRING', 'fields': ['2']}}}]"
      ]
     },
     "execution_count": 18,
     "metadata": {},
     "output_type": "execute_result"
    }
   ],
   "execution_count": 18
  },
  {
   "cell_type": "code",
   "metadata": {
    "ExecuteTime": {
     "end_time": "2024-07-16T10:28:29.083028Z",
     "start_time": "2024-07-16T10:28:29.068183Z"
    }
   },
   "source": [
    "\n",
    "# delete_index\n",
    "x.delete_index(index_name)"
   ],
   "outputs": [
    {
     "data": {
      "text/plain": [
       "True"
      ]
     },
     "execution_count": 19,
     "metadata": {},
     "output_type": "execute_result"
    }
   ],
   "execution_count": 19
  },
  {
   "cell_type": "code",
   "metadata": {
    "ExecuteTime": {
     "end_time": "2024-07-15T05:45:30.636584Z",
     "start_time": "2024-07-15T05:45:30.633672Z"
    }
   },
   "source": [],
   "outputs": [],
   "execution_count": 19
  }
 ],
 "metadata": {
  "kernelspec": {
   "display_name": "pydingo",
   "language": "python",
   "name": "python3"
  },
  "language_info": {
   "codemirror_mode": {
    "name": "ipython",
    "version": 3
   },
   "file_extension": ".py",
   "mimetype": "text/x-python",
   "name": "python",
   "nbconvert_exporter": "python",
   "pygments_lexer": "ipython3",
   "version": "3.9.19"
  }
 },
 "nbformat": 4,
 "nbformat_minor": 2
}
